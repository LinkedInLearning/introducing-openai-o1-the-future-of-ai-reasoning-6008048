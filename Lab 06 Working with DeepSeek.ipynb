{
 "cells": [
  {
   "cell_type": "markdown",
   "metadata": {},
   "source": [
    "# Lab 06: Working with DeepSeek\n",
    "\n",
    "This notebook explores the Document Analysis capabilities of DeepSeek models"
   ]
  },
  {
   "cell_type": "code",
   "execution_count": 21,
   "metadata": {},
   "outputs": [],
   "source": [
    "#!pip install PDFReader\n",
    "import PyPDF2\n",
    "\n",
    "# Function to read PDF file\n",
    "from PyPDF2 import PdfReader\n",
    "\n",
    "import re\n",
    "import os\n",
    "from openai import OpenAI\n",
    "from dotenv import load_dotenv\n",
    "from IPython.display import display, Markdown, HTML, Image"
   ]
  },
  {
   "cell_type": "code",
   "execution_count": 22,
   "metadata": {},
   "outputs": [],
   "source": [
    "import os\n",
    "from azure.ai.inference import ChatCompletionsClient\n",
    "from azure.ai.inference.models import SystemMessage, UserMessage\n",
    "from azure.core.credentials import AzureKeyCredential\n",
    "\n",
    "endpoint = \"https://models.inference.ai.azure.com\"\n",
    "model_name = \"DeepSeek-R1\"\n",
    "token = os.environ[\"githubtoken\"]\n",
    "\n",
    "client = ChatCompletionsClient(\n",
    "    endpoint=endpoint,\n",
    "    credential=AzureKeyCredential(token),\n",
    ")\n",
    "\n"
   ]
  },
  {
   "cell_type": "code",
   "execution_count": 28,
   "metadata": {},
   "outputs": [
    {
     "name": "stdout",
     "output_type": "stream",
     "text": [
      "<instructions>You are an expert in medical data analysis and interpretation. Based on the provided biomarker report—which includes a structured dataset of 40 biomarkers and an unstructured note detailing the patient's background, symptoms, and lifestyle factors—perform the following tasks:\n",
      "1. Extract the key abnormal or noteworthy biomarkers, including their values and reference ranges.\n",
      "2. Identify any patterns or potential clinical correlations (e.g., high cholesterol, elevated inflammatory markers) based on the report.\n",
      "3. Propose a possible set of next steps or recommendations for further investigation or management, using only the information presented in the biomarker data.\n",
      "4. Present your findings in a detailed plain-text format, using simple language as if explaining to a non-medical person, also suggest a diet and exercize recommendations.\n",
      "Only use the information provided in the input data.\n",
      "Create a detailed report in nicely formatted HTML.\n",
      "</instructions>\n"
     ]
    }
   ],
   "source": [
    "structured_prompt = (\n",
    "    \"<instructions>\"\n",
    "    \"You are an expert in medical data analysis and interpretation. \"\n",
    "    \"Based on the provided biomarker report—which includes a structured dataset of 40 biomarkers and an unstructured note detailing the patient's background, symptoms, and lifestyle factors—perform the following tasks:\\n\"\n",
    "    \"1. Extract the key abnormal or noteworthy biomarkers, including their values and reference ranges.\\n\"\n",
    "    \"2. Identify any patterns or potential clinical correlations (e.g., high cholesterol, elevated inflammatory markers) based on the report.\\n\"\n",
    "    \"3. Propose a possible set of next steps or recommendations for further investigation or management, using only the information presented in the biomarker data.\\n\"\n",
    "    \"4. Present your findings in a detailed plain-text format, using simple language as if explaining to a non-medical person, also suggest a diet and exercize recommendations.\\n\"\n",
    "    \"Only use the information provided in the input data.\\n\"\n",
    "    \"Create a detailed report in nicely formatted HTML.\\n\"\n",
    "    \"</instructions>\"\n",
    ")\n",
    "print(structured_prompt)\n"
   ]
  },
  {
   "cell_type": "code",
   "execution_count": 29,
   "metadata": {},
   "outputs": [
    {
     "name": "stdout",
     "output_type": "stream",
     "text": [
      "Biomarker Report  \n",
      "Patient Name:  Jane Doe (Fictitious)  \n",
      "Date of Birth:  02/15/1985 (Fictitious)  \n",
      "Date of Report:  02/24/2025 (Fictitious)  \n",
      "Sample ID:  JD-CP-0040  \n",
      "1. Comprehensive Biomarker Panel  \n",
      "# Biomarker  Result  Reference Range  Note  \n",
      "1 Red Blood Cell (RBC) Count  4.4 x10^6/µL  4.0–5.5 x10^6/µL  Normal  \n",
      "2 Hemoglobin (HGB)  13.8 g/dL  12.0–15.5 g/dL  Normal  \n",
      "3 Hematocrit (HCT)  41 %  36–46 %  Normal  \n",
      "4 Mean Corpuscular Volume (MCV)  90 fL  80–100 fL  Normal  \n",
      "5 Mean Corpuscular Hemoglobin (MCH)  30 pg  27–33 pg  Normal  \n",
      "6 Mean Corpuscular Hemoglobin Conc. \n",
      "(MCHC)  34 g/dL  32–36 g/dL  Normal  \n",
      "7 Red Cell Distribution Width (RDW)  13 %  11–15 %  Normal  \n",
      "8 White Blood Cell (WBC) Count  7.0 x10^3/µL  4.0–11.0 x10^3/µL  Normal  \n",
      "9 Neutrophils  60 %  40–70 %  Normal  \n",
      "10 Lymphocytes  30 %  20–40 %  Normal  \n",
      "11 Monocytes  7 %  2–10 %  Normal  \n",
      "12 Eosinophils  2 %  1–5 %  Normal  \n",
      "13 Basophils  1 %  0–2 %  Normal  \n",
      "14 Platelet Count  220 x10^3/µL  150–400 x10^3/µL  Normal  \n",
      "15 Mean Platelet Volume (MPV)  9 fL  7.5–11.5 fL  Normal  \n",
      "16 Fasting Glucose  90 mg/dL  70–99 mg/dL  Normal  \n",
      "17 Hemoglobin A1c  5.3 %  4.0–5.6 %  Normal  \n",
      "18 Blood Urea Nitrogen (BUN)  14 mg/dL  7–20 mg/dL  Normal  \n",
      "19 Creatinine  0.9 mg/dL  0.6–1.2 mg/dL  Normal  \n",
      "# Biomarker  Result  Reference Range  Note  \n",
      "20 Estimated GFR (eGFR)  95 \n",
      "mL/min/1.73m²  >90 \n",
      "mL/min/1.73m²  Normal  \n",
      "21 Sodium (Na)  140 mmol/L  135–145 mmol/L  Normal  \n",
      "22 Potassium (K)  4.3 mmol/L  3.5–5.1 mmol/L  Normal  \n",
      "23 Chloride (Cl)  101 mmol/L  98–107 mmol/L  Normal  \n",
      "24 Bicarbonate (HCO3) / CO2  26 mmol/L  23–29 mmol/L  Normal  \n",
      "25 Calcium (Ca)  9.5 mg/dL  8.5–10.5 mg/dL  Normal  \n",
      "26 Phosphorus (P)  3.5 mg/dL  2.5–4.5 mg/dL  Normal  \n",
      "27 Magnesium (Mg)  1.9 mg/dL  1.7–2.2 mg/dL  Normal  \n",
      "28 Total Protein  7.3 g/dL  6.0–8.3 g/dL  Normal  \n",
      "29 Albumin  4.5 g/dL  3.4–5.0 g/dL  Normal  \n",
      "30 Total Bilirubin  0.8 mg/dL  0.3–1.2 mg/dL  Normal  \n",
      "31 Aspartate Aminotransferase (AST)  25 U/L  10–35 U/L  Normal  \n",
      "32 Alanine Aminotransferase (ALT)  30 U/L  7–35 U/L  Normal  \n",
      "33 Alkaline Phosphatase (ALP)  80 U/L  40–120 U/L  Normal  \n",
      "34 Gamma-Glutamyl Transferase (GGT)  22 U/L  9–48 U/L  Normal  \n",
      "35 Lactate Dehydrogenase (LDH)  170 U/L  140–280 U/L  Normal  \n",
      "36 Total Cholesterol  250 mg/dL  <200 mg/dL  High  \n",
      "37 Low-Density Lipoprotein (LDL)  160 mg/dL  <100 mg/dL  Elevated  \n",
      "38 High-Density Lipoprotein (HDL)  45 mg/dL  >50 mg/dL \n",
      "(female)  Slightly low  \n",
      "39 Triglycerides  180 mg/dL  <150 mg/dL  Mildly elevated  \n",
      "40 C-Reactive Protein (CRP)  3 mg/L  <3 mg/L  Upper limit of \n",
      "normal  \n",
      " \n",
      "\n"
     ]
    }
   ],
   "source": [
    "biomarker_report = PdfReader(\"Data/Biomarker Report.pdf\")\n",
    "# Function to read JSON file\n",
    "\n",
    "pdf_text = \"\"\n",
    "for page in biomarker_report.pages:\n",
    "    pdf_text += page.extract_text() + \"\\n\"\n",
    "\n",
    "print(pdf_text)\n"
   ]
  },
  {
   "cell_type": "code",
   "execution_count": 30,
   "metadata": {},
   "outputs": [],
   "source": [
    "response = client.complete(\n",
    "    messages=[\n",
    "        UserMessage(content= structured_prompt + pdf_text),\n",
    "    ],\n",
    "    model=model_name\n",
    ")\n",
    "\n",
    "#print(response.choices[0].message.content)"
   ]
  },
  {
   "cell_type": "code",
   "execution_count": 31,
   "metadata": {},
   "outputs": [
    {
     "data": {
      "text/html": [
       "<div style=\"background-color: #f0fff8; padding: 10px; border-radius: 5px; border: 1px solid #d3d3d3;\"></hr><h2>🔽 &nbsp; Markdown Output – Beginning</h2></hr></div>"
      ],
      "text/plain": [
       "<IPython.core.display.HTML object>"
      ]
     },
     "metadata": {},
     "output_type": "display_data"
    },
    {
     "data": {
      "text/markdown": [
       "<think>\n",
       "Okay, let me start by reading through the user's query and the provided biomarker report. The user wants an expert analysis of Jane Doe's medical data, including extracting abnormal biomarkers, identifying patterns, suggesting next steps, and providing lifestyle advice. They want this in plain text but formatted as HTML.\n",
       "\n",
       "First, I need to parse the biomarker report. Looking through the 40 biomarkers, most are within normal ranges. The key ones flagged are Total Cholesterol, LDL, HDL, Triglycerides, and CRP. Each has their reference ranges and notes indicating they're high or low.\n",
       "\n",
       "Total Cholesterol is 250 (ref <200), LDL 160 (ref <100), HDL 45 (ref >50 for females), Triglycerides 180 (ref <150), and CRP at 3 (ref <3). These are the abnormal values. The others are all normal.\n",
       "\n",
       "Next, identifying patterns. High LDL and Total Cholesterol point to hyperlipidemia, which increases cardiovascular risk. Low HDL adds to that. Triglycerides being mildly elevated is another lipid issue. CRP at the upper limit suggests possible inflammation, which could be related to cardiovascular risk or other inflammation sources.\n",
       "\n",
       "For next steps, since the lipid panel is the main issue, a lipid profile retest makes sense. Also, checking inflammation causes with more tests like hs-CRP or ESR. Maybe liver function tests since ALT is at the upper normal range, but the note says it's normal. Wait, ALT is 30, which is within 7-35, so actually normal. So maybe not necessary. Focus on lipids and inflammation.\n",
       "\n",
       "Diet recommendations should target lowering LDL and triglycerides. Increase fiber, omega-3s, reduce saturated fats, sugars. Exercise advice: aerobic and resistance training to improve HDL and lower LDL. Weight management if needed, but the report doesn't mention weight.\n",
       "\n",
       "Potential clinical correlations: High cholesterol (hyperlipidemia), inflammation, increased cardiovascular risk.\n",
       "\n",
       "Need to make sure all info only comes from the data provided. No other assumptions. Present in simple language, HTML formatted. Avoid medical jargon as much as possible, but still accurate.\n",
       "\n",
       "Check if all the abnormal biomarkers are correctly extracted. CRP is exactly at 3, which is the upper limit, so it's noted. HDL is slightly below female reference. Triglycerides are mildly elevated. LDL is elevated.\n",
       "\n",
       "Possible next steps include confirming lipid levels, assessing inflammation further, and lifestyle changes. No mention of diabetes or kidney issues since glucose, HbA1c, eGFR are normal.\n",
       "\n",
       "Diet: Emphasize whole grains, vegetables, healthy fats like avocado, nuts. Avoid trans fats, high-sugar foods. Exercise: 150 mins moderate aerobic, plus strength training.\n",
       "\n",
       "Make sure the HTML is properly formatted with sections for each task, using headings, lists, maybe bold text for important points. Keep paragraphs concise. No markdown, just HTML tags.\n",
       "</think>\n",
       "\n",
       "```html\n",
       "<!DOCTYPE html>\n",
       "<html lang=\"en\">\n",
       "<head>\n",
       "    <meta charset=\"UTF-8\">\n",
       "    <meta name=\"viewport\" content=\"width=device-width, initial-scale=1.0\">\n",
       "    <title>Biomarker Analysis Report for Jane Doe</title>\n",
       "    <style>\n",
       "        body { font-family: Arial, sans-serif; line-height: 1.6; padding: 20px; }\n",
       "        h2 { color: #2c3e50; }\n",
       "        .section { margin-bottom: 25px; }\n",
       "        ul { list-style-type: none; padding-left: 0; }\n",
       "        li { margin-bottom: 8px; }\n",
       "        .highlight { color: #e74c3c; font-weight: bold; }\n",
       "    </style>\n",
       "</head>\n",
       "<body>\n",
       "    <h1>Biomarker Analysis Report for Jane Doe</h1>\n",
       "\n",
       "    <div class=\"section\">\n",
       "        <h2>🔍 Key Abnormal Biomarkers</h2>\n",
       "        <ul>\n",
       "            <li><span class=\"highlight\">Total Cholesterol:</span> 250 mg/dL (Normal: &lt;200 mg/dL)</li>\n",
       "            <li><span class=\"highlight\">LDL (\"Bad\" Cholesterol):</span> 160 mg/dL (Normal: &lt;100 mg/dL)</li>\n",
       "            <li><span class=\"highlight\">HDL (\"Good\" Cholesterol):</span> 45 mg/dL (Normal for women: &gt;50 mg/dL)</li>\n",
       "            <li><span class=\"highlight\">Triglycerides:</span> 180 mg/dL (Normal: &lt;150 mg/dL)</li>\n",
       "            <li><span class=\"highlight\">C-Reactive Protein (CRP):</span> 3 mg/L (Normal: &lt;3 mg/L)</li>\n",
       "        </ul>\n",
       "    </div>\n",
       "\n",
       "    <div class=\"section\">\n",
       "        <h2>🧩 Patterns & Potential Concerns</h2>\n",
       "        <ul>\n",
       "            <li>⚠️ <strong>High Cholesterol:</strong> Elevated LDL and total cholesterol with low HDL suggest increased risk for heart disease.</li>\n",
       "            <li>💡 <strong>Inflammation Marker:</strong> CRP at the upper limit of normal may indicate low-grade inflammation.</li>\n",
       "            <li>🔗 <strong>Combined Risk:</strong> High triglycerides paired with low HDL further increase cardiovascular risk.</li>\n",
       "        </ul>\n",
       "    </div>\n",
       "\n",
       "    <div class=\"section\">\n",
       "        <h2>🩺 Recommended Next Steps</h2>\n",
       "        <ul>\n",
       "            <li><strong>Repeat Lipid Panel:</strong> Confirm cholesterol levels with a follow-up test in 3 months.</li>\n",
       "            <li><strong>Advanced Inflammation Testing:</strong> Consider hs-CRP or ESR to assess inflammation.</li>\n",
       "            <li><strong>Cardiac Risk Assessment:</strong> Discuss Framingham Risk Score or coronary calcium scoring with your doctor.</li>\n",
       "        </ul>\n",
       "    </div>\n",
       "\n",
       "    <div class=\"section\">\n",
       "        <h2>🥗 Diet & Lifestyle Recommendations</h2>\n",
       "        <h3>Dietary Changes:</h3>\n",
       "        <ul>\n",
       "            <li>✅ Increase soluble fiber (oats, beans, apples)</li>\n",
       "            <li>✅ Choose healthy fats (avocados, olive oil, fatty fish)</li>\n",
       "            <li>❌ Reduce saturated fats (red meat, butter, fried foods)</li>\n",
       "            <li>❌ Limit added sugars and refined carbs</li>\n",
       "        </ul>\n",
       "\n",
       "        <h3>Exercise Plan:</h3>\n",
       "        <ul>\n",
       "            <li>💪 <strong>Aerobic Exercise:</strong> 150 mins/week moderate activity (brisk walking, cycling)</li>\n",
       "            <li>🏋️ <strong>Strength Training:</strong> 2 days/week (bodyweight exercises, resistance bands)</li>\n",
       "            <li>🧘 <strong>Stress Management:</strong> Include yoga or meditation for inflammation reduction</li>\n",
       "        </ul>\n",
       "    </div>\n",
       "\n",
       "    <div class=\"section\">\n",
       "        <h2>🔬 Important Notes</h2>\n",
       "        <p>All other biomarkers (blood cells, liver/kidney function, blood sugar) are within normal ranges. No immediate concerns were found outside the cholesterol and inflammation markers highlighted above. Always consult your healthcare provider before making significant lifestyle changes.</p>\n",
       "    </div>\n",
       "</body>\n",
       "</html>\n",
       "```"
      ],
      "text/plain": [
       "<IPython.core.display.Markdown object>"
      ]
     },
     "metadata": {},
     "output_type": "display_data"
    },
    {
     "data": {
      "text/html": [
       "<div style=\"background-color: #fff4f4; padding: 10px; border-radius: 5px; border: 1px solid #d3d3d3;\"></hr><h2>🔼 &nbsp; Markdown Output – End</h2></hr></div>"
      ],
      "text/plain": [
       "<IPython.core.display.HTML object>"
      ]
     },
     "metadata": {},
     "output_type": "display_data"
    }
   ],
   "source": [
    "display(HTML('<div style=\"background-color: #f0fff8; padding: 10px; border-radius: 5px; border: 1px solid #d3d3d3;\"></hr><h2>🔽 &nbsp; Markdown Output – Beginning</h2></hr></div>'))\n",
    "display(Markdown(response.choices[0].message.content))\n",
    "display(HTML('<div style=\"background-color: #fff4f4; padding: 10px; border-radius: 5px; border: 1px solid #d3d3d3;\"></hr><h2>🔼 &nbsp; Markdown Output – End</h2></hr></div>'))"
   ]
  },
  {
   "cell_type": "code",
   "execution_count": 32,
   "metadata": {},
   "outputs": [
    {
     "name": "stdout",
     "output_type": "stream",
     "text": [
      "HTML content has been written to output_deepseek.html\n"
     ]
    }
   ],
   "source": [
    "\n",
    "# Assuming response.choices[0].message.content contains the HTML content\n",
    "html_content_deepseek = response.choices[0].message.content\n",
    "# Extract the HTML content by removing the <think> tags and their content\n",
    "\n",
    "html_content_deepseek = re.sub(r'<think>.*?</think>', '', html_content_deepseek, flags=re.DOTALL).strip()\n",
    "\n",
    "# Define the file path where you want to save the HTML content\n",
    "file_path = 'output_deepseek.html'\n",
    "\n",
    "# Write the HTML content to the file\n",
    "with open(file_path, 'w', encoding='utf-8') as file:\n",
    "    file.write(html_content_deepseek)\n",
    "\n",
    "print(f\"HTML content has been written to {file_path}\")"
   ]
  },
  {
   "cell_type": "code",
   "execution_count": null,
   "metadata": {},
   "outputs": [],
   "source": []
  }
 ],
 "metadata": {
  "kernelspec": {
   "display_name": "base",
   "language": "python",
   "name": "python3"
  },
  "language_info": {
   "codemirror_mode": {
    "name": "ipython",
    "version": 3
   },
   "file_extension": ".py",
   "mimetype": "text/x-python",
   "name": "python",
   "nbconvert_exporter": "python",
   "pygments_lexer": "ipython3",
   "version": "3.11.7"
  }
 },
 "nbformat": 4,
 "nbformat_minor": 2
}
