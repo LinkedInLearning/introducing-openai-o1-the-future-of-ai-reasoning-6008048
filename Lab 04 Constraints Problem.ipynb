{
 "cells": [
  {
   "cell_type": "markdown",
   "metadata": {},
   "source": [
    "# Lab 04: Constraint Satisfaction Problem with o-series reasonining models\n",
    "\n",
    "This notebook explores the constraint satisfaction capabilities of o-series reasoning models.\n",
    "Solving optimization challenges when resources (time, budget) are limited.\n",
    "\n",
    "This example shows a Domino’s pizza store manager who must create a four‑week schedule for eight employees. The manager uses two types of data: a structured dataset with shift availability and an unstructured document with personal preferences and commitments. The goal is to assign shifts that respect each employee’s available times and preferences."
   ]
  },
  {
   "cell_type": "code",
   "execution_count": 1,
   "metadata": {},
   "outputs": [
    {
     "name": "stdout",
     "output_type": "stream",
     "text": [
      "Requirement already satisfied: PDFReader in c:\\users\\akaruparti\\anaconda\\lib\\site-packages (0.1.15)\n",
      "Requirement already satisfied: bitarray>=1.1.0 in c:\\users\\akaruparti\\anaconda\\lib\\site-packages (from PDFReader) (3.0.0)\n",
      "Requirement already satisfied: pillow>=7.1.0 in c:\\users\\akaruparti\\anaconda\\lib\\site-packages (from PDFReader) (10.2.0)\n",
      "Requirement already satisfied: pycryptodome>=3.9.9 in c:\\users\\akaruparti\\anaconda\\lib\\site-packages (from PDFReader) (3.21.0)\n",
      "Requirement already satisfied: python-dateutil>=2.8.1 in c:\\users\\akaruparti\\anaconda\\lib\\site-packages (from PDFReader) (2.9.0.post0)\n",
      "Requirement already satisfied: six>=1.5 in c:\\users\\akaruparti\\anaconda\\lib\\site-packages (from python-dateutil>=2.8.1->PDFReader) (1.17.0)\n"
     ]
    }
   ],
   "source": [
    "!pip install PDFReader\n",
    "import PyPDF2\n",
    "\n",
    "# Function to read PDF file\n",
    "from PyPDF2 import PdfReader\n",
    "\n",
    "import json\n"
   ]
  },
  {
   "cell_type": "code",
   "execution_count": 3,
   "metadata": {},
   "outputs": [],
   "source": [
    "## This is a Test Code\n",
    "\"\"\"Run this model in Python\n",
    "\n",
    "> pip install openai\n",
    "\"\"\"\n",
    "import os\n",
    "from openai import OpenAI\n",
    "from dotenv import load_dotenv\n",
    "from IPython.display import display, Markdown, HTML, Image\n",
    "\n",
    "# Load environment variables from .env file\n",
    "load_dotenv()\n",
    "\n",
    "# To authenticate with the model you will need to generate a personal access token (PAT) in your GitHub settings. \n",
    "# Create your PAT token by following instructions here: https://docs.github.com/en/authentication/keeping-your-account-and-data-secure/managing-your-personal-access-tokens\n",
    "client = OpenAI(\n",
    "    base_url=\"https://models.inference.ai.azure.com\",\n",
    "    api_key=os.environ[\"githubtoken1\"],\n",
    ")\n"
   ]
  },
  {
   "cell_type": "markdown",
   "metadata": {},
   "source": [
    "## Step 1. Read Data from Structured and Unstructured Files\n",
    "\n",
    "Structured data consists of staff availability in JSON format.\n",
    "Unstructured data consists of employee preferences."
   ]
  },
  {
   "cell_type": "code",
   "execution_count": 4,
   "metadata": {},
   "outputs": [
    {
     "name": "stdout",
     "output_type": "stream",
     "text": [
      "<PyPDF2._reader.PdfReader object at 0x00000242688F7090>\n",
      "{'staffAvailability': [{'name': 'Alice', 'week1': {'Monday': '8-2', 'Tuesday': 'Off', 'Wednesday': '8-2', 'Thursday': '8-2', 'Friday': '8-2', 'Saturday': 'Off', 'Sunday': 'Off'}, 'week2': {'Monday': '8-2', 'Tuesday': 'Off', 'Wednesday': '8-2', 'Thursday': '8-2', 'Friday': '8-2', 'Saturday': 'Off', 'Sunday': 'Off'}, 'week3': {'Monday': '8-2', 'Tuesday': 'Off', 'Wednesday': '8-2', 'Thursday': '8-2', 'Friday': '8-2', 'Saturday': 'Off', 'Sunday': 'Off'}, 'week4': {'Monday': '8-2', 'Tuesday': 'Off', 'Wednesday': '8-2', 'Thursday': '8-2', 'Friday': '8-2', 'Saturday': 'Off', 'Sunday': 'Off'}}, {'name': 'Bob', 'week1': {'Monday': 'Off', 'Tuesday': '2-8', 'Wednesday': '2-8', 'Thursday': '2-8', 'Friday': '2-8', 'Saturday': '2-8', 'Sunday': 'Off'}, 'week2': {'Monday': 'Off', 'Tuesday': '2-8', 'Wednesday': '2-8', 'Thursday': '2-8', 'Friday': '2-8', 'Saturday': '2-8', 'Sunday': 'Off'}, 'week3': {'Monday': 'Off', 'Tuesday': '2-8', 'Wednesday': '2-8', 'Thursday': '2-8', 'Friday': '2-8', 'Saturday': '2-8', 'Sunday': 'Off'}, 'week4': {'Monday': 'Off', 'Tuesday': '2-8', 'Wednesday': '2-8', 'Thursday': '2-8', 'Friday': '2-8', 'Saturday': '2-8', 'Sunday': 'Off'}}, {'name': 'Carol', 'week1': {'Monday': 'Off', 'Tuesday': 'Off', 'Wednesday': '2-8', 'Thursday': '2-8', 'Friday': 'Off', 'Saturday': '8-2', 'Sunday': '8-2'}, 'week2': {'Monday': 'Off', 'Tuesday': 'Off', 'Wednesday': '2-8', 'Thursday': '2-8', 'Friday': 'Off', 'Saturday': '8-2', 'Sunday': '8-2'}, 'week3': {'Monday': 'Off', 'Tuesday': 'Off', 'Wednesday': '2-8', 'Thursday': '2-8', 'Friday': 'Off', 'Saturday': '8-2', 'Sunday': '8-2'}, 'week4': {'Monday': 'Off', 'Tuesday': 'Off', 'Wednesday': '2-8', 'Thursday': '2-8', 'Friday': 'Off', 'Saturday': '8-2', 'Sunday': '8-2'}}, {'name': 'Dave', 'week1': {'Monday': '10-4', 'Tuesday': '10-4', 'Wednesday': '10-4', 'Thursday': '10-4', 'Friday': 'Off', 'Saturday': 'Off', 'Sunday': '10-4'}, 'week2': {'Monday': '10-4', 'Tuesday': '10-4', 'Wednesday': '10-4', 'Thursday': '10-4', 'Friday': 'Off', 'Saturday': 'Off', 'Sunday': '10-4'}, 'week3': {'Monday': '10-4', 'Tuesday': '10-4', 'Wednesday': '10-4', 'Thursday': '10-4', 'Friday': 'Off', 'Saturday': 'Off', 'Sunday': '10-4'}, 'week4': {'Monday': '10-4', 'Tuesday': '10-4', 'Wednesday': '10-4', 'Thursday': '10-4', 'Friday': 'Off', 'Saturday': 'Off', 'Sunday': '10-4'}}, {'name': 'Eric', 'week1': {'Monday': '8-2', 'Tuesday': '8-2', 'Wednesday': '8-2', 'Thursday': 'Off', 'Friday': '8-2', 'Saturday': 'Off', 'Sunday': '8-2'}, 'week2': {'Monday': '8-2', 'Tuesday': '8-2', 'Wednesday': '8-2', 'Thursday': 'Off', 'Friday': '8-2', 'Saturday': 'Off', 'Sunday': '8-2'}, 'week3': {'Monday': '8-2', 'Tuesday': '8-2', 'Wednesday': '8-2', 'Thursday': 'Off', 'Friday': '8-2', 'Saturday': 'Off', 'Sunday': '8-2'}, 'week4': {'Monday': '8-2', 'Tuesday': '8-2', 'Wednesday': '8-2', 'Thursday': 'Off', 'Friday': '8-2', 'Saturday': 'Off', 'Sunday': '8-2'}}, {'name': 'Fiona', 'week1': {'Monday': 'Off', 'Tuesday': 'Off', 'Wednesday': '2-8', 'Thursday': '2-8', 'Friday': '2-8', 'Saturday': '2-8', 'Sunday': '2-8'}, 'week2': {'Monday': 'Off', 'Tuesday': 'Off', 'Wednesday': '2-8', 'Thursday': '2-8', 'Friday': '2-8', 'Saturday': '2-8', 'Sunday': '2-8'}, 'week3': {'Monday': 'Off', 'Tuesday': 'Off', 'Wednesday': '2-8', 'Thursday': '2-8', 'Friday': '2-8', 'Saturday': '2-8', 'Sunday': '2-8'}, 'week4': {'Monday': 'Off', 'Tuesday': 'Off', 'Wednesday': '2-8', 'Thursday': '2-8', 'Friday': '2-8', 'Saturday': '2-8', 'Sunday': '2-8'}}, {'name': 'George', 'week1': {'Monday': '8-2', 'Tuesday': '8-2', 'Wednesday': '8-2', 'Thursday': '8-2', 'Friday': '8-2', 'Saturday': 'Off', 'Sunday': 'Off'}, 'week2': {'Monday': '8-2', 'Tuesday': '8-2', 'Wednesday': '8-2', 'Thursday': '8-2', 'Friday': '8-2', 'Saturday': 'Off', 'Sunday': 'Off'}, 'week3': {'Monday': '8-2', 'Tuesday': '8-2', 'Wednesday': '8-2', 'Thursday': '8-2', 'Friday': '8-2', 'Saturday': 'Off', 'Sunday': 'Off'}, 'week4': {'Monday': '8-2', 'Tuesday': '8-2', 'Wednesday': '8-2', 'Thursday': '8-2', 'Friday': '8-2', 'Saturday': 'Off', 'Sunday': 'Off'}}, {'name': 'Hannah', 'week1': {'Monday': 'Off', 'Tuesday': 'Off', 'Wednesday': '10-4', 'Thursday': '10-4', 'Friday': '10-4', 'Saturday': 'Off', 'Sunday': '10-4'}, 'week2': {'Monday': 'Off', 'Tuesday': 'Off', 'Wednesday': '10-4', 'Thursday': '10-4', 'Friday': '10-4', 'Saturday': 'Off', 'Sunday': '10-4'}, 'week3': {'Monday': 'Off', 'Tuesday': 'Off', 'Wednesday': '10-4', 'Thursday': '10-4', 'Friday': '10-4', 'Saturday': 'Off', 'Sunday': '10-4'}, 'week4': {'Monday': 'Off', 'Tuesday': 'Off', 'Wednesday': '10-4', 'Thursday': '10-4', 'Friday': '10-4', 'Saturday': 'Off', 'Sunday': '10-4'}}]}\n"
     ]
    }
   ],
   "source": [
    "reader = PdfReader(\"Data/Staff Commitments.pdf\")\n",
    "# Function to read JSON file\n",
    "def read_json(file_path):\n",
    "    with open(file_path, 'r') as file:\n",
    "        data = json.load(file)\n",
    "    return data\n",
    "\n",
    "json_data = read_json('Data/staff_availability.json')\n",
    "\n",
    "print(reader)\n",
    "print(json_data)"
   ]
  },
  {
   "cell_type": "code",
   "execution_count": 5,
   "metadata": {},
   "outputs": [
    {
     "name": "stdout",
     "output_type": "stream",
     "text": [
      "• Alice:  \n",
      "Prefers early shifts. Cannot work on Tuesday and weekends due to family commitments. \n",
      "Needs to leave by 2  p.m. for childcare.  \n",
      " \n",
      "• Bob:  \n",
      "Enjoys later shifts; available Tuesday through Saturday afternoons. He avoids Monday and \n",
      "Sunday because of personal errands.  \n",
      " \n",
      "• Carol:  \n",
      "Has classes early in the week. Works only Wednesday –Thursday afternoons and Saturday –\n",
      "Sunday mornings.  \n",
      " \n",
      "• Dave:  \n",
      "Has a late start on Monday (class in the morning) but is free Tuesday to Thursday. Prefers \n",
      "working Sunday but takes Friday off.  \n",
      " \n",
      "• Eric:  \n",
      "Likes consistent morning shifts on Monday, Tuesday, Wednesday, and Friday. He keeps \n",
      "Thursday and Saturday mostly free.  \n",
      " \n",
      " \n",
      "• Fiona:  \n",
      "Runs errands on Monday –Tuesday, so she starts on Wednesdays. She prefers afternoon \n",
      "shifts and works evenings through Sunday.  \n",
      " \n",
      "• George:  \n",
      "An early riser who works Monday to Friday mornings only. He does not work weekends due \n",
      "to community commitments.  \n",
      " \n",
      " \n",
      "• Hannah:  \n",
      "Often travels early in the week. Available Wednesday to Friday and Sunday for mid -morning \n",
      "to early afternoon shifts.  \n",
      " \n",
      "\n"
     ]
    }
   ],
   "source": [
    "pdf_text = \"\"\n",
    "for page in reader.pages:\n",
    "    pdf_text += page.extract_text() + \"\\n\"\n",
    "\n",
    "print(pdf_text)"
   ]
  },
  {
   "cell_type": "markdown",
   "metadata": {},
   "source": [
    "## Step 2. Craft a Detailed Prompt with Clear Instructions"
   ]
  },
  {
   "cell_type": "code",
   "execution_count": 6,
   "metadata": {},
   "outputs": [
    {
     "name": "stdout",
     "output_type": "stream",
     "text": [
      "<instructions>You are an expert in scheduling and constraint-satisfaction problems. Based on the provided scheduling data—which includes a structured dataset of employee availability and an unstructured document detailing personal commitments and preferences—perform the following tasks:\n",
      "1. Extract the key details for each employee, including their availability and any preferences or constraints noted in the unstructured data.\n",
      "2. Identify all scheduling constraints, such as unavailable times and shift preferences.\n",
      "3. Develop a proposed four‑week schedule that assigns shifts (for example, two employees per day) while respecting all identified constraints.\n",
      "4. There must always be a member assigned to each shift Morning 8am-2pm and 2pm-8pm\n",
      "Present your findings and the proposed schedule in a clear, concise plain-text report, using simple language.\n",
      "Only use the information provided in the input data.Create an detailed report in nicely formatted HTML</instructions>\n"
     ]
    }
   ],
   "source": [
    "structured_prompt = (\n",
    "    \"<instructions>\"\n",
    "    \"You are an expert in scheduling and constraint-satisfaction problems. \"\n",
    "    \"Based on the provided scheduling data—which includes a structured dataset of employee availability and an unstructured document detailing personal commitments and preferences—perform the following tasks:\\n\"\n",
    "    \"1. Extract the key details for each employee, including their availability and any preferences or constraints noted in the unstructured data.\\n\"\n",
    "    \"2. Identify all scheduling constraints, such as unavailable times and shift preferences.\\n\"\n",
    "    \"3. Develop a proposed four‑week schedule that assigns shifts (for example, two employees per day) while respecting all identified constraints.\\n\"\n",
    "    \"4. There must always be a member assigned to each shift Morning 8am-2pm and 2pm-8pm\\n\"\n",
    "    \"Present your findings and the proposed schedule in a clear, concise plain-text report, using simple language.\\n\"\n",
    "    \"Only use the information provided in the input data.\"\n",
    "    \"Create an detailed report in nicely formatted HTML\"\n",
    "    \"</instructions>\"\n",
    ")\n",
    "print(structured_prompt)"
   ]
  },
  {
   "cell_type": "markdown",
   "metadata": {},
   "source": [
    "## Step 3. Combining preference and availability data from PDF and JSON"
   ]
  },
  {
   "cell_type": "code",
   "execution_count": 7,
   "metadata": {},
   "outputs": [
    {
     "data": {
      "text/plain": [
       "'{\"staffAvailability\": [{\"name\": \"Alice\", \"week1\": {\"Monday\": \"8-2\", \"Tuesday\": \"Off\", \"Wednesday\": \"8-2\", \"Thursday\": \"8-2\", \"Friday\": \"8-2\", \"Saturday\": \"Off\", \"Sunday\": \"Off\"}, \"week2\": {\"Monday\": \"8-2\", \"Tuesday\": \"Off\", \"Wednesday\": \"8-2\", \"Thursday\": \"8-2\", \"Friday\": \"8-2\", \"Saturday\": \"Off\", \"Sunday\": \"Off\"}, \"week3\": {\"Monday\": \"8-2\", \"Tuesday\": \"Off\", \"Wednesday\": \"8-2\", \"Thursday\": \"8-2\", \"Friday\": \"8-2\", \"Saturday\": \"Off\", \"Sunday\": \"Off\"}, \"week4\": {\"Monday\": \"8-2\", \"Tuesday\": \"Off\", \"Wednesday\": \"8-2\", \"Thursday\": \"8-2\", \"Friday\": \"8-2\", \"Saturday\": \"Off\", \"Sunday\": \"Off\"}}, {\"name\": \"Bob\", \"week1\": {\"Monday\": \"Off\", \"Tuesday\": \"2-8\", \"Wednesday\": \"2-8\", \"Thursday\": \"2-8\", \"Friday\": \"2-8\", \"Saturday\": \"2-8\", \"Sunday\": \"Off\"}, \"week2\": {\"Monday\": \"Off\", \"Tuesday\": \"2-8\", \"Wednesday\": \"2-8\", \"Thursday\": \"2-8\", \"Friday\": \"2-8\", \"Saturday\": \"2-8\", \"Sunday\": \"Off\"}, \"week3\": {\"Monday\": \"Off\", \"Tuesday\": \"2-8\", \"Wednesday\": \"2-8\", \"Thursday\": \"2-8\", \"Friday\": \"2-8\", \"Saturday\": \"2-8\", \"Sunday\": \"Off\"}, \"week4\": {\"Monday\": \"Off\", \"Tuesday\": \"2-8\", \"Wednesday\": \"2-8\", \"Thursday\": \"2-8\", \"Friday\": \"2-8\", \"Saturday\": \"2-8\", \"Sunday\": \"Off\"}}, {\"name\": \"Carol\", \"week1\": {\"Monday\": \"Off\", \"Tuesday\": \"Off\", \"Wednesday\": \"2-8\", \"Thursday\": \"2-8\", \"Friday\": \"Off\", \"Saturday\": \"8-2\", \"Sunday\": \"8-2\"}, \"week2\": {\"Monday\": \"Off\", \"Tuesday\": \"Off\", \"Wednesday\": \"2-8\", \"Thursday\": \"2-8\", \"Friday\": \"Off\", \"Saturday\": \"8-2\", \"Sunday\": \"8-2\"}, \"week3\": {\"Monday\": \"Off\", \"Tuesday\": \"Off\", \"Wednesday\": \"2-8\", \"Thursday\": \"2-8\", \"Friday\": \"Off\", \"Saturday\": \"8-2\", \"Sunday\": \"8-2\"}, \"week4\": {\"Monday\": \"Off\", \"Tuesday\": \"Off\", \"Wednesday\": \"2-8\", \"Thursday\": \"2-8\", \"Friday\": \"Off\", \"Saturday\": \"8-2\", \"Sunday\": \"8-2\"}}, {\"name\": \"Dave\", \"week1\": {\"Monday\": \"10-4\", \"Tuesday\": \"10-4\", \"Wednesday\": \"10-4\", \"Thursday\": \"10-4\", \"Friday\": \"Off\", \"Saturday\": \"Off\", \"Sunday\": \"10-4\"}, \"week2\": {\"Monday\": \"10-4\", \"Tuesday\": \"10-4\", \"Wednesday\": \"10-4\", \"Thursday\": \"10-4\", \"Friday\": \"Off\", \"Saturday\": \"Off\", \"Sunday\": \"10-4\"}, \"week3\": {\"Monday\": \"10-4\", \"Tuesday\": \"10-4\", \"Wednesday\": \"10-4\", \"Thursday\": \"10-4\", \"Friday\": \"Off\", \"Saturday\": \"Off\", \"Sunday\": \"10-4\"}, \"week4\": {\"Monday\": \"10-4\", \"Tuesday\": \"10-4\", \"Wednesday\": \"10-4\", \"Thursday\": \"10-4\", \"Friday\": \"Off\", \"Saturday\": \"Off\", \"Sunday\": \"10-4\"}}, {\"name\": \"Eric\", \"week1\": {\"Monday\": \"8-2\", \"Tuesday\": \"8-2\", \"Wednesday\": \"8-2\", \"Thursday\": \"Off\", \"Friday\": \"8-2\", \"Saturday\": \"Off\", \"Sunday\": \"8-2\"}, \"week2\": {\"Monday\": \"8-2\", \"Tuesday\": \"8-2\", \"Wednesday\": \"8-2\", \"Thursday\": \"Off\", \"Friday\": \"8-2\", \"Saturday\": \"Off\", \"Sunday\": \"8-2\"}, \"week3\": {\"Monday\": \"8-2\", \"Tuesday\": \"8-2\", \"Wednesday\": \"8-2\", \"Thursday\": \"Off\", \"Friday\": \"8-2\", \"Saturday\": \"Off\", \"Sunday\": \"8-2\"}, \"week4\": {\"Monday\": \"8-2\", \"Tuesday\": \"8-2\", \"Wednesday\": \"8-2\", \"Thursday\": \"Off\", \"Friday\": \"8-2\", \"Saturday\": \"Off\", \"Sunday\": \"8-2\"}}, {\"name\": \"Fiona\", \"week1\": {\"Monday\": \"Off\", \"Tuesday\": \"Off\", \"Wednesday\": \"2-8\", \"Thursday\": \"2-8\", \"Friday\": \"2-8\", \"Saturday\": \"2-8\", \"Sunday\": \"2-8\"}, \"week2\": {\"Monday\": \"Off\", \"Tuesday\": \"Off\", \"Wednesday\": \"2-8\", \"Thursday\": \"2-8\", \"Friday\": \"2-8\", \"Saturday\": \"2-8\", \"Sunday\": \"2-8\"}, \"week3\": {\"Monday\": \"Off\", \"Tuesday\": \"Off\", \"Wednesday\": \"2-8\", \"Thursday\": \"2-8\", \"Friday\": \"2-8\", \"Saturday\": \"2-8\", \"Sunday\": \"2-8\"}, \"week4\": {\"Monday\": \"Off\", \"Tuesday\": \"Off\", \"Wednesday\": \"2-8\", \"Thursday\": \"2-8\", \"Friday\": \"2-8\", \"Saturday\": \"2-8\", \"Sunday\": \"2-8\"}}, {\"name\": \"George\", \"week1\": {\"Monday\": \"8-2\", \"Tuesday\": \"8-2\", \"Wednesday\": \"8-2\", \"Thursday\": \"8-2\", \"Friday\": \"8-2\", \"Saturday\": \"Off\", \"Sunday\": \"Off\"}, \"week2\": {\"Monday\": \"8-2\", \"Tuesday\": \"8-2\", \"Wednesday\": \"8-2\", \"Thursday\": \"8-2\", \"Friday\": \"8-2\", \"Saturday\": \"Off\", \"Sunday\": \"Off\"}, \"week3\": {\"Monday\": \"8-2\", \"Tuesday\": \"8-2\", \"Wednesday\": \"8-2\", \"Thursday\": \"8-2\", \"Friday\": \"8-2\", \"Saturday\": \"Off\", \"Sunday\": \"Off\"}, \"week4\": {\"Monday\": \"8-2\", \"Tuesday\": \"8-2\", \"Wednesday\": \"8-2\", \"Thursday\": \"8-2\", \"Friday\": \"8-2\", \"Saturday\": \"Off\", \"Sunday\": \"Off\"}}, {\"name\": \"Hannah\", \"week1\": {\"Monday\": \"Off\", \"Tuesday\": \"Off\", \"Wednesday\": \"10-4\", \"Thursday\": \"10-4\", \"Friday\": \"10-4\", \"Saturday\": \"Off\", \"Sunday\": \"10-4\"}, \"week2\": {\"Monday\": \"Off\", \"Tuesday\": \"Off\", \"Wednesday\": \"10-4\", \"Thursday\": \"10-4\", \"Friday\": \"10-4\", \"Saturday\": \"Off\", \"Sunday\": \"10-4\"}, \"week3\": {\"Monday\": \"Off\", \"Tuesday\": \"Off\", \"Wednesday\": \"10-4\", \"Thursday\": \"10-4\", \"Friday\": \"10-4\", \"Saturday\": \"Off\", \"Sunday\": \"10-4\"}, \"week4\": {\"Monday\": \"Off\", \"Tuesday\": \"Off\", \"Wednesday\": \"10-4\", \"Thursday\": \"10-4\", \"Friday\": \"10-4\", \"Saturday\": \"Off\", \"Sunday\": \"10-4\"}}]}• Alice:  \\nPrefers early shifts. Cannot work on Tuesday and weekends due to family commitments. \\nNeeds to leave by 2 \\u202fp.m. for childcare.  \\n \\n• Bob:  \\nEnjoys later shifts; available Tuesday through Saturday afternoons. He avoids Monday and \\nSunday because of personal errands.  \\n \\n• Carol:  \\nHas classes early in the week. Works only Wednesday –Thursday afternoons and Saturday –\\nSunday mornings.  \\n \\n• Dave:  \\nHas a late start on Monday (class in the morning) but is free Tuesday to Thursday. Prefers \\nworking Sunday but takes Friday off.  \\n \\n• Eric:  \\nLikes consistent morning shifts on Monday, Tuesday, Wednesday, and Friday. He keeps \\nThursday and Saturday mostly free.  \\n \\n \\n• Fiona:  \\nRuns errands on Monday –Tuesday, so she starts on Wednesdays. She prefers afternoon \\nshifts and works evenings through Sunday.  \\n \\n• George:  \\nAn early riser who works Monday to Friday mornings only. He does not work weekends due \\nto community commitments.  \\n \\n \\n• Hannah:  \\nOften travels early in the week. Available Wednesday to Friday and Sunday for mid -morning \\nto early afternoon shifts.  \\n \\n'"
      ]
     },
     "execution_count": 7,
     "metadata": {},
     "output_type": "execute_result"
    }
   ],
   "source": [
    "json.dumps(json_data) + str(pdf_text)"
   ]
  },
  {
   "cell_type": "markdown",
   "metadata": {},
   "source": [
    "## Step 4: Using o3-mini to create a scheduling report"
   ]
  },
  {
   "cell_type": "code",
   "execution_count": 8,
   "metadata": {},
   "outputs": [],
   "source": [
    "messages = [{\n",
    "    \"role\": \"user\",\n",
    "    \"content\": structured_prompt + json.dumps(json_data) + str(pdf_text)\n",
    "}]\n",
    "\n",
    "response_o3 = client.chat.completions.create(model=\"o3-mini\",\n",
    "                                             messages=messages)\n"
   ]
  },
  {
   "cell_type": "code",
   "execution_count": 9,
   "metadata": {},
   "outputs": [
    {
     "data": {
      "text/html": [
       "<div style=\"background-color: #f0fff8; padding: 10px; border-radius: 5px; border: 1px solid #d3d3d3;\"></hr><h2>🔽 &nbsp; Markdown Output – Beginning</h2></hr></div>"
      ],
      "text/plain": [
       "<IPython.core.display.HTML object>"
      ]
     },
     "metadata": {},
     "output_type": "display_data"
    },
    {
     "data": {
      "text/markdown": [
       "<html>\n",
       "  <head>\n",
       "    <meta charset=\"UTF-8\">\n",
       "    <title>Four‐Week Shift Schedule Report</title>\n",
       "    <style>\n",
       "      body { font-family: Arial, sans-serif; margin: 20px; }\n",
       "      h2 { color: #2F4F4F; }\n",
       "      table { border-collapse: collapse; width: 100%; margin-bottom: 20px; }\n",
       "      th, td { border: 1px solid #999; padding: 8px; text-align: center; }\n",
       "      th { background-color: #eee; }\n",
       "      .note { font-style: italic; color: #555; }\n",
       "    </style>\n",
       "  </head>\n",
       "  <body>\n",
       "    <h1>Four‑Week Shift Schedule Report</h1>\n",
       "    \n",
       "    <h2>1. Employee Key Details</h2>\n",
       "    <p>The following details have been extracted from the structured availability data and the notes regarding personal commitments and preferences.</p>\n",
       "    \n",
       "    <ul>\n",
       "      <li>\n",
       "        <strong>Alice</strong>: \n",
       "        <ul>\n",
       "          <li><em>Availability (per week):</em> \n",
       "            Monday: 8‑2, Tuesday: Off, Wednesday: 8‑2, Thursday: 8‑2, Friday: 8‑2, Saturday &amp; Sunday: Off.</li>\n",
       "          <li><em>Preferences / Constraints:</em> Prefers early (morning) shifts; cannot work on Tuesday or weekends because of family commitments; must leave by 2 p.m. for childcare.</li>\n",
       "        </ul>\n",
       "      </li>\n",
       "      <li>\n",
       "        <strong>Bob</strong>: \n",
       "        <ul>\n",
       "          <li><em>Availability (per week):</em> \n",
       "            Monday: Off, Tuesday–Saturday: 2‑8, Sunday: Off.</li>\n",
       "          <li><em>Preferences / Constraints:</em> Enjoys later (afternoon) shifts; available Tuesday through Saturday afternoons; avoids Monday and Sunday due to personal errands.</li>\n",
       "        </ul>\n",
       "      </li>\n",
       "      <li>\n",
       "        <strong>Carol</strong>: \n",
       "        <ul>\n",
       "          <li><em>Availability (per week):</em> \n",
       "            Monday &amp; Tuesday: Off, Wednesday and Thursday: 2‑8, Friday: Off, Saturday &amp; Sunday: 8‑2.</li>\n",
       "          <li><em>Preferences / Constraints:</em> Has classes early in the week; works only Wednesday–Thursday afternoons and Saturday–Sunday mornings.</li>\n",
       "        </ul>\n",
       "      </li>\n",
       "      <li>\n",
       "        <strong>Dave</strong>: \n",
       "        <ul>\n",
       "          <li><em>Availability (per week):</em> \n",
       "            Monday–Thursday: 10‑4, Friday &amp; Saturday: Off, Sunday: 10‑4.</li>\n",
       "          <li><em>Preferences / Constraints:</em> Has a late Monday start (class in the morning) but is free Tuesday to Thursday; prefers working on Sunday but takes Friday off.</li>\n",
       "        </ul>\n",
       "      </li>\n",
       "      <li>\n",
       "        <strong>Eric</strong>: \n",
       "        <ul>\n",
       "          <li><em>Availability (per week):</em> \n",
       "            Monday, Tuesday, Wednesday, Friday, Sunday: 8‑2; Thursday and Saturday: Off.</li>\n",
       "          <li><em>Preferences / Constraints:</em> Likes consistent morning shifts on Monday, Tuesday, Wednesday, and Friday; keeps Thursday and Saturday mostly free.</li>\n",
       "        </ul>\n",
       "      </li>\n",
       "      <li>\n",
       "        <strong>Fiona</strong>: \n",
       "        <ul>\n",
       "          <li><em>Availability (per week):</em> \n",
       "            Monday–Tuesday: Off, Wednesday–Sunday: 2‑8.</li>\n",
       "          <li><em>Preferences / Constraints:</em> Runs errands on Monday–Tuesday so starts on Wednesdays; prefers afternoon shifts and works evenings through Sunday.</li>\n",
       "        </ul>\n",
       "      </li>\n",
       "      <li>\n",
       "        <strong>George</strong>: \n",
       "        <ul>\n",
       "          <li><em>Availability (per week):</em> \n",
       "            Monday–Friday: 8‑2; Saturday–Sunday: Off.</li>\n",
       "          <li><em>Preferences / Constraints:</em> Early riser who works Monday to Friday mornings only; does not work weekends due to community commitments.</li>\n",
       "        </ul>\n",
       "      </li>\n",
       "      <li>\n",
       "        <strong>Hannah</strong>: \n",
       "        <ul>\n",
       "          <li><em>Availability (per week):</em> \n",
       "            Monday–Tuesday &amp; Saturday: Off, Wednesday–Friday and Sunday: 10‑4.</li>\n",
       "          <li><em>Preferences / Constraints:</em> Often travels early in the week; available Wednesday, Thursday, Friday, and Sunday for mid‑morning to early afternoon shifts.</li>\n",
       "        </ul>\n",
       "      </li>\n",
       "    </ul>\n",
       "    \n",
       "    <h2>2. Identified Scheduling Constraints</h2>\n",
       "    <ul>\n",
       "      <li>Each day must have two shifts filled:\n",
       "        <ul>\n",
       "          <li>Morning shift: 8:00 a.m. – 2:00 p.m.</li>\n",
       "          <li>Afternoon shift: 2:00 p.m. – 8:00 p.m.</li>\n",
       "        </ul>\n",
       "      </li>\n",
       "      <li>Only assign an employee to a shift if their available time matches the required shift time.\n",
       "        <ul>\n",
       "          <li>Employees with availability reported as “8‑2” or “2‑8” are considered for the corresponding shift.</li>\n",
       "          <li>Employees available “10‑4” (Dave and Hannah) do not fully cover the defined morning (8‑2) or afternoon (2‑8) slots. In the schedule below Dave is tentatively assigned on Monday afternoon (noting a partial match) to avoid a break in coverage. No adjustment for Hannah is made because her days are limited.</li>\n",
       "        </ul>\n",
       "      </li>\n",
       "      <li>Respect personal constraints:\n",
       "        <ul>\n",
       "          <li>Alice: No work on Tuesday or weekends.</li>\n",
       "          <li>Bob: No work on Monday or Sunday.</li>\n",
       "          <li>Carol: Only available Wednesday–Thursday afternoons and Saturday–Sunday mornings.</li>\n",
       "          <li>Eric: Works morning shifts on his available days; off on Thursday and Saturday.</li>\n",
       "          <li>Fiona: Only available Wednesday–Sunday afternoons.</li>\n",
       "          <li>George: Only available Monday–Friday mornings.</li>\n",
       "          <li>Hannah: Works Wednesday–Friday and Sunday (10‑4); however, due to a time–slot mismatch these are not used in the final assignment.</li>\n",
       "      </ul>\n",
       "      </li>\n",
       "      <li>For days where no candidate with an exact match is available for a given shift, a “closest‐match” assignment is noted (see Monday afternoon below).</li>\n",
       "    </ul>\n",
       "    \n",
       "    <h2>3. Proposed Four‑Week Schedule</h2>\n",
       "    <p>Below is the proposed schedule for Weeks 1 through 4. It is assumed that the pattern is repeated each week.</p>\n",
       "    \n",
       "    <h3>Notes on the Assignment Approach</h3>\n",
       "    <ul>\n",
       "      <li><strong>Morning Shift (8‑2):</strong> \n",
       "        <ul>\n",
       "          <li>Weekday candidates are drawn from those with “8‑2” availability: Alice, Eric, and George.</li>\n",
       "          <li>On weekends, since Alice and George are not available, the assignment is made from Eric and Carol (Carol is available for a morning shift on Saturday–Sunday).</li>\n",
       "        </ul>\n",
       "      </li>\n",
       "      <li><strong>Afternoon Shift (2‑8):</strong> \n",
       "        <ul>\n",
       "          <li>Candidates include: Bob, Fiona, and (where applicable) Carol (only on Wednesday and Thursday).</li>\n",
       "          <li>On Monday, no employee exactly matches the afternoon (2‑8) availability. To ensure full coverage, Dave (whose available 10‑4) is tentatively assigned with the understanding that his slot partially overlaps the needed hours. This gap is highlighted for further discussion with management.</li>\n",
       "        </ul>\n",
       "      </li>\n",
       "    </ul>\n",
       "    \n",
       "    <h3>Weekly Schedule (Weeks 1–4)</h3>\n",
       "    \n",
       "    <table>\n",
       "      <tr>\n",
       "        <th>Day</th>\n",
       "        <th>Morning Shift (8‑2)</th>\n",
       "        <th>Afternoon Shift (2‑8)</th>\n",
       "      </tr>\n",
       "      <tr>\n",
       "        <td>Monday</td>\n",
       "        <td>Alice<br/>(Preferred early shift)</td>\n",
       "        <td>Dave<br/><span class=\"note\">(Available 10‑4; partial coverage – note conflict)</span></td>\n",
       "      </tr>\n",
       "      <tr>\n",
       "        <td>Tuesday</td>\n",
       "        <td>Eric<br/>(Consistent morning)</td>\n",
       "        <td>Bob<br/>(Only available afternoon candidate)</td>\n",
       "      </tr>\n",
       "      <tr>\n",
       "        <td>Wednesday</td>\n",
       "        <td>George<br/>(Morning availability)</td>\n",
       "        <td>Fiona<br/>(Afternoon preference)</td>\n",
       "      </tr>\n",
       "      <tr>\n",
       "        <td>Thursday</td>\n",
       "        <td>Alice</td>\n",
       "        <td>Carol<br/>(Carol works Wed–Thu afternoons)</td>\n",
       "      </tr>\n",
       "      <tr>\n",
       "        <td>Friday</td>\n",
       "        <td>Eric</td>\n",
       "        <td>Bob<br/>(Available and familiar with afternoon shifts)</td>\n",
       "      </tr>\n",
       "      <tr>\n",
       "        <td>Saturday</td>\n",
       "        <td>Carol<br/>(Only candidate for morning on weekends)</td>\n",
       "        <td>Fiona<br/>(Preferred for afternoon shifts)</td>\n",
       "      </tr>\n",
       "      <tr>\n",
       "        <td>Sunday</td>\n",
       "        <td>Eric<br/>(Alternate morning option; note Carol is also available but rotated)</td>\n",
       "        <td>Fiona<br/>(Only candidate with proper 2‑8 availability)</td>\n",
       "      </tr>\n",
       "    </table>\n",
       "    \n",
       "    <p class=\"note\">IMPORTANT: Monday afternoon is a scheduling conflict as no employee is available exactly for 2:00–8:00 p.m. The tentative assignment of Dave (available 10–4) is a compromise. It is recommended that management review this conflict and consider a minor adjustment (such as a shift time change or additional staffing for Monday afternoon) so that full coverage is achieved.</p>\n",
       "    \n",
       "    <h2>4. Summary</h2>\n",
       "    <p>This report has extracted all key employee details, listed the scheduling constraints and preferences, and proposed a four‑week schedule that, as closely as possible, respects each employee’s available time slots and wishes. Any conflicts – particularly the Monday afternoon gap – have been clearly noted for further resolution.</p>\n",
       "    \n",
       "    <p>End of Report.</p>\n",
       "  </body>\n",
       "</html>"
      ],
      "text/plain": [
       "<IPython.core.display.Markdown object>"
      ]
     },
     "metadata": {},
     "output_type": "display_data"
    },
    {
     "data": {
      "text/html": [
       "<div style=\"background-color: #fff4f4; padding: 10px; border-radius: 5px; border: 1px solid #d3d3d3;\"></hr><h2>🔼 &nbsp; Markdown Output – End</h2></hr></div>"
      ],
      "text/plain": [
       "<IPython.core.display.HTML object>"
      ]
     },
     "metadata": {},
     "output_type": "display_data"
    }
   ],
   "source": [
    "display(HTML('<div style=\"background-color: #f0fff8; padding: 10px; border-radius: 5px; border: 1px solid #d3d3d3;\"></hr><h2>🔽 &nbsp; Markdown Output – Beginning</h2></hr></div>'))\n",
    "display(Markdown(response_o3.choices[0].message.content))\n",
    "display(HTML('<div style=\"background-color: #fff4f4; padding: 10px; border-radius: 5px; border: 1px solid #d3d3d3;\"></hr><h2>🔼 &nbsp; Markdown Output – End</h2></hr></div>'))\n"
   ]
  },
  {
   "cell_type": "code",
   "execution_count": 14,
   "metadata": {},
   "outputs": [
    {
     "name": "stdout",
     "output_type": "stream",
     "text": [
      "HTML content has been written to schedule_report.html\n"
     ]
    }
   ],
   "source": [
    "html_content_o3 = response_o3.choices[0].message.content\n",
    "\n",
    "# Define the file path where you want to save the HTML content\n",
    "file_path = 'schedule_report.html'\n",
    "\n",
    "# Write the HTML content to the file\n",
    "with open(file_path, 'w', encoding='utf-8') as file:\n",
    "    file.write(html_content_o3)\n",
    "\n",
    "print(f\"HTML content has been written to {file_path}\")"
   ]
  },
  {
   "cell_type": "code",
   "execution_count": null,
   "metadata": {},
   "outputs": [],
   "source": []
  }
 ],
 "metadata": {
  "kernelspec": {
   "display_name": "base",
   "language": "python",
   "name": "python3"
  },
  "language_info": {
   "codemirror_mode": {
    "name": "ipython",
    "version": 3
   },
   "file_extension": ".py",
   "mimetype": "text/x-python",
   "name": "python",
   "nbconvert_exporter": "python",
   "pygments_lexer": "ipython3",
   "version": "3.11.7"
  }
 },
 "nbformat": 4,
 "nbformat_minor": 2
}
