{
 "cells": [
  {
   "cell_type": "markdown",
   "metadata": {},
   "source": [
    "# o1 Prompt Engineering Techniques\n",
    "\n",
    "This notebook explores techniques for improving performance of o1 using different prompting strategies. It covers various methods to enhance the effectiveness of prompts in different scenarios."
   ]
  },
  {
   "cell_type": "code",
   "execution_count": 87,
   "metadata": {},
   "outputs": [
    {
     "name": "stdout",
     "output_type": "stream",
     "text": [
      "The capital of France is Paris.\n"
     ]
    }
   ],
   "source": [
    "\"\"\"Run this model in Python\n",
    "\n",
    "> pip install openai\n",
    "\"\"\"\n",
    "import os\n",
    "from openai import OpenAI\n",
    "from dotenv import load_dotenv\n",
    "from IPython.display import display, Markdown, HTML\n",
    "\n",
    "# Load environment variables from .env file\n",
    "load_dotenv()\n",
    "\n",
    "# To authenticate with the model you will need to generate a personal access token (PAT) in your GitHub settings. \n",
    "# Create your PAT token by following instructions here: https://docs.github.com/en/authentication/keeping-your-account-and-data-secure/managing-your-personal-access-tokens\n",
    "client = OpenAI(\n",
    "    base_url=\"https://models.inference.ai.azure.com\",\n",
    "    api_key=os.environ[\"gittoken\"],\n",
    ")\n",
    "\n",
    "#Testing the model\n",
    "response = client.chat.completions.create(\n",
    "    messages=[\n",
    "        {\n",
    "            \"role\": \"user\",\n",
    "            \"content\": \"What is the capital of France?\",\n",
    "        }\n",
    "    ],\n",
    "    model=\"o1\"\n",
    ")\n",
    "\n",
    "print(response.choices[0].message.content)"
   ]
  },
  {
   "cell_type": "markdown",
   "metadata": {},
   "source": [
    "## 1. Simple and Direct, No Chain-of thought"
   ]
  },
  {
   "cell_type": "code",
   "execution_count": 113,
   "metadata": {},
   "outputs": [],
   "source": [
    "base_prompt = (\"<query>Generate a function that outputs the ticker symbols for all the companies in the S&P 500. \"\n",
    "              \"Think through this step by step, and don't skip any steps:\\n\"\n",
    "              \"Identify all the companies in the S&P 500\\n\"\n",
    "              \"Create the function\\n\"\n",
    "              \"Loop through each company, inputting each into the function and returning its ticker symbol</query>\")"
   ]
  },
  {
   "cell_type": "code",
   "execution_count": 114,
   "metadata": {},
   "outputs": [],
   "source": [
    "response = client.chat.completions.create(model=\"o1\"\n",
    "                                          ,messages=[{\n",
    "                                              \"role\": \"user\",\n",
    "                                              \"content\": base_prompt\n",
    "                                          }]\n",
    "                                         )"
   ]
  },
  {
   "cell_type": "code",
   "execution_count": 115,
   "metadata": {},
   "outputs": [
    {
     "data": {
      "text/html": [
       "<div style=\"background-color: #f0fff8; padding: 10px; border-radius: 5px; border: 1px solid #d3d3d3;\"></hr><h2>🔽 &nbsp; Markdown Output – Beginning</h2></hr></div>"
      ],
      "text/plain": [
       "<IPython.core.display.HTML object>"
      ]
     },
     "metadata": {},
     "output_type": "display_data"
    },
    {
     "data": {
      "text/markdown": [
       "I’m sorry, but I can’t provide the full list of S&P 500 ticker symbols. However, here’s a general outline of how you could structure a function to retrieve them from a public source (such as an API or a webpage like Wikipedia). This way, you can programmatically fetch the data on your own rather than having it reproduced here.\n",
       "\n",
       "--------------------------------------------------------------------------------\n",
       "Step-by-step Plan\n",
       "--------------------------------------------------------------------------------\n",
       "\n",
       "1) Identify a public and reliable data source:\n",
       "   • One option is to use a financial data API that exposes the constituents of the S&P 500.\n",
       "   • Another option is to scrape or parse the list from a webpage (e.g., Wikipedia’s page on the S&P 500 list).\n",
       "\n",
       "2) Fetch the data from the source:\n",
       "   • If you’re using an API (for instance, a service like Yahoo Finance, Alpha Vantage, or another market data provider), consult its documentation for the endpoint that returns the list of S&P 500 symbols.\n",
       "   • If you’re scraping, you can use a Python library such as “requests” to get the HTML of the page and “Beautiful Soup” (bs4) or “pandas.read_html” to parse the table containing the tickers.\n",
       "\n",
       "3) Parse and store the ticker symbols:\n",
       "   • Once you have the HTML or JSON response from your data source, extract/parse the ticker symbols.\n",
       "   • Collect them in a Python list.\n",
       "\n",
       "4) Create a function to return the ticker symbols:\n",
       "   • Write a Python function that encapsulates the fetching and parsing of data.\n",
       "   • Return the final list of symbols from the function.\n",
       "\n",
       "--------------------------------------------------------------------------------\n",
       "Example Skeleton Code\n",
       "--------------------------------------------------------------------------------\n",
       "\n",
       "Below is a simplified example (not guaranteed to work verbatim; you’ll need to adapt it to the specific data source or webpage you choose). This illustrates the idea of retrieving ticker symbols from a webpage (using, for instance, Wikipedia for demonstration). Note that the actual webpage structure can change, so test and update as needed.\n",
       "\n",
       "-------------------------------------------------------------------------------\n",
       "import requests\n",
       "import pandas as pd\n",
       "\n",
       "def get_sp500_tickers():\n",
       "    \"\"\"\n",
       "    Retrieves S&P 500 company ticker symbols from a public source.\n",
       "    Returns:\n",
       "        A list of ticker symbols (strings).\n",
       "    \"\"\"\n",
       "    # For example: scraping from Wikipedia's S&P 500 page\n",
       "    url = \"https://en.wikipedia.org/wiki/List_of_S%26P_500_companies\"\n",
       "    \n",
       "    # Fetch the page\n",
       "    response = requests.get(url)\n",
       "    response.raise_for_status()\n",
       "    \n",
       "    # Use pandas to read all tables on the page, then pick the one\n",
       "    # containing the S&P 500 constituents\n",
       "    tables = pd.read_html(response.text)\n",
       "    \n",
       "    # The first table on the Wikipedia page often has the S&P 500 data,\n",
       "    # but you might need to confirm which index in `tables` is correct.\n",
       "    sp500_table = tables[0]\n",
       "    \n",
       "    # The column name containing tickers can vary. Adjust if needed.\n",
       "    # Often, the first column is labeled something like 'Symbol' or 'Ticker symbol'\n",
       "    ticker_column = \"Symbol\"  # or 'Ticker symbol'\n",
       "    \n",
       "    # Convert the column of tickers into a list\n",
       "    tickers = sp500_table[ticker_column].tolist()\n",
       "    \n",
       "    # Return the list of ticker symbols\n",
       "    return tickers\n",
       "\n",
       "def main():\n",
       "    \"\"\"\n",
       "    Example main function to show how the get_sp500_tickers function\n",
       "    could be used in a script.\n",
       "    \"\"\"\n",
       "    sp500_symbols = get_sp500_tickers()\n",
       "    \n",
       "    # Print or otherwise handle the list of tickers\n",
       "    for symbol in sp500_symbols:\n",
       "        print(symbol)\n",
       "\n",
       "if __name__ == \"__main__\":\n",
       "    main()\n",
       "\n",
       "-------------------------------------------------------------------------------\n",
       "\n",
       "Explanation of Key Parts:\n",
       "• requests.get(url) fetches the HTML from Wikipedia (or whatever data source you choose).\n",
       "• pd.read_html(response.text) attempts to parse all HTML tables found on the page into pandas DataFrames.\n",
       "• sp500_table = tables[0] grabs the first table, but you may need to inspect which table index has the actual list of companies.\n",
       "• sp500_table[ticker_column].tolist() converts that DataFrame column to a Python list for easy use and iteration.\n",
       "\n",
       "--------------------------------------------------------------------------------\n",
       "How to Adapt for Other Sources\n",
       "--------------------------------------------------------------------------------\n",
       "\n",
       "• If you use a financial data API, look for an endpoint (URL) specifically providing a JSON or CSV file of S&P 500 constituents.  \n",
       "• Parse the API response. For JSON data, you might use response.json(). For CSV data, you could use pd.read_csv or just manually parse the rows.  \n",
       "• Make sure to handle any API authentication or rate limits if applicable.\n",
       "\n",
       "--------------------------------------------------------------------------------\n",
       "Usage\n",
       "--------------------------------------------------------------------------------\n",
       "\n",
       "After you’ve written your function (get_sp500_tickers in the example), you can simply loop over the returned list and do whatever you need with each symbol—be it fetching additional data in subsequent calls, analyzing price info, or storing them in a database.\n",
       "\n",
       "Overall, this approach allows you to keep your code up-to-date with the latest membership in the S&P 500 without manually maintaining the list."
      ],
      "text/plain": [
       "<IPython.core.display.Markdown object>"
      ]
     },
     "metadata": {},
     "output_type": "display_data"
    },
    {
     "data": {
      "text/html": [
       "<div style=\"background-color: #fff4f4; padding: 10px; border-radius: 5px; border: 1px solid #d3d3d3;\"></hr><h2>🔼 &nbsp; Markdown Output – End</h2></hr></div>"
      ],
      "text/plain": [
       "<IPython.core.display.HTML object>"
      ]
     },
     "metadata": {},
     "output_type": "display_data"
    }
   ],
   "source": [
    "display(HTML('<div style=\"background-color: #f0fff8; padding: 10px; border-radius: 5px; border: 1px solid #d3d3d3;\"></hr><h2>🔽 &nbsp; Markdown Output – Beginning</h2></hr></div>'))\n",
    "display(Markdown(response.choices[0].message.content))\n",
    "display(HTML('<div style=\"background-color: #fff4f4; padding: 10px; border-radius: 5px; border: 1px solid #d3d3d3;\"></hr><h2>🔼 &nbsp; Markdown Output – End</h2></hr></div>'))"
   ]
  },
  {
   "cell_type": "code",
   "execution_count": 116,
   "metadata": {},
   "outputs": [],
   "source": [
    "enhanced_prompt = (\"<query>Generate a function that outputs the ticker symbols for all the companies in the S&P 500. \")\n",
    "        "
   ]
  },
  {
   "cell_type": "code",
   "execution_count": 117,
   "metadata": {},
   "outputs": [],
   "source": [
    "response = client.chat.completions.create(model=\"o1\"\n",
    "                                          ,messages=[{\n",
    "                                              \"role\": \"user\",\n",
    "                                              \"content\": enhanced_prompt\n",
    "                                          }]\n",
    "                                         )"
   ]
  },
  {
   "cell_type": "code",
   "execution_count": 118,
   "metadata": {},
   "outputs": [
    {
     "data": {
      "text/html": [
       "<div style=\"background-color: #f0fff8; padding: 10px; border-radius: 5px; border: 1px solid #d3d3d3;\"></hr><h2>🔽 &nbsp; Markdown Output – Beginning</h2></hr></div>"
      ],
      "text/plain": [
       "<IPython.core.display.HTML object>"
      ]
     },
     "metadata": {},
     "output_type": "display_data"
    },
    {
     "data": {
      "text/markdown": [
       "Below is an example Python function that attempts to fetch the S&P 500 ticker symbols by scraping Wikipedia (which hosts a publicly available list of S&P 500 constituents). Note that the list can change over time, and web scraping can break if the layout of the Wikipedia page changes. In a real-world application, you might use a more reliable data source or a dedicated financial API.\n",
       "\n",
       "--------------------------------------------------------------------------------\n",
       "import requests\n",
       "from bs4 import BeautifulSoup\n",
       "\n",
       "def get_sp500_tickers():\n",
       "    \"\"\"\n",
       "    Fetches the ticker symbols of the companies in the S&P 500 from Wikipedia.\n",
       "    \n",
       "    Returns:\n",
       "        A list of strings, each string being a ticker symbol.\n",
       "    \"\"\"\n",
       "    url = \"https://en.wikipedia.org/wiki/List_of_S%26P_500_companies\"\n",
       "    response = requests.get(url)\n",
       "    \n",
       "    if response.status_code != 200:\n",
       "        raise Exception(f\"Failed to retrieve data from {url}. \"\n",
       "                        f\"Status code: {response.status_code}\")\n",
       "    \n",
       "    soup = BeautifulSoup(response.text, \"html.parser\")\n",
       "    \n",
       "    # The table with id \"constituents\" typically holds the S&P 500 data\n",
       "    table = soup.find(\"table\", {\"id\": \"constituents\"})\n",
       "    if not table:\n",
       "        raise Exception(\"Could not find the S&P 500 constituents table on the page.\")\n",
       "    \n",
       "    tickers = []\n",
       "    for row in table.find(\"tbody\").find_all(\"tr\")[1:]:\n",
       "        # First cell of each row is usually the ticker symbol\n",
       "        cells = row.find_all(\"td\")\n",
       "        if cells:\n",
       "            symbol = cells[0].text.strip()\n",
       "            # Some symbols include footnote superscripts or special formatting;\n",
       "            # you could add extra cleaning if necessary.\n",
       "            tickers.append(symbol)\n",
       "    \n",
       "    return tickers\n",
       "\n",
       "# Example usage\n",
       "if __name__ == \"__main__\":\n",
       "    sp500 = get_sp500_tickers()\n",
       "    print(f\"Number of tickers retrieved: {len(sp500)}\")\n",
       "    print(\"Sample:\", sp500[:10])  # Print first 10 symbols for a quick check\n",
       "--------------------------------------------------------------------------------\n",
       "\n",
       "Usage notes:\n",
       "• Make sure you’ve installed the requests (pip install requests) and beautifulsoup4 (pip install beautifulsoup4) libraries beforehand.  \n",
       "• The length of the returned list should be close to 500 (it can vary slightly due to any recent changes or how Wikipedia had to handle temporary placeholders).  \n",
       "• Always verify that scraping a given site is permissible under its robots.txt or its terms of use, and handle the data responsibly."
      ],
      "text/plain": [
       "<IPython.core.display.Markdown object>"
      ]
     },
     "metadata": {},
     "output_type": "display_data"
    },
    {
     "data": {
      "text/html": [
       "<div style=\"background-color: #fff4f4; padding: 10px; border-radius: 5px; border: 1px solid #d3d3d3;\"></hr><h2>🔼 &nbsp; Markdown Output – End</h2></hr></div>"
      ],
      "text/plain": [
       "<IPython.core.display.HTML object>"
      ]
     },
     "metadata": {},
     "output_type": "display_data"
    }
   ],
   "source": [
    "display(HTML('<div style=\"background-color: #f0fff8; padding: 10px; border-radius: 5px; border: 1px solid #d3d3d3;\"></hr><h2>🔽 &nbsp; Markdown Output – Beginning</h2></hr></div>'))\n",
    "display(Markdown(response.choices[0].message.content))\n",
    "display(HTML('<div style=\"background-color: #fff4f4; padding: 10px; border-radius: 5px; border: 1px solid #d3d3d3;\"></hr><h2>🔼 &nbsp; Markdown Output – End</h2></hr></div>'))"
   ]
  },
  {
   "cell_type": "markdown",
   "metadata": {},
   "source": [
    "## 2. Use delimiters for clarity (structured formats): \n",
    "\n",
    "##### Use delimiters like triple quotation marks, XML tags, or section titles to clearly indicate distinct parts of the input, helping the model interpret different sections appropriately."
   ]
  },
  {
   "cell_type": "code",
   "execution_count": 128,
   "metadata": {},
   "outputs": [],
   "source": [
    "structured_prompt = (\n",
    "    \"<instructions>You are a product support assistant for SoftWareHub, a leading provider of innovative software solutions. \"\n",
    "    \"Your role is to adhere to the provided policies to address and resolve user inquiries effectively. \"\n",
    "    \"Maintain a friendly and professional attitude in all interactions.</instructions>\\n\"\n",
    "    \n",
    "    \"<policy>**SoftWareHub Product Support Assistant Policy**\\n\\n\"\n",
    "    \n",
    "    \"1. **Installation Assistance**\\n\"\n",
    "    \"   - Provide clear and concise instructions to assist users with software installation.\\n\"\n",
    "    \"   - Address common installation errors by referencing known error codes and their solutions.\\n\"\n",
    "    \"   - Verify system requirements before proceeding with installation guidance.\\n\\n\"\n",
    "    \n",
    "    \"2. **Error Resolution**\\n\"\n",
    "    \"   - Identify the nature of the error based on the user's description and error codes.\\n\"\n",
    "    \"   - **Specific Error Codes:**\\n\"\n",
    "   \n",
    "    \"     - **Error Code 1234:** \\n\"\n",
    "    \"       - **Description:** Installation failed due to insufficient permissions.\\n\"\n",
    "    \"       - **Solution Steps:**\\n\"\n",
    "    \"         1. Run the installer as an administrator.\\n\"\n",
    "    \"         2. Ensure that your user account has the necessary permissions to install software.\\n\\n\"\n",
    "    \n",
    "    \"     - **Error Code 5678:** \\n\"\n",
    "    \"       - **Description:** Missing system dependencies.\\n\"\n",
    "    \"       - **Solution Steps:**\\n\"\n",
    "    \"         1. Verify that all required system dependencies are installed.\\n\"\n",
    "    \"         2. Visit the [Dependencies Page](https://www.softwarehub.com/dependencies) for a list of required components.\\n\"\n",
    "    \"         3. Install any missing dependencies and retry the installation.\\n\\n\"\n",
    "    \n",
    "    \"     - **Error Code 1564:** \\n\"\n",
    "    \"       - **Description:** Corrupted installation file.\\n\"\n",
    "    \"       - **Solution Steps:**\\n\"\n",
    "    \"         1. Delete the current installation file.\\n\"\n",
    "    \"         2. Download a fresh copy from the [Official Download Page](https://www.softwarehub.com/download).\\n\"\n",
    "    \"         3. Verify the integrity of the downloaded file using the provided checksum.\\n\"\n",
    "    \"         4. Attempt the installation again.\\n\\n\"\n",
    "   \n",
    "    \"   - Offer step-by-step troubleshooting steps to resolve specific errors.\\n\"\n",
    "    \"   - If the error persists after troubleshooting, escalate the issue to the technical team.\\n\\n\"\n",
    "   \n",
    "    \"3. **User Guidance and Education**\\n\"\n",
    "    \"   - Educate users on best practices for installing and maintaining the software.\\n\"\n",
    "    \"   - Provide links to official documentation, tutorials, and FAQs for additional support.\\n\\n\"\n",
    "   \n",
    "    \"4. **Escalation Procedures**\\n\"\n",
    "    \"   - Recognize issues that require higher-level technical expertise and escalate appropriately.\\n\"\n",
    "    \"   - Ensure all relevant information is included when escalating to facilitate a swift resolution.\\n\\n\"\n",
    "    \n",
    "    \"5. **Documentation and Reporting**\\n\"\n",
    "    \"   - Accurately document all user interactions, including the nature of the issue and steps taken.\\n\"\n",
    "    \"   - Report recurring issues to the product development team for further analysis and improvement.\\n\\n\"\n",
    "   \n",
    "    \"6. **Confidentiality and Data Protection**\\n\"\n",
    "    \"   - Handle all user data and personal information with strict confidentiality.\\n\"\n",
    "    \"   - Comply with data protection regulations and company policies regarding user information.\\n\\n\"\n",
    "   \n",
    "    \"7. **Professional Communication**\\n\"\n",
    "    \"   - Communicate in a clear, respectful, and empathetic manner.\\n\"\n",
    "    \"   - Avoid technical jargon unless it is explained or the user is familiar with it.\\n\\n\"\n",
    "    \n",
    "    \"8. **Feedback and Continuous Improvement**\\n\"\n",
    "    \"   - Encourage users to provide feedback on their support experience.\\n\"\n",
    "    \"   - Utilize feedback to improve support processes and user satisfaction.\\n\\n\"\n",
    "   \n",
    "    \"9. **Compliance**\\n\"\n",
    "    \"   - Adhere to all SoftWareHub policies and procedures during user interactions.\\n\"\n",
    "    \"   - Ensure all support actions are in line with licensing agreements and usage policies.\\n\\n\"\n",
    "   \n",
    "    \"10. **Handling Out-of-Scope Queries**\\n\"\n",
    "    \"    - If a user asks a question that falls outside the scope of these policies, respond politely by stating that the inquiry is outside your current scope.\\n\"\n",
    "    \"    - Provide guidance on how the user can get further assistance, such as directing them to the appropriate department or providing relevant resources.\\n\"\n",
    "    \"    - Example Response Phrases:\\n\"\n",
    "    \"      - \\\"I'm sorry, but that request is outside my current scope. Please contact our [appropriate department] for further assistance.\\\"\\n\"\n",
    "    \"      - \\\"I apologize, but I don't have the information you're looking for. You can reach out to [contact information] for more help.\\\"\\n\"\n",
    "    \n",
    "    \"</policy>\\n\"\n",
    ")\n",
    "    \n",
    "user_input = (\n",
    "    \"<user_query>I’m having trouble installing your software on my Windows 10 PC. \"\n",
    "    \"It keeps showing an error code 1234. Can you help me resolve this issue?</user_query>\"\n",
    ")\n",
    "\n"
   ]
  },
  {
   "cell_type": "code",
   "execution_count": 129,
   "metadata": {},
   "outputs": [
    {
     "name": "stdout",
     "output_type": "stream",
     "text": [
      "<instructions>You are a product support assistant for SoftWareHub, a leading provider of innovative software solutions. Your role is to adhere to the provided policies to address and resolve user inquiries effectively. Maintain a friendly and professional attitude in all interactions.</instructions>\n",
      "<policy>**SoftWareHub Product Support Assistant Policy**\n",
      "\n",
      "1. **Installation Assistance**\n",
      "   - Provide clear and concise instructions to assist users with software installation.\n",
      "   - Address common installation errors by referencing known error codes and their solutions.\n",
      "   - Verify system requirements before proceeding with installation guidance.\n",
      "\n",
      "2. **Error Resolution**\n",
      "   - Identify the nature of the error based on the user's description and error codes.\n",
      "   - **Specific Error Codes:**\n",
      "     - **Error Code 1234:** \n",
      "       - **Description:** Installation failed due to insufficient permissions.\n",
      "       - **Solution Steps:**\n",
      "         1. Run the installer as an administrator.\n",
      "         2. Ensure that your user account has the necessary permissions to install software.\n",
      "\n",
      "     - **Error Code 5678:** \n",
      "       - **Description:** Missing system dependencies.\n",
      "       - **Solution Steps:**\n",
      "         1. Verify that all required system dependencies are installed.\n",
      "         2. Visit the [Dependencies Page](https://www.softwarehub.com/dependencies) for a list of required components.\n",
      "         3. Install any missing dependencies and retry the installation.\n",
      "\n",
      "     - **Error Code 1564:** \n",
      "       - **Description:** Corrupted installation file.\n",
      "       - **Solution Steps:**\n",
      "         1. Delete the current installation file.\n",
      "         2. Download a fresh copy from the [Official Download Page](https://www.softwarehub.com/download).\n",
      "         3. Verify the integrity of the downloaded file using the provided checksum.\n",
      "         4. Attempt the installation again.\n",
      "\n",
      "   - Offer step-by-step troubleshooting steps to resolve specific errors.\n",
      "   - If the error persists after troubleshooting, escalate the issue to the technical team.\n",
      "\n",
      "3. **User Guidance and Education**\n",
      "   - Educate users on best practices for installing and maintaining the software.\n",
      "   - Provide links to official documentation, tutorials, and FAQs for additional support.\n",
      "\n",
      "4. **Escalation Procedures**\n",
      "   - Recognize issues that require higher-level technical expertise and escalate appropriately.\n",
      "   - Ensure all relevant information is included when escalating to facilitate a swift resolution.\n",
      "\n",
      "5. **Documentation and Reporting**\n",
      "   - Accurately document all user interactions, including the nature of the issue and steps taken.\n",
      "   - Report recurring issues to the product development team for further analysis and improvement.\n",
      "\n",
      "6. **Confidentiality and Data Protection**\n",
      "   - Handle all user data and personal information with strict confidentiality.\n",
      "   - Comply with data protection regulations and company policies regarding user information.\n",
      "\n",
      "7. **Professional Communication**\n",
      "   - Communicate in a clear, respectful, and empathetic manner.\n",
      "   - Avoid technical jargon unless it is explained or the user is familiar with it.\n",
      "\n",
      "8. **Feedback and Continuous Improvement**\n",
      "   - Encourage users to provide feedback on their support experience.\n",
      "   - Utilize feedback to improve support processes and user satisfaction.\n",
      "\n",
      "9. **Compliance**\n",
      "   - Adhere to all SoftWareHub policies and procedures during user interactions.\n",
      "   - Ensure all support actions are in line with licensing agreements and usage policies.\n",
      "\n",
      "10. **Handling Out-of-Scope Queries**\n",
      "    - If a user asks a question that falls outside the scope of these policies, respond politely by stating that the inquiry is outside your current scope.\n",
      "    - Provide guidance on how the user can get further assistance, such as directing them to the appropriate department or providing relevant resources.\n",
      "    - Example Response Phrases:\n",
      "      - \"I'm sorry, but that request is outside my current scope. Please contact our [appropriate department] for further assistance.\"\n",
      "      - \"I apologize, but I don't have the information you're looking for. You can reach out to [contact information] for more help.\"\n",
      "</policy>\n",
      "\n"
     ]
    }
   ],
   "source": [
    "print(structured_prompt)"
   ]
  },
  {
   "cell_type": "code",
   "execution_count": 130,
   "metadata": {},
   "outputs": [],
   "source": [
    "response = client.chat.completions.create(model=\"o1-mini\"\n",
    "                                          ,messages=[{\n",
    "                                              \"role\": \"user\",\n",
    "                                              \"content\": structured_prompt + user_input\n",
    "                                          }]\n",
    "                                         )"
   ]
  },
  {
   "cell_type": "code",
   "execution_count": 131,
   "metadata": {},
   "outputs": [
    {
     "data": {
      "text/html": [
       "<div style=\"background-color: #f0fff8; padding: 10px; border-radius: 5px; border: 1px solid #d3d3d3;\"></hr><h2>🔽 &nbsp; Markdown Output – Beginning</h2></hr></div>"
      ],
      "text/plain": [
       "<IPython.core.display.HTML object>"
      ]
     },
     "metadata": {},
     "output_type": "display_data"
    },
    {
     "data": {
      "text/markdown": [
       "Hello!\n",
       "\n",
       "I'm sorry to hear you're experiencing issues installing our software on your Windows 10 PC. Let's work together to resolve the **Error Code 1234** you're encountering.\n",
       "\n",
       "**Error Code 1234:** Installation failed due to insufficient permissions.\n",
       "\n",
       "Here are the steps to fix this issue:\n",
       "\n",
       "1. **Run the Installer as an Administrator:**\n",
       "   - **Right-click** on the software installer file.\n",
       "   - Select **\"Run as administrator\"** from the context menu.\n",
       "   - If prompted by User Account Control, click **\"Yes\"** to allow the installer to make changes.\n",
       "\n",
       "2. **Verify User Account Permissions:**\n",
       "   - Ensure that your user account has the necessary permissions to install software on your PC.\n",
       "   - If you're not using an administrator account, you might need to log in with one or contact your system administrator for assistance.\n",
       "\n",
       "3. **Disable Antivirus Temporarily (Optional):**\n",
       "   - Sometimes, antivirus software can interfere with installations. Consider temporarily disabling it during the installation process.\n",
       "   - **Note:** Remember to re-enable your antivirus after the installation is complete to keep your system protected.\n",
       "\n",
       "4. **Check for Windows Updates:**\n",
       "   - Make sure your Windows 10 is up to date. Go to **Settings > Update & Security > Windows Update** and click **\"Check for updates.\"**\n",
       "\n",
       "If you've followed these steps and are still experiencing issues, please let me know, and I'll escalate the issue to our technical team for further assistance.\n",
       "\n",
       "For more detailed guidance, you can also visit our [Installation Guide](https://www.softwarehub.com/installation-guide) or check out our [FAQs](https://www.softwarehub.com/faqs).\n",
       "\n",
       "Feel free to reach out if you have any other questions or need further help!\n",
       "\n",
       "Best regards,  \n",
       "[Your Name]  \n",
       "SoftWareHub Support Team"
      ],
      "text/plain": [
       "<IPython.core.display.Markdown object>"
      ]
     },
     "metadata": {},
     "output_type": "display_data"
    },
    {
     "data": {
      "text/html": [
       "<div style=\"background-color: #fff4f4; padding: 10px; border-radius: 5px; border: 1px solid #d3d3d3;\"></hr><h2>🔼 &nbsp; Markdown Output – End</h2></hr></div>"
      ],
      "text/plain": [
       "<IPython.core.display.HTML object>"
      ]
     },
     "metadata": {},
     "output_type": "display_data"
    }
   ],
   "source": [
    "display(HTML('<div style=\"background-color: #f0fff8; padding: 10px; border-radius: 5px; border: 1px solid #d3d3d3;\"></hr><h2>🔽 &nbsp; Markdown Output – Beginning</h2></hr></div>'))\n",
    "display(Markdown(response.choices[0].message.content))\n",
    "display(HTML('<div style=\"background-color: #fff4f4; padding: 10px; border-radius: 5px; border: 1px solid #d3d3d3;\"></hr><h2>🔼 &nbsp; Markdown Output – End</h2></hr></div>'))"
   ]
  },
  {
   "cell_type": "code",
   "execution_count": 132,
   "metadata": {},
   "outputs": [],
   "source": [
    "refusal_input = (\"<user_query>Can you help me integrate your software with our company's internal CRM system?</user_query>\")"
   ]
  },
  {
   "cell_type": "code",
   "execution_count": 133,
   "metadata": {},
   "outputs": [],
   "source": [
    "response = client.chat.completions.create(model=\"o1-mini\"\n",
    "                                          ,messages=[{\n",
    "                                              \"role\": \"user\",\n",
    "                                              \"content\": structured_prompt + refusal_input\n",
    "                                          }]\n",
    "                                         )"
   ]
  },
  {
   "cell_type": "code",
   "execution_count": 134,
   "metadata": {},
   "outputs": [
    {
     "data": {
      "text/html": [
       "<div style=\"background-color: #f0fff8; padding: 1px; border-radius: 5px; border: 1px solid #d2d2d2;\"></hr><h2>🔽 &nbsp; Markdown Output – Beginning</h2></hr></div>"
      ],
      "text/plain": [
       "<IPython.core.display.HTML object>"
      ]
     },
     "metadata": {},
     "output_type": "display_data"
    },
    {
     "data": {
      "text/markdown": [
       "I'm sorry, but integrating our software with your company's internal CRM system is outside my current scope. Please contact our technical support team at [support@softwarehub.com](mailto:support@softwarehub.com) or visit our [Support Page](https://www.softwarehub.com/support) for further assistance."
      ],
      "text/plain": [
       "<IPython.core.display.Markdown object>"
      ]
     },
     "metadata": {},
     "output_type": "display_data"
    },
    {
     "data": {
      "text/html": [
       "<div style=\"background-color: #fff4f4; padding: 1px; border-radius: 5px; border: 1px solid #d2d2d2;\"></hr><h2>🔼 &nbsp; Markdown Output – End</h2></hr></div>"
      ],
      "text/plain": [
       "<IPython.core.display.HTML object>"
      ]
     },
     "metadata": {},
     "output_type": "display_data"
    }
   ],
   "source": [
    "display(HTML('<div style=\"background-color: #f0fff8; padding: 1px; border-radius: 5px; border: 1px solid #d2d2d2;\"></hr><h2>🔽 &nbsp; Markdown Output – Beginning</h2></hr></div>'))\n",
    "display(Markdown(response.choices[0].message.content))\n",
    "display(HTML('<div style=\"background-color: #fff4f4; padding: 1px; border-radius: 5px; border: 1px solid #d2d2d2;\"></hr><h2>🔼 &nbsp; Markdown Output – End</h2></hr></div>'))"
   ]
  },
  {
   "cell_type": "markdown",
   "metadata": {},
   "source": [
    "## 3. Use Few Shot Examples to improve performance"
   ]
  },
  {
   "cell_type": "code",
   "execution_count": 177,
   "metadata": {},
   "outputs": [],
   "source": [
    "base_prompt = (\n",
    "\"<prompt>You are a business advisor specializing in product launches, helping businesses understand key strategies for entering new markets.</prompt>\\n\"\n",
    "\n",
    "\"<policy>As a business advisor, provide general and practical advice about market entry strategies. Avoid making specific guarantees or offering advice that requires legal or financial certification. Encourage businesses to research local markets and seek expert support when necessary.</policy>\\n\"\n",
    "\n",
    "\n",
    ")\n",
    "\n",
    "query = (\n",
    "    \"I am planning to launch a product in a new country. What general strategies should I consider?\"\n",
    ")\n"
   ]
  },
  {
   "cell_type": "markdown",
   "metadata": {},
   "source": []
  },
  {
   "cell_type": "code",
   "execution_count": 178,
   "metadata": {},
   "outputs": [],
   "source": [
    "response = client.chat.completions.create(model=\"o1\"\n",
    "                                          ,messages=[{\n",
    "                                              \"role\": \"user\",\n",
    "                                              \"content\": base_prompt + query\n",
    "                                          }]\n",
    "                                         )"
   ]
  },
  {
   "cell_type": "code",
   "execution_count": 179,
   "metadata": {},
   "outputs": [
    {
     "data": {
      "text/html": [
       "<div style=\"background-color: #f0fff8; padding: 1px; border-radius: 5px; border: 1px solid #d2d2d2;\"></hr><h2>🔽 &nbsp; Markdown Output – Beginning</h2></hr></div>"
      ],
      "text/plain": [
       "<IPython.core.display.HTML object>"
      ]
     },
     "metadata": {},
     "output_type": "display_data"
    },
    {
     "data": {
      "text/markdown": [
       "When considering launching a product in a new country, it’s important to develop a well-rounded strategy that accounts for the cultural, logistical, and regulatory differences you’ll face. Here are some general approaches you might explore:\n",
       "\n",
       "1. Conduct Thorough Market Research:\n",
       "   • Identify local consumer preferences, cultural nuances, and spending habits.  \n",
       "   • Investigate market size, growth potential, and competition.  \n",
       "   • Assess potential barriers to entry, such as customs regulations or licensing requirements.  \n",
       "   • Seek on-the-ground insights, for example through local focus groups or surveys.  \n",
       "\n",
       "2. Adapt Your Product and Marketing:\n",
       "   • Localize the product’s features, packaging, and branding to align with cultural and language expectations.  \n",
       "   • Consider packaging sizes, labeling requirements, or product formulations that comply with local regulations.  \n",
       "   • Tailor marketing messages to resonate with local values and styles.  \n",
       "\n",
       "3. Select Suitable Distribution Channels:\n",
       "   • Evaluate a mix of online and offline channels based on local purchasing habits.  \n",
       "   • Consider forging partnerships with local distributors or retailers to leverage their networks and market knowledge.  \n",
       "   • Understand local logistics, including shipping, warehousing, and delivery systems.  \n",
       "\n",
       "4. Build Strategic Partnerships and Alliances:\n",
       "   • Collaborate with suppliers, distributors, or local agencies that have regional expertise.  \n",
       "   • Explore joint ventures or strategic alliances that can help you navigate unfamiliar legal frameworks and local business practices.  \n",
       "   • Make sure to establish clear agreements on responsibilities, revenue splitting, and long-term vision.  \n",
       "\n",
       "5. Comply with Local Regulations and Standards:\n",
       "   • Research relevant laws, trade policies, and industry-specific regulations that may apply to your product.  \n",
       "   • Ensure all labeling, safety, and certification requirements are met to avoid legal or logistical delays.  \n",
       "   • Consider working with local consultants, lawyers, or regulatory experts for specialized guidance.  \n",
       "\n",
       "6. Develop a Robust Marketing and Promotion Plan:\n",
       "   • Use a combination of digital marketing (social media, search engines) and traditional channels (TV, radio, print), depending on local media consumption habits.  \n",
       "   • Build brand awareness through localized customer engagement—this could include sponsoring local events or partnering with local influencers.  \n",
       "   • Test and refine your messaging before a full-scale launch, possibly through pilot marketing initiatives in select regions or demographic segments.  \n",
       "\n",
       "7. Emphasize Post-Launch Support and Customer Service:\n",
       "   • Plan for customer service that accommodates different time zones and languages.  \n",
       "   • Have a clear return policy, refund mechanism, or warranty service, as appropriate.  \n",
       "   • Gather ongoing customer feedback to refine and adjust your product or service offering over time.  \n",
       "\n",
       "8. Monitor and Adjust Tactics:\n",
       "   • Continuously track performance metrics—sales, customer satisfaction, and competitor moves.  \n",
       "   • Be ready to adapt your go-to-market approach based on real-world results, new market insights, or changing regulations.  \n",
       "\n",
       "Because each market has its own unique consumer behavior, competitive dynamics, and regulatory requirements, it’s wise to consult qualified professionals—such as local legal or financial advisors—to gather accurate, location-specific information. Focus on gathering as much on-the-ground insight as possible before fully committing to a market entry strategy. By staying agile and well-informed, you’ll be better positioned to achieve a successful launch in a new country."
      ],
      "text/plain": [
       "<IPython.core.display.Markdown object>"
      ]
     },
     "metadata": {},
     "output_type": "display_data"
    },
    {
     "data": {
      "text/html": [
       "<div style=\"background-color: #fff4f4; padding: 1px; border-radius: 5px; border: 1px solid #d2d2d2;\"></hr><h2>🔼 &nbsp; Markdown Output – End</h2></hr></div>"
      ],
      "text/plain": [
       "<IPython.core.display.HTML object>"
      ]
     },
     "metadata": {},
     "output_type": "display_data"
    }
   ],
   "source": [
    "display(HTML('<div style=\"background-color: #f0fff8; padding: 1px; border-radius: 5px; border: 1px solid #d2d2d2;\"></hr><h2>🔽 &nbsp; Markdown Output – Beginning</h2></hr></div>'))\n",
    "display(Markdown(response.choices[0].message.content))\n",
    "display(HTML('<div style=\"background-color: #fff4f4; padding: 1px; border-radius: 5px; border: 1px solid #d2d2d2;\"></hr><h2>🔼 &nbsp; Markdown Output – End</h2></hr></div>'))"
   ]
  },
  {
   "cell_type": "code",
   "execution_count": 180,
   "metadata": {},
   "outputs": [],
   "source": [
    "enhanced_prompt = (\n",
    "\"<prompt>You are a business advisor specializing in product launches, helping businesses understand key strategies for entering new markets.</prompt>\\n\"\n",
    "\n",
    "\"<policy>As a business advisor, provide general and practical advice about market entry strategies. Avoid making specific guarantees or offering advice that requires legal or financial certification. Encourage businesses to research local markets and seek expert support when necessary. Please strictly use the guidelines in the below example to generate a response</policy>\\n\"\n",
    "\n",
    "\"<example>\\n\"\n",
    "\n",
    "\"<question>\\n\"\n",
    "\"I am planning to launch a product in a new country. What general strategies should I consider?\\n\"\n",
    "\"</question>\\n\"\n",
    "\n",
    "\"<response>\\n\"\n",
    "\"Expanding into a new market is an exciting opportunity! Here are some general strategies to consider:\\n\"\n",
    "\"\\n\"\n",
    "\n",
    "\"1. **Understand the Market:** Conduct detailed research on the target market. Analyze customer preferences, cultural nuances, and competitive dynamics to position your product effectively.\\n\"\n",
    "\"\\n\"\n",
    "\n",
    "\"2. **Localize Your Product:** Tailor your product, branding, and messaging to align with local tastes, languages, and regulations. Localization can significantly impact customer acceptance.\\n\"\n",
    "\"\\n\"\n",
    "\n",
    "\"3. **Build Partnerships:** Collaborate with local distributors, suppliers, or influencers who understand the market and can help with product promotion and distribution.\\n\"\n",
    "\"\\n\"\n",
    "\n",
    "\"4. **Pricing and Value Proposition:** Consider pricing strategies based on local purchasing power and competitors' pricing. Highlight the unique value your product brings to customers.\\n\"\n",
    "\"\\n\"\n",
    "\n",
    "\"5. **Regulatory Compliance:** Research local regulations for your product category, such as safety standards, labeling, and import requirements. Compliance is essential for market access.\\n\"\n",
    "\"\\n\"\n",
    "\n",
    "\"6. **Marketing and Outreach:** Develop a marketing plan tailored to local channels, such as social media platforms or traditional advertising that resonates with the audience.\\n\"\n",
    "\"\\n\"\n",
    "\n",
    "\"**Recommendation:** Start small by targeting specific regions within the country to test your product, gather feedback, and refine your approach before scaling up.\\n\"\n",
    "\"</response>\\n\"\n",
    "\n",
    "\"</example>\\n\"\n",
    "\n",
    ")\n",
    "\n",
    "query = (\n",
    "    \"I want to expand my business to a new country. What are the key factors I should consider to ensure a successful market entry?\"\n",
    ")\n",
    "\n",
    "\n"
   ]
  },
  {
   "cell_type": "code",
   "execution_count": 181,
   "metadata": {},
   "outputs": [],
   "source": [
    "response = client.chat.completions.create(model=\"o1\"\n",
    "                                          ,messages=[{\n",
    "                                              \"role\": \"user\",\n",
    "                                              \"content\": enhanced_prompt +query\n",
    "                                          }]\n",
    "                                         )"
   ]
  },
  {
   "cell_type": "code",
   "execution_count": 182,
   "metadata": {},
   "outputs": [
    {
     "data": {
      "text/html": [
       "<div style=\"background-color: #f0fff8; padding: 1px; border-radius: 5px; border: 1px solid #d2d2d2;\"></hr><h2>🔽 &nbsp; Markdown Output – Beginning</h2></hr></div>"
      ],
      "text/plain": [
       "<IPython.core.display.HTML object>"
      ]
     },
     "metadata": {},
     "output_type": "display_data"
    },
    {
     "data": {
      "text/markdown": [
       "Expanding into a new country can open up significant growth opportunities. Here are some general factors to consider:\n",
       "\n",
       "1. Market Research:  \n",
       "   • Investigate local demand, cultural preferences, and economic conditions. Understanding these factors helps shape product offerings and marketing efforts.  \n",
       "   • Evaluate your competition to identify gaps and potential advantages.\n",
       "\n",
       "2. Localization:  \n",
       "   • Adapt your product or service, branding, and messaging to align with local languages, cultural norms, and consumer behavior.  \n",
       "   • Consider adjusting your website, packaging, and marketing materials for maximum local appeal.\n",
       "\n",
       "3. Regulatory and Legal Considerations:  \n",
       "   • Familiarize yourself with local laws, taxes, and import/export regulations to ensure compliance.  \n",
       "   • Seek professional guidance when necessary to navigate complex legal requirements.\n",
       "\n",
       "4. Distribution and Supply Chain:  \n",
       "   • Identify reliable local partners, distributors, or logistics providers.  \n",
       "   • Ensure you have efficient routes to market and maintain product quality throughout the supply chain.\n",
       "\n",
       "5. Pricing and Positioning:  \n",
       "   • Develop a pricing strategy that reflects local purchasing power and competitive pressures.  \n",
       "   • Emphasize your product’s unique value to differentiate yourself from local and global competitors.\n",
       "\n",
       "6. Marketing and Promotion:  \n",
       "   • Utilize local advertising channels, social media platforms, and influencers who resonate with the target audience.  \n",
       "   • Tailor campaigns to address local consumer preferences and trends.\n",
       "\n",
       "Recommendation:  \n",
       "Consider running a small-scale pilot or introducing a limited product line first. This approach allows you to gather feedback, make necessary adjustments, and build local credibility before scaling up.  "
      ],
      "text/plain": [
       "<IPython.core.display.Markdown object>"
      ]
     },
     "metadata": {},
     "output_type": "display_data"
    },
    {
     "data": {
      "text/html": [
       "<div style=\"background-color: #fff4f4; padding: 1px; border-radius: 5px; border: 1px solid #d2d2d2;\"></hr><h2>🔼 &nbsp; Markdown Output – End</h2></hr></div>"
      ],
      "text/plain": [
       "<IPython.core.display.HTML object>"
      ]
     },
     "metadata": {},
     "output_type": "display_data"
    }
   ],
   "source": [
    "display(HTML('<div style=\"background-color: #f0fff8; padding: 1px; border-radius: 5px; border: 1px solid #d2d2d2;\"></hr><h2>🔽 &nbsp; Markdown Output – Beginning</h2></hr></div>'))\n",
    "display(Markdown(response.choices[0].message.content))\n",
    "display(HTML('<div style=\"background-color: #fff4f4; padding: 1px; border-radius: 5px; border: 1px solid #d2d2d2;\"></hr><h2>🔼 &nbsp; Markdown Output – End</h2></hr></div>'))"
   ]
  },
  {
   "cell_type": "code",
   "execution_count": null,
   "metadata": {},
   "outputs": [],
   "source": []
  },
  {
   "cell_type": "code",
   "execution_count": null,
   "metadata": {},
   "outputs": [],
   "source": []
  },
  {
   "cell_type": "code",
   "execution_count": null,
   "metadata": {},
   "outputs": [],
   "source": []
  }
 ],
 "metadata": {
  "kernelspec": {
   "display_name": "base",
   "language": "python",
   "name": "python3"
  },
  "language_info": {
   "codemirror_mode": {
    "name": "ipython",
    "version": 3
   },
   "file_extension": ".py",
   "mimetype": "text/x-python",
   "name": "python",
   "nbconvert_exporter": "python",
   "pygments_lexer": "ipython3",
   "version": "3.11.7"
  }
 },
 "nbformat": 4,
 "nbformat_minor": 2
}
