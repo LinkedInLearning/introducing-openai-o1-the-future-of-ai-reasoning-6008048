{
 "cells": [
  {
   "cell_type": "markdown",
   "metadata": {},
   "source": [
    "# Lab 01 : o-series Prompt Engineering Techniques\n",
    "\n",
    "This notebook explores techniques for improving performance of o-series models using different prompting strategies. It covers various methods to enhance the effectiveness of prompts in different scenarios.\n",
    "\n",
    "We will explore how we can improve the model performance using principles like keeping the prompts simple and direct, avoiding chain-of-thought instructions, structured prompting and enhancing with few-shot only if needed."
   ]
  },
  {
   "cell_type": "code",
   "execution_count": 2,
   "metadata": {},
   "outputs": [
    {
     "name": "stdout",
     "output_type": "stream",
     "text": [
      "Requirement already satisfied: ipykernel in c:\\users\\akaruparti\\anaconda\\lib\\site-packages (from -r requirements.txt (line 1)) (6.29.3)\n",
      "Requirement already satisfied: openai in c:\\users\\akaruparti\\anaconda\\lib\\site-packages (from -r requirements.txt (line 2)) (1.60.0)\n",
      "Requirement already satisfied: python-dotenv in c:\\users\\akaruparti\\anaconda\\lib\\site-packages (from -r requirements.txt (line 3)) (1.0.1)\n",
      "Requirement already satisfied: pandas in c:\\users\\akaruparti\\anaconda\\lib\\site-packages (from -r requirements.txt (line 4)) (2.2.2)\n",
      "Requirement already satisfied: requests in c:\\users\\akaruparti\\anaconda\\lib\\site-packages (from -r requirements.txt (line 5)) (2.32.3)\n",
      "Requirement already satisfied: lxml in c:\\users\\akaruparti\\anaconda\\lib\\site-packages (from -r requirements.txt (line 6)) (5.3.0)\n",
      "Requirement already satisfied: PyPDF2 in c:\\users\\akaruparti\\anaconda\\lib\\site-packages (from -r requirements.txt (line 7)) (3.0.1)\n",
      "Requirement already satisfied: PDFReader in c:\\users\\akaruparti\\anaconda\\lib\\site-packages (from -r requirements.txt (line 8)) (0.1.15)\n",
      "Requirement already satisfied: IPython in c:\\users\\akaruparti\\anaconda\\lib\\site-packages (from -r requirements.txt (line 9)) (8.22.2)\n",
      "Requirement already satisfied: comm>=0.1.1 in c:\\users\\akaruparti\\anaconda\\lib\\site-packages (from ipykernel->-r requirements.txt (line 1)) (0.2.1)\n",
      "Requirement already satisfied: debugpy>=1.6.5 in c:\\users\\akaruparti\\anaconda\\lib\\site-packages (from ipykernel->-r requirements.txt (line 1)) (1.8.1)\n",
      "Requirement already satisfied: jupyter-client>=6.1.12 in c:\\users\\akaruparti\\anaconda\\lib\\site-packages (from ipykernel->-r requirements.txt (line 1)) (8.6.0)\n",
      "Requirement already satisfied: jupyter-core!=5.0.*,>=4.12 in c:\\users\\akaruparti\\anaconda\\lib\\site-packages (from ipykernel->-r requirements.txt (line 1)) (5.7.1)\n",
      "Requirement already satisfied: matplotlib-inline>=0.1 in c:\\users\\akaruparti\\anaconda\\lib\\site-packages (from ipykernel->-r requirements.txt (line 1)) (0.1.6)\n",
      "Requirement already satisfied: nest-asyncio in c:\\users\\akaruparti\\anaconda\\lib\\site-packages (from ipykernel->-r requirements.txt (line 1)) (1.6.0)\n",
      "Requirement already satisfied: packaging in c:\\users\\akaruparti\\anaconda\\lib\\site-packages (from ipykernel->-r requirements.txt (line 1)) (24.2)\n",
      "Requirement already satisfied: psutil in c:\\users\\akaruparti\\anaconda\\lib\\site-packages (from ipykernel->-r requirements.txt (line 1)) (5.9.8)\n",
      "Requirement already satisfied: pyzmq>=24 in c:\\users\\akaruparti\\anaconda\\lib\\site-packages (from ipykernel->-r requirements.txt (line 1)) (25.1.2)\n",
      "Requirement already satisfied: tornado>=6.1 in c:\\users\\akaruparti\\anaconda\\lib\\site-packages (from ipykernel->-r requirements.txt (line 1)) (6.4)\n",
      "Requirement already satisfied: traitlets>=5.4.0 in c:\\users\\akaruparti\\anaconda\\lib\\site-packages (from ipykernel->-r requirements.txt (line 1)) (5.14.1)\n",
      "Requirement already satisfied: anyio<5,>=3.5.0 in c:\\users\\akaruparti\\anaconda\\lib\\site-packages (from openai->-r requirements.txt (line 2)) (4.8.0)\n",
      "Requirement already satisfied: distro<2,>=1.7.0 in c:\\users\\akaruparti\\anaconda\\lib\\site-packages (from openai->-r requirements.txt (line 2)) (1.9.0)\n",
      "Requirement already satisfied: httpx<1,>=0.23.0 in c:\\users\\akaruparti\\anaconda\\lib\\site-packages (from openai->-r requirements.txt (line 2)) (0.28.1)\n",
      "Requirement already satisfied: jiter<1,>=0.4.0 in c:\\users\\akaruparti\\anaconda\\lib\\site-packages (from openai->-r requirements.txt (line 2)) (0.8.2)\n",
      "Requirement already satisfied: pydantic<3,>=1.9.0 in c:\\users\\akaruparti\\anaconda\\lib\\site-packages (from openai->-r requirements.txt (line 2)) (2.10.5)\n",
      "Requirement already satisfied: sniffio in c:\\users\\akaruparti\\anaconda\\lib\\site-packages (from openai->-r requirements.txt (line 2)) (1.3.1)\n",
      "Requirement already satisfied: tqdm>4 in c:\\users\\akaruparti\\anaconda\\lib\\site-packages (from openai->-r requirements.txt (line 2)) (4.67.1)\n",
      "Requirement already satisfied: typing-extensions<5,>=4.11 in c:\\users\\akaruparti\\anaconda\\lib\\site-packages (from openai->-r requirements.txt (line 2)) (4.12.2)\n",
      "Requirement already satisfied: numpy>=1.23.2 in c:\\users\\akaruparti\\anaconda\\lib\\site-packages (from pandas->-r requirements.txt (line 4)) (2.2.2)\n",
      "Requirement already satisfied: python-dateutil>=2.8.2 in c:\\users\\akaruparti\\anaconda\\lib\\site-packages (from pandas->-r requirements.txt (line 4)) (2.9.0.post0)\n",
      "Requirement already satisfied: pytz>=2020.1 in c:\\users\\akaruparti\\anaconda\\lib\\site-packages (from pandas->-r requirements.txt (line 4)) (2023.3.post1)\n",
      "Requirement already satisfied: tzdata>=2022.7 in c:\\users\\akaruparti\\anaconda\\lib\\site-packages (from pandas->-r requirements.txt (line 4)) (2023.3)\n",
      "Requirement already satisfied: charset-normalizer<4,>=2 in c:\\users\\akaruparti\\anaconda\\lib\\site-packages (from requests->-r requirements.txt (line 5)) (3.4.1)\n",
      "Requirement already satisfied: idna<4,>=2.5 in c:\\users\\akaruparti\\anaconda\\lib\\site-packages (from requests->-r requirements.txt (line 5)) (3.10)\n",
      "Requirement already satisfied: urllib3<3,>=1.21.1 in c:\\users\\akaruparti\\anaconda\\lib\\site-packages (from requests->-r requirements.txt (line 5)) (2.3.0)\n",
      "Requirement already satisfied: certifi>=2017.4.17 in c:\\users\\akaruparti\\anaconda\\lib\\site-packages (from requests->-r requirements.txt (line 5)) (2024.12.14)\n",
      "Requirement already satisfied: bitarray>=1.1.0 in c:\\users\\akaruparti\\anaconda\\lib\\site-packages (from PDFReader->-r requirements.txt (line 8)) (3.0.0)\n",
      "Requirement already satisfied: pillow>=7.1.0 in c:\\users\\akaruparti\\anaconda\\lib\\site-packages (from PDFReader->-r requirements.txt (line 8)) (10.2.0)\n",
      "Requirement already satisfied: pycryptodome>=3.9.9 in c:\\users\\akaruparti\\anaconda\\lib\\site-packages (from PDFReader->-r requirements.txt (line 8)) (3.21.0)\n",
      "Requirement already satisfied: decorator in c:\\users\\akaruparti\\anaconda\\lib\\site-packages (from IPython->-r requirements.txt (line 9)) (5.1.1)\n",
      "Requirement already satisfied: jedi>=0.16 in c:\\users\\akaruparti\\anaconda\\lib\\site-packages (from IPython->-r requirements.txt (line 9)) (0.19.1)\n",
      "Requirement already satisfied: prompt-toolkit<3.1.0,>=3.0.41 in c:\\users\\akaruparti\\anaconda\\lib\\site-packages (from IPython->-r requirements.txt (line 9)) (3.0.43)\n",
      "Requirement already satisfied: pygments>=2.4.0 in c:\\users\\akaruparti\\anaconda\\lib\\site-packages (from IPython->-r requirements.txt (line 9)) (2.17.2)\n",
      "Requirement already satisfied: stack-data in c:\\users\\akaruparti\\anaconda\\lib\\site-packages (from IPython->-r requirements.txt (line 9)) (0.6.3)\n",
      "Requirement already satisfied: colorama in c:\\users\\akaruparti\\anaconda\\lib\\site-packages (from IPython->-r requirements.txt (line 9)) (0.4.6)\n",
      "Requirement already satisfied: httpcore==1.* in c:\\users\\akaruparti\\anaconda\\lib\\site-packages (from httpx<1,>=0.23.0->openai->-r requirements.txt (line 2)) (1.0.7)\n",
      "Requirement already satisfied: h11<0.15,>=0.13 in c:\\users\\akaruparti\\anaconda\\lib\\site-packages (from httpcore==1.*->httpx<1,>=0.23.0->openai->-r requirements.txt (line 2)) (0.14.0)\n",
      "Requirement already satisfied: parso<0.9.0,>=0.8.3 in c:\\users\\akaruparti\\anaconda\\lib\\site-packages (from jedi>=0.16->IPython->-r requirements.txt (line 9)) (0.8.3)\n",
      "Requirement already satisfied: platformdirs>=2.5 in c:\\users\\akaruparti\\anaconda\\lib\\site-packages (from jupyter-core!=5.0.*,>=4.12->ipykernel->-r requirements.txt (line 1)) (4.2.0)\n",
      "Requirement already satisfied: pywin32>=300 in c:\\users\\akaruparti\\anaconda\\lib\\site-packages (from jupyter-core!=5.0.*,>=4.12->ipykernel->-r requirements.txt (line 1)) (308)\n",
      "Requirement already satisfied: wcwidth in c:\\users\\akaruparti\\anaconda\\lib\\site-packages (from prompt-toolkit<3.1.0,>=3.0.41->IPython->-r requirements.txt (line 9)) (0.2.13)\n",
      "Requirement already satisfied: annotated-types>=0.6.0 in c:\\users\\akaruparti\\anaconda\\lib\\site-packages (from pydantic<3,>=1.9.0->openai->-r requirements.txt (line 2)) (0.7.0)\n",
      "Requirement already satisfied: pydantic-core==2.27.2 in c:\\users\\akaruparti\\anaconda\\lib\\site-packages (from pydantic<3,>=1.9.0->openai->-r requirements.txt (line 2)) (2.27.2)\n",
      "Requirement already satisfied: six>=1.5 in c:\\users\\akaruparti\\anaconda\\lib\\site-packages (from python-dateutil>=2.8.2->pandas->-r requirements.txt (line 4)) (1.17.0)\n",
      "Requirement already satisfied: executing>=1.2.0 in c:\\users\\akaruparti\\anaconda\\lib\\site-packages (from stack-data->IPython->-r requirements.txt (line 9)) (2.0.1)\n",
      "Requirement already satisfied: asttokens>=2.1.0 in c:\\users\\akaruparti\\anaconda\\lib\\site-packages (from stack-data->IPython->-r requirements.txt (line 9)) (2.4.1)\n",
      "Requirement already satisfied: pure-eval in c:\\users\\akaruparti\\anaconda\\lib\\site-packages (from stack-data->IPython->-r requirements.txt (line 9)) (0.2.2)\n"
     ]
    }
   ],
   "source": [
    "# Run this cell to install all required packages from requirements.txt\n",
    "!pip install -r requirements.txt"
   ]
  },
  {
   "cell_type": "code",
   "execution_count": 4,
   "metadata": {},
   "outputs": [
    {
     "name": "stdout",
     "output_type": "stream",
     "text": [
      "The capital of France is **Paris**.\n"
     ]
    }
   ],
   "source": [
    "\n",
    "import os\n",
    "from openai import OpenAI\n",
    "from dotenv import load_dotenv\n",
    "from IPython.display import display, Markdown, HTML\n",
    "\n",
    "# Load environment variables from .env file\n",
    "load_dotenv()\n",
    "\n",
    "# To authenticate with the model you will need to generate a personal access token (PAT) in your GitHub settings. \n",
    "# Create your PAT token by following instructions here: https://docs.github.com/en/authentication/keeping-your-account-and-data-secure/managing-your-personal-access-tokens\n",
    "client = OpenAI(\n",
    "    base_url=\"https://models.inference.ai.azure.com\",\n",
    "    api_key=os.environ[\"tokenx\"],\n",
    ")\n",
    "\n",
    "#Testing the model\n",
    "response = client.chat.completions.create(\n",
    "    messages=[\n",
    "        {\n",
    "            \"role\": \"user\",\n",
    "            \"content\": \"What is the capital of France?\",\n",
    "        }\n",
    "    ],\n",
    "    model=\"o1-mini\"\n",
    ")\n",
    "\n",
    "print(response.choices[0].message.content)"
   ]
  },
  {
   "cell_type": "markdown",
   "metadata": {},
   "source": [
    "## 1. Simple and Direct, No Chain-of thought"
   ]
  },
  {
   "cell_type": "code",
   "execution_count": 14,
   "metadata": {},
   "outputs": [],
   "source": [
    "base_prompt = (\"<query>Generate a function that outputs the ticker symbols for all the companies in the S&P 500. \"\n",
    "              \"Think through this step by step, and don't skip any steps:\\n\"\n",
    "              \"Identify all the companies in the S&P 500\\n\"\n",
    "              \"Create the function\\n\"\n",
    "              \"Loop through each company, inputting each into the function and returning its ticker symbol</query>\")"
   ]
  },
  {
   "cell_type": "code",
   "execution_count": 15,
   "metadata": {},
   "outputs": [],
   "source": [
    "response = client.chat.completions.create(model=\"o1-mini\"\n",
    "                                          ,messages=[{\n",
    "                                              \"role\": \"user\",\n",
    "                                              \"content\": base_prompt\n",
    "                                          }]\n",
    "                                         )"
   ]
  },
  {
   "cell_type": "code",
   "execution_count": 16,
   "metadata": {},
   "outputs": [
    {
     "data": {
      "text/html": [
       "<div style=\"background-color: #f0fff8; padding: 10px; border-radius: 5px; border: 1px solid #d3d3d3;\"></hr><h2>🔽 &nbsp; Markdown Output – Beginning</h2></hr></div>"
      ],
      "text/plain": [
       "<IPython.core.display.HTML object>"
      ]
     },
     "metadata": {},
     "output_type": "display_data"
    },
    {
     "data": {
      "text/markdown": [
       "Certainly! Let's walk through the process of creating a Python function that retrieves and outputs the ticker symbols for all companies in the S&P 500. We'll follow the steps you've outlined:\n",
       "\n",
       "1. **Identify All the Companies in the S&P 500**\n",
       "2. **Create the Function**\n",
       "3. **Loop Through Each Company to Retrieve and Return Its Ticker Symbol**\n",
       "\n",
       "### Step 1: Identify All the Companies in the S&P 500\n",
       "\n",
       "To obtain the list of companies in the S&P 500, we can utilize the [Wikipedia page](https://en.wikipedia.org/wiki/List_of_S%26P_500_companies) that maintains an up-to-date table of S&P 500 constituents. We'll use Python's `pandas` library to scrape this table directly.\n",
       "\n",
       "### Step 2: Create the Function\n",
       "\n",
       "We'll create a function named `get_sp500_tickers` that performs the following tasks:\n",
       "\n",
       "- **Fetch the Wikipedia Page:** Use the `requests` library to get the HTML content of the Wikipedia page.\n",
       "- **Parse the HTML and Extract the Table:** Use `pandas.read_html` to parse all tables on the page and select the one containing the S&P 500 companies.\n",
       "- **Extract Ticker Symbols:** Retrieve the 'Symbol' column from the table, which contains the ticker symbols.\n",
       "- **Clean the Ticker Symbols:** Some ticker symbols may have periods (e.g., BRK.B). We'll replace these with hyphens to make them suitable for various financial APIs.\n",
       "- **Return the List of Ticker Symbols:** Provide the cleaned list of ticker symbols.\n",
       "\n",
       "### Step 3: Loop Through Each Company to Retrieve and Return Its Ticker Symbol\n",
       "\n",
       "Finally, we'll loop through each company in the S&P 500 and print out its name alongside its corresponding ticker symbol.\n",
       "\n",
       "Here's the complete Python script that accomplishes all these steps:\n",
       "\n",
       "```python\n",
       "import requests\n",
       "import pandas as pd\n",
       "\n",
       "def get_sp500_tickers():\n",
       "    \"\"\"\n",
       "    Retrieves the ticker symbols for all companies in the S&P 500 index.\n",
       "\n",
       "    Returns:\n",
       "        list: A list of ticker symbols.\n",
       "    \"\"\"\n",
       "    # URL of the Wikipedia page containing S&P 500 companies\n",
       "    wiki_url = 'https://en.wikipedia.org/wiki/List_of_S%26P_500_companies'\n",
       "    \n",
       "    try:\n",
       "        # Send a GET request to fetch the raw HTML content\n",
       "        response = requests.get(wiki_url)\n",
       "        response.raise_for_status()  # Check for request errors\n",
       "    except requests.exceptions.HTTPError as http_err:\n",
       "        print(f'HTTP error occurred: {http_err}')\n",
       "        return []\n",
       "    except Exception as err:\n",
       "        print(f'Other error occurred: {err}')\n",
       "        return []\n",
       "    \n",
       "    # Use pandas to read all tables on the page\n",
       "    tables = pd.read_html(response.text)\n",
       "    \n",
       "    # The first table usually contains the list of S&P 500 companies\n",
       "    sp500_table = tables[0]\n",
       "    \n",
       "    # Display the first few rows to verify\n",
       "    # print(sp500_table.head())\n",
       "    \n",
       "    # Extract the 'Symbol' column\n",
       "    tickers = sp500_table['Symbol'].tolist()\n",
       "    \n",
       "    # Clean the ticker symbols by replacing periods with hyphens\n",
       "    tickers = [ticker.replace('.', '-') for ticker in tickers]\n",
       "    \n",
       "    return tickers\n",
       "\n",
       "def print_sp500_tickers():\n",
       "    \"\"\"\n",
       "    Prints each S&P 500 company's name alongside its ticker symbol.\n",
       "    \"\"\"\n",
       "    # URL of the Wikipedia page containing S&P 500 companies\n",
       "    wiki_url = 'https://en.wikipedia.org/wiki/List_of_S%26P_500_companies'\n",
       "    \n",
       "    try:\n",
       "        # Send a GET request to fetch the raw HTML content\n",
       "        response = requests.get(wiki_url)\n",
       "        response.raise_for_status()  # Check for request errors\n",
       "    except requests.exceptions.HTTPError as http_err:\n",
       "        print(f'HTTP error occurred: {http_err}')\n",
       "        return\n",
       "    except Exception as err:\n",
       "        print(f'Other error occurred: {err}')\n",
       "        return\n",
       "    \n",
       "    # Use pandas to read all tables on the page\n",
       "    tables = pd.read_html(response.text)\n",
       "    \n",
       "    # The first table usually contains the list of S&P 500 companies\n",
       "    sp500_table = tables[0]\n",
       "    \n",
       "    # Clean the ticker symbols by replacing periods with hyphens\n",
       "    sp500_table['Symbol'] = sp500_table['Symbol'].str.replace('.', '-', regex=False)\n",
       "    \n",
       "    # Loop through each company and print its name and ticker symbol\n",
       "    for index, row in sp500_table.iterrows():\n",
       "        company_name = row['Security']\n",
       "        ticker = row['Symbol']\n",
       "        print(f'{company_name}: {ticker}')\n",
       "\n",
       "if __name__ == \"__main__\":\n",
       "    # Retrieve the list of S&P 500 ticker symbols\n",
       "    tickers = get_sp500_tickers()\n",
       "    \n",
       "    # Print the number of tickers retrieved\n",
       "    print(f'Total S&P 500 Ticker Symbols Retrieved: {len(tickers)}\\n')\n",
       "    \n",
       "    # Optionally, print all ticker symbols\n",
       "    print(\"Ticker Symbols:\")\n",
       "    print(tickers)\n",
       "    \n",
       "    print(\"\\nDetailed List:\")\n",
       "    # Print each company with its ticker symbol\n",
       "    print_sp500_tickers()\n",
       "```\n",
       "\n",
       "### Explanation of the Code\n",
       "\n",
       "1. **Imports:**\n",
       "   - `requests`: To send HTTP requests to fetch the Wikipedia page.\n",
       "   - `pandas`: To parse and manipulate the HTML tables.\n",
       "\n",
       "2. **Function `get_sp500_tickers`:**\n",
       "   - **Fetch HTML Content:** Uses `requests.get` to retrieve the Wikipedia page.\n",
       "   - **Error Handling:** Checks for any HTTP errors or other exceptions.\n",
       "   - **Parse HTML Tables:** `pandas.read_html` reads all tables from the HTML content. The S&P 500 companies are typically in the first table (`tables[0]`).\n",
       "   - **Extract Tickers:** Retrieves the 'Symbol' column and converts it to a list.\n",
       "   - **Clean Tickers:** Replaces any periods in the ticker symbols with hyphens to ensure compatibility with various financial data APIs.\n",
       "   - **Return Tickers:** Provides the cleaned list of ticker symbols.\n",
       "\n",
       "3. **Function `print_sp500_tickers`:**\n",
       "   - Performs similar steps to `get_sp500_tickers` but additionally loops through each company and prints its name alongside its ticker symbol.\n",
       "\n",
       "4. **Main Execution Block:**\n",
       "   - Retrieves the list of ticker symbols.\n",
       "   - Prints the total number of tickers retrieved.\n",
       "   - Optionally prints all ticker symbols as a list.\n",
       "   - Calls `print_sp500_tickers` to display a detailed list of each company with its ticker symbol.\n",
       "\n",
       "### Dependencies\n",
       "\n",
       "Before running the script, ensure that the necessary libraries are installed. You can install them using `pip`:\n",
       "\n",
       "```bash\n",
       "pip install requests pandas\n",
       "```\n",
       "\n",
       "### Running the Script\n",
       "\n",
       "Save the script to a file, for example, `sp500_tickers.py`, and run it using Python:\n",
       "\n",
       "```bash\n",
       "python sp500_tickers.py\n",
       "```\n",
       "\n",
       "### Sample Output\n",
       "\n",
       "```\n",
       "Total S&P 500 Ticker Symbols Retrieved: 503\n",
       "\n",
       "Ticker Symbols:\n",
       "['MMM', 'ABT', 'ABBV', 'ACN', 'ATVI', 'ADBE', 'AMD', 'AAP', 'AES', ... ]\n",
       "\n",
       "Detailed List:\n",
       "3M Company: MMM\n",
       "Abbott Laboratories: ABT\n",
       "AbbVie Inc.: ABBV\n",
       "Accenture plc: ACN\n",
       "Activision Blizzard: ATVI\n",
       "Adobe Inc.: ADBE\n",
       "Advanced Micro Devices: AMD\n",
       "Advance Auto Parts: AAP\n",
       "AES Corporation: AES\n",
       "...\n",
       "```\n",
       "\n",
       "### Notes\n",
       "\n",
       "- **Data Accuracy:** The script scrapes data from Wikipedia, which is generally reliable but may occasionally have discrepancies. For mission-critical applications, consider using official financial data APIs.\n",
       "  \n",
       "- **Ticker Symbol Formatting:** Some ticker symbols may contain periods (e.g., BRK.B). These are replaced with hyphens (`BRK-B`) to ensure compatibility with APIs and other financial tools that do not accept periods.\n",
       "\n",
       "- **Dynamic Updates:** Since the S&P 500 constituents can change over time, running this script regularly will help keep your ticker symbol list up-to-date.\n",
       "\n",
       "### Conclusion\n",
       "\n",
       "This Python script efficiently retrieves and displays the ticker symbols for all companies in the S&P 500 by scraping data from Wikipedia. It includes error handling to manage potential HTTP request issues and formats the ticker symbols appropriately. You can further enhance this script by integrating it with financial APIs to fetch real-time stock data based on the retrieved ticker symbols."
      ],
      "text/plain": [
       "<IPython.core.display.Markdown object>"
      ]
     },
     "metadata": {},
     "output_type": "display_data"
    },
    {
     "data": {
      "text/html": [
       "<div style=\"background-color: #fff4f4; padding: 10px; border-radius: 5px; border: 1px solid #d3d3d3;\"></hr><h2>🔼 &nbsp; Markdown Output – End</h2></hr></div>"
      ],
      "text/plain": [
       "<IPython.core.display.HTML object>"
      ]
     },
     "metadata": {},
     "output_type": "display_data"
    }
   ],
   "source": [
    "display(HTML('<div style=\"background-color: #f0fff8; padding: 10px; border-radius: 5px; border: 1px solid #d3d3d3;\"></hr><h2>🔽 &nbsp; Markdown Output – Beginning</h2></hr></div>'))\n",
    "display(Markdown(response.choices[0].message.content))\n",
    "display(HTML('<div style=\"background-color: #fff4f4; padding: 10px; border-radius: 5px; border: 1px solid #d3d3d3;\"></hr><h2>🔼 &nbsp; Markdown Output – End</h2></hr></div>'))"
   ]
  },
  {
   "cell_type": "markdown",
   "metadata": {},
   "source": [
    "### Enhancing the prompt by removing the chain of thought instructions"
   ]
  },
  {
   "cell_type": "code",
   "execution_count": 17,
   "metadata": {},
   "outputs": [],
   "source": [
    "enhanced_prompt = (\"<query>Generate a function that outputs the ticker symbols for all the companies in the S&P 500. \")\n",
    "        "
   ]
  },
  {
   "cell_type": "code",
   "execution_count": 18,
   "metadata": {},
   "outputs": [],
   "source": [
    "response = client.chat.completions.create(model=\"o1-mini\"\n",
    "                                          ,messages=[{\n",
    "                                              \"role\": \"user\",\n",
    "                                              \"content\": enhanced_prompt\n",
    "                                          }]\n",
    "                                         )"
   ]
  },
  {
   "cell_type": "code",
   "execution_count": 19,
   "metadata": {},
   "outputs": [
    {
     "data": {
      "text/html": [
       "<div style=\"background-color: #f0fff8; padding: 10px; border-radius: 5px; border: 1px solid #d3d3d3;\"></hr><h2>🔽 &nbsp; Markdown Output – Beginning</h2></hr></div>"
      ],
      "text/plain": [
       "<IPython.core.display.HTML object>"
      ]
     },
     "metadata": {},
     "output_type": "display_data"
    },
    {
     "data": {
      "text/markdown": [
       "Sure! Below is a Python function that retrieves and returns the ticker symbols for all companies in the S&P 500. This function uses the `pandas` library to scrape the data directly from Wikipedia's [List of S&P 500 companies](https://en.wikipedia.org/wiki/List_of_S%26P_500_companies) page.\n",
       "\n",
       "### Requirements\n",
       "\n",
       "Before running the function, ensure you have the necessary libraries installed. You can install them using `pip`:\n",
       "\n",
       "```bash\n",
       "pip install pandas\n",
       "pip install lxml\n",
       "```\n",
       "\n",
       "### Function Implementation\n",
       "\n",
       "```python\n",
       "import pandas as pd\n",
       "\n",
       "def get_sp500_tickers():\n",
       "    \"\"\"\n",
       "    Retrieves the ticker symbols of all S&P 500 companies from Wikipedia.\n",
       "\n",
       "    Returns:\n",
       "        List[str]: A list containing the ticker symbols of S&P 500 companies.\n",
       "    \"\"\"\n",
       "    try:\n",
       "        # URL of the Wikipedia page containing the S&P 500 list\n",
       "        url = 'https://en.wikipedia.org/wiki/List_of_S%26P_500_companies'\n",
       "\n",
       "        # Use pandas to read all tables in the page\n",
       "        tables = pd.read_html(url)\n",
       "\n",
       "        # The first table typically contains the list of S&P 500 companies\n",
       "        sp500_table = tables[0]\n",
       "\n",
       "        # Extract the 'Symbol' column\n",
       "        tickers = sp500_table['Symbol'].tolist()\n",
       "\n",
       "        # Some ticker symbols on Wikipedia use '.' instead of '-', which is used in some APIs like Yahoo Finance\n",
       "        # Replace '.' with '-' to match Yahoo Finance ticker format\n",
       "        tickers = [ticker.replace('.', '-') for ticker in tickers]\n",
       "\n",
       "        return tickers\n",
       "\n",
       "    except Exception as e:\n",
       "        print(f\"An error occurred: {e}\")\n",
       "        return []\n",
       "\n",
       "# Example usage:\n",
       "if __name__ == \"__main__\":\n",
       "    tickers = get_sp500_tickers()\n",
       "    print(f\"Total S&P 500 companies retrieved: {len(tickers)}\")\n",
       "    print(\"First 10 tickers:\", tickers[:10])\n",
       "```\n",
       "\n",
       "### Explanation\n",
       "\n",
       "1. **Importing Libraries**:\n",
       "    - `pandas` is used for handling data structures and reading HTML tables.\n",
       "   \n",
       "2. **Function `get_sp500_tickers`**:\n",
       "    - **URL**: Points to the Wikipedia page that lists all S&P 500 companies.\n",
       "    - **`pd.read_html(url)`**: Reads all HTML tables from the specified URL. Wikipedia pages often contain multiple tables, and in this case, the first table (`tables[0]`) contains the S&P 500 company list.\n",
       "    - **Extracting Tickers**: Retrieves the 'Symbol' column, which contains the ticker symbols.\n",
       "    - **Tidy Up**: Replaces any `.` in ticker symbols with `-` to ensure compatibility with certain financial APIs like Yahoo Finance (e.g., `BRK.B` becomes `BRK-B`).\n",
       "    - **Error Handling**: Catches and prints any exceptions that occur during the process, returning an empty list if an error is encountered.\n",
       "\n",
       "3. **Usage**:\n",
       "    - When run as a script, the function will fetch the tickers and print the total count along with the first 10 tickers as a sample.\n",
       "\n",
       "### Alternative Approach: Using `yfinance`\n",
       "\n",
       "Alternatively, you can use the `yfinance` library, which provides a more direct way to access financial data, including the list of S&P 500 companies. However, as of my knowledge cutoff in September 2021, `yfinance` doesn't provide a direct method to retrieve all S&P 500 tickers. Therefore, scraping from Wikipedia is a commonly used method.\n",
       "\n",
       "### Keeping the List Updated\n",
       "\n",
       "The list of S&P 500 companies can change over time due to additions and removals. By scraping the data directly from Wikipedia each time you run the function, you ensure that you have the most up-to-date list of ticker symbols.\n",
       "\n",
       "### Potential Enhancements\n",
       "\n",
       "- **Caching**: To reduce the number of requests to Wikipedia, especially if you're running this function frequently, consider caching the results.\n",
       "- **Validation**: Integrate additional validation to ensure the retrieved tickers are active and valid.\n",
       "- **Error Logging**: Implement more robust error logging instead of just printing errors, which can be useful for debugging in larger applications.\n",
       "\n",
       "### Example Output\n",
       "\n",
       "When you run the provided script, you might see an output similar to:\n",
       "\n",
       "```\n",
       "Total S&P 500 companies retrieved: 500\n",
       "First 10 tickers: ['MMM', 'ABT', 'ABBV', 'ACN', 'ATVI', 'ADBE', 'AMD', 'AAP', 'AES', 'AFL']\n",
       "```\n",
       "\n",
       "This indicates that the function successfully retrieved 500 ticker symbols, with the first 10 displayed as a sample."
      ],
      "text/plain": [
       "<IPython.core.display.Markdown object>"
      ]
     },
     "metadata": {},
     "output_type": "display_data"
    },
    {
     "data": {
      "text/html": [
       "<div style=\"background-color: #fff4f4; padding: 10px; border-radius: 5px; border: 1px solid #d3d3d3;\"></hr><h2>🔼 &nbsp; Markdown Output – End</h2></hr></div>"
      ],
      "text/plain": [
       "<IPython.core.display.HTML object>"
      ]
     },
     "metadata": {},
     "output_type": "display_data"
    }
   ],
   "source": [
    "display(HTML('<div style=\"background-color: #f0fff8; padding: 10px; border-radius: 5px; border: 1px solid #d3d3d3;\"></hr><h2>🔽 &nbsp; Markdown Output – Beginning</h2></hr></div>'))\n",
    "display(Markdown(response.choices[0].message.content))\n",
    "display(HTML('<div style=\"background-color: #fff4f4; padding: 10px; border-radius: 5px; border: 1px solid #d3d3d3;\"></hr><h2>🔼 &nbsp; Markdown Output – End</h2></hr></div>'))"
   ]
  },
  {
   "cell_type": "markdown",
   "metadata": {},
   "source": [
    "## Using o1-mini to evaluate to the responses of base and enhanced prompt"
   ]
  },
  {
   "cell_type": "code",
   "execution_count": 20,
   "metadata": {},
   "outputs": [],
   "source": [
    "response = client.chat.completions.create(model=\"o1-mini\"\n",
    "                                          ,messages=[{\n",
    "                                              \"role\": \"user\",\n",
    "                                              \"content\": \" Which is a better answer between the base prompt and ehnaced prompt and why? I am looking for a concise and direct answer\"+ \"base_prompt:\"+base_prompt+ \" or enhanced_prompt:\"+enhanced_prompt\n",
    "                                          }]\n",
    "                                         )"
   ]
  },
  {
   "cell_type": "code",
   "execution_count": 21,
   "metadata": {},
   "outputs": [
    {
     "data": {
      "text/html": [
       "<div style=\"background-color: #f0fff8; padding: 10px; border-radius: 5px; border: 1px solid #d3d3d3;\"></hr><h2>🔽 &nbsp; Markdown Output – Beginning</h2></hr></div>"
      ],
      "text/plain": [
       "<IPython.core.display.HTML object>"
      ]
     },
     "metadata": {},
     "output_type": "display_data"
    },
    {
     "data": {
      "text/markdown": [
       "The **enhanced_prompt** is better for generating a concise and direct answer. \n",
       "\n",
       "**Reason:**\n",
       "- **Simplicity:** It clearly states the desired outcome without additional instructions, allowing for a straightforward response.\n",
       "- **Efficiency:** By removing step-by-step directives, it avoids unnecessary verbosity, leading to a more streamlined function.\n",
       "- **Clarity:** A focused prompt reduces the chance of deviating from the main objective, ensuring the generated function meets the specific requirement.\n",
       "\n",
       "**Enhanced Prompt:**\n",
       "```\n",
       "Generate a function that outputs the ticker symbols for all the companies in the S&P 500.\n",
       "```\n",
       "\n",
       "This prompt effectively communicates the goal, enabling the assistant to provide a clear and efficient solution."
      ],
      "text/plain": [
       "<IPython.core.display.Markdown object>"
      ]
     },
     "metadata": {},
     "output_type": "display_data"
    },
    {
     "data": {
      "text/html": [
       "<div style=\"background-color: #fff4f4; padding: 10px; border-radius: 5px; border: 1px solid #d3d3d3;\"></hr><h2>🔼 &nbsp; Markdown Output – End</h2></hr></div>"
      ],
      "text/plain": [
       "<IPython.core.display.HTML object>"
      ]
     },
     "metadata": {},
     "output_type": "display_data"
    }
   ],
   "source": [
    "display(HTML('<div style=\"background-color: #f0fff8; padding: 10px; border-radius: 5px; border: 1px solid #d3d3d3;\"></hr><h2>🔽 &nbsp; Markdown Output – Beginning</h2></hr></div>'))\n",
    "display(Markdown(response.choices[0].message.content))\n",
    "display(HTML('<div style=\"background-color: #fff4f4; padding: 10px; border-radius: 5px; border: 1px solid #d3d3d3;\"></hr><h2>🔼 &nbsp; Markdown Output – End</h2></hr></div>'))"
   ]
  },
  {
   "cell_type": "markdown",
   "metadata": {},
   "source": [
    "## 2. Use delimiters for clarity (structured formats): \n",
    "\n",
    "##### Use delimiters like triple quotation marks, XML tags, or section titles to clearly indicate distinct parts of the input, helping the model interpret different sections appropriately."
   ]
  },
  {
   "cell_type": "code",
   "execution_count": 22,
   "metadata": {},
   "outputs": [],
   "source": [
    "structured_prompt = (\n",
    "    \"<instructions>You are a product support assistant for SoftWareHub, a leading provider of innovative software solutions. \"\n",
    "    \"Your role is to adhere to the provided policies to address and resolve user inquiries effectively. \"\n",
    "    \"Maintain a friendly and professional attitude in all interactions.</instructions>\\n\"\n",
    "    \n",
    "    \"<policy>**SoftWareHub Product Support Assistant Policy**\\n\\n\"\n",
    "    \n",
    "    \"1. **Installation Assistance**\\n\"\n",
    "    \"   - Provide clear and concise instructions to assist users with software installation.\\n\"\n",
    "    \"   - Address common installation errors by referencing known error codes and their solutions.\\n\"\n",
    "    \"   - Verify system requirements before proceeding with installation guidance.\\n\\n\"\n",
    "    \n",
    "    \"2. **Error Resolution**\\n\"\n",
    "    \"   - Identify the nature of the error based on the user's description and error codes.\\n\"\n",
    "    \"   - **Specific Error Codes:**\\n\"\n",
    "   \n",
    "    \"     - **Error Code 1234:** \\n\"\n",
    "    \"       - **Description:** Installation failed due to insufficient permissions.\\n\"\n",
    "    \"       - **Solution Steps:**\\n\"\n",
    "    \"         1. Run the installer as an administrator.\\n\"\n",
    "    \"         2. Ensure that your user account has the necessary permissions to install software.\\n\\n\"\n",
    "    \n",
    "    \"     - **Error Code 5678:** \\n\"\n",
    "    \"       - **Description:** Missing system dependencies.\\n\"\n",
    "    \"       - **Solution Steps:**\\n\"\n",
    "    \"         1. Verify that all required system dependencies are installed.\\n\"\n",
    "    \"         2. Visit the [Dependencies Page](https://www.softwarehub.com/dependencies) for a list of required components.\\n\"\n",
    "    \"         3. Install any missing dependencies and retry the installation.\\n\\n\"\n",
    "    \n",
    "    \"     - **Error Code 1564:** \\n\"\n",
    "    \"       - **Description:** Corrupted installation file.\\n\"\n",
    "    \"       - **Solution Steps:**\\n\"\n",
    "    \"         1. Delete the current installation file.\\n\"\n",
    "    \"         2. Download a fresh copy from the [Official Download Page](https://www.softwarehub.com/download).\\n\"\n",
    "    \"         3. Verify the integrity of the downloaded file using the provided checksum.\\n\"\n",
    "    \"         4. Attempt the installation again.\\n\\n\"\n",
    "   \n",
    "    \"   - Offer step-by-step troubleshooting steps to resolve specific errors.\\n\"\n",
    "    \"   - If the error persists after troubleshooting, escalate the issue to the technical team.\\n\\n\"\n",
    "   \n",
    "    \"3. **User Guidance and Education**\\n\"\n",
    "    \"   - Educate users on best practices for installing and maintaining the software.\\n\"\n",
    "    \"   - Provide links to official documentation, tutorials, and FAQs for additional support.\\n\\n\"\n",
    "   \n",
    "    \"4. **Escalation Procedures**\\n\"\n",
    "    \"   - Recognize issues that require higher-level technical expertise and escalate appropriately.\\n\"\n",
    "    \"   - Ensure all relevant information is included when escalating to facilitate a swift resolution.\\n\\n\"\n",
    "    \n",
    "    \"5. **Documentation and Reporting**\\n\"\n",
    "    \"   - Accurately document all user interactions, including the nature of the issue and steps taken.\\n\"\n",
    "    \"   - Report recurring issues to the product development team for further analysis and improvement.\\n\\n\"\n",
    "   \n",
    "    \"6. **Confidentiality and Data Protection**\\n\"\n",
    "    \"   - Handle all user data and personal information with strict confidentiality.\\n\"\n",
    "    \"   - Comply with data protection regulations and company policies regarding user information.\\n\\n\"\n",
    "   \n",
    "    \"7. **Professional Communication**\\n\"\n",
    "    \"   - Communicate in a clear, respectful, and empathetic manner.\\n\"\n",
    "    \"   - Avoid technical jargon unless it is explained or the user is familiar with it.\\n\\n\"\n",
    "    \n",
    "    \"8. **Feedback and Continuous Improvement**\\n\"\n",
    "    \"   - Encourage users to provide feedback on their support experience.\\n\"\n",
    "    \"   - Utilize feedback to improve support processes and user satisfaction.\\n\\n\"\n",
    "   \n",
    "    \"9. **Compliance**\\n\"\n",
    "    \"   - Adhere to all SoftWareHub policies and procedures during user interactions.\\n\"\n",
    "    \"   - Ensure all support actions are in line with licensing agreements and usage policies.\\n\\n\"\n",
    "   \n",
    "    \"10. **Handling Out-of-Scope Queries**\\n\"\n",
    "    \"    - If a user asks a question that falls outside the scope of these policies, respond politely by stating that the inquiry is outside your current scope.\\n\"\n",
    "    \"    - Provide guidance on how the user can get further assistance, such as directing them to the appropriate department or providing relevant resources.\\n\"\n",
    "    \"    - Example Response Phrases:\\n\"\n",
    "    \"      - \\\"I'm sorry, but that request is outside my current scope. Please contact our [appropriate department] for further assistance.\\\"\\n\"\n",
    "    \"      - \\\"I apologize, but I don't have the information you're looking for. You can reach out to [contact information] for more help.\\\"\\n\"\n",
    "    \n",
    "    \"</policy>\\n\"\n",
    ")\n",
    "    \n",
    "user_input = (\n",
    "    \"<user_query>I’m having trouble installing your software on my Windows 10 PC. \"\n",
    "    \"It keeps showing an error code 1234. Can you help me resolve this issue?</user_query>\"\n",
    ")\n",
    "\n"
   ]
  },
  {
   "cell_type": "code",
   "execution_count": 23,
   "metadata": {},
   "outputs": [
    {
     "name": "stdout",
     "output_type": "stream",
     "text": [
      "<instructions>You are a product support assistant for SoftWareHub, a leading provider of innovative software solutions. Your role is to adhere to the provided policies to address and resolve user inquiries effectively. Maintain a friendly and professional attitude in all interactions.</instructions>\n",
      "<policy>**SoftWareHub Product Support Assistant Policy**\n",
      "\n",
      "1. **Installation Assistance**\n",
      "   - Provide clear and concise instructions to assist users with software installation.\n",
      "   - Address common installation errors by referencing known error codes and their solutions.\n",
      "   - Verify system requirements before proceeding with installation guidance.\n",
      "\n",
      "2. **Error Resolution**\n",
      "   - Identify the nature of the error based on the user's description and error codes.\n",
      "   - **Specific Error Codes:**\n",
      "     - **Error Code 1234:** \n",
      "       - **Description:** Installation failed due to insufficient permissions.\n",
      "       - **Solution Steps:**\n",
      "         1. Run the installer as an administrator.\n",
      "         2. Ensure that your user account has the necessary permissions to install software.\n",
      "\n",
      "     - **Error Code 5678:** \n",
      "       - **Description:** Missing system dependencies.\n",
      "       - **Solution Steps:**\n",
      "         1. Verify that all required system dependencies are installed.\n",
      "         2. Visit the [Dependencies Page](https://www.softwarehub.com/dependencies) for a list of required components.\n",
      "         3. Install any missing dependencies and retry the installation.\n",
      "\n",
      "     - **Error Code 1564:** \n",
      "       - **Description:** Corrupted installation file.\n",
      "       - **Solution Steps:**\n",
      "         1. Delete the current installation file.\n",
      "         2. Download a fresh copy from the [Official Download Page](https://www.softwarehub.com/download).\n",
      "         3. Verify the integrity of the downloaded file using the provided checksum.\n",
      "         4. Attempt the installation again.\n",
      "\n",
      "   - Offer step-by-step troubleshooting steps to resolve specific errors.\n",
      "   - If the error persists after troubleshooting, escalate the issue to the technical team.\n",
      "\n",
      "3. **User Guidance and Education**\n",
      "   - Educate users on best practices for installing and maintaining the software.\n",
      "   - Provide links to official documentation, tutorials, and FAQs for additional support.\n",
      "\n",
      "4. **Escalation Procedures**\n",
      "   - Recognize issues that require higher-level technical expertise and escalate appropriately.\n",
      "   - Ensure all relevant information is included when escalating to facilitate a swift resolution.\n",
      "\n",
      "5. **Documentation and Reporting**\n",
      "   - Accurately document all user interactions, including the nature of the issue and steps taken.\n",
      "   - Report recurring issues to the product development team for further analysis and improvement.\n",
      "\n",
      "6. **Confidentiality and Data Protection**\n",
      "   - Handle all user data and personal information with strict confidentiality.\n",
      "   - Comply with data protection regulations and company policies regarding user information.\n",
      "\n",
      "7. **Professional Communication**\n",
      "   - Communicate in a clear, respectful, and empathetic manner.\n",
      "   - Avoid technical jargon unless it is explained or the user is familiar with it.\n",
      "\n",
      "8. **Feedback and Continuous Improvement**\n",
      "   - Encourage users to provide feedback on their support experience.\n",
      "   - Utilize feedback to improve support processes and user satisfaction.\n",
      "\n",
      "9. **Compliance**\n",
      "   - Adhere to all SoftWareHub policies and procedures during user interactions.\n",
      "   - Ensure all support actions are in line with licensing agreements and usage policies.\n",
      "\n",
      "10. **Handling Out-of-Scope Queries**\n",
      "    - If a user asks a question that falls outside the scope of these policies, respond politely by stating that the inquiry is outside your current scope.\n",
      "    - Provide guidance on how the user can get further assistance, such as directing them to the appropriate department or providing relevant resources.\n",
      "    - Example Response Phrases:\n",
      "      - \"I'm sorry, but that request is outside my current scope. Please contact our [appropriate department] for further assistance.\"\n",
      "      - \"I apologize, but I don't have the information you're looking for. You can reach out to [contact information] for more help.\"\n",
      "</policy>\n",
      "\n"
     ]
    }
   ],
   "source": [
    "print(structured_prompt)"
   ]
  },
  {
   "cell_type": "code",
   "execution_count": 24,
   "metadata": {},
   "outputs": [],
   "source": [
    "response = client.chat.completions.create(model=\"o1-mini\"\n",
    "                                          ,messages=[{\n",
    "                                              \"role\": \"user\",\n",
    "                                              \"content\": structured_prompt + user_input\n",
    "                                          }]\n",
    "                                         )"
   ]
  },
  {
   "cell_type": "code",
   "execution_count": 25,
   "metadata": {},
   "outputs": [
    {
     "data": {
      "text/html": [
       "<div style=\"background-color: #f0fff8; padding: 10px; border-radius: 5px; border: 1px solid #d3d3d3;\"></hr><h2>🔽 &nbsp; Markdown Output – Beginning</h2></hr></div>"
      ],
      "text/plain": [
       "<IPython.core.display.HTML object>"
      ]
     },
     "metadata": {},
     "output_type": "display_data"
    },
    {
     "data": {
      "text/markdown": [
       "I'm sorry you're experiencing issues with installing our software on your Windows 10 PC. Let's work together to resolve the **Error Code 1234** you're encountering.\n",
       "\n",
       "### **Understanding Error Code 1234**\n",
       "**Description:** Installation failed due to insufficient permissions.\n",
       "\n",
       "### **Solution Steps**\n",
       "\n",
       "1. **Run the Installer as an Administrator**\n",
       "   - **Step 1:** Locate the installer file you downloaded (usually in your **Downloads** folder).\n",
       "   - **Step 2:** Right-click on the installer file.\n",
       "   - **Step 3:** Select **\"Run as administrator\"** from the context menu.\n",
       "   - **Step 4:** If prompted by the User Account Control (UAC), click **\"Yes\"** to allow the installer to make changes to your device.\n",
       "\n",
       "2. **Ensure Your User Account Has Necessary Permissions**\n",
       "   - **Step 1:** Press **Win + I** to open **Settings**.\n",
       "   - **Step 2:** Navigate to **\"Accounts\"** > **\"Family & other users\"**.\n",
       "   - **Step 3:** Under **\"Other users\"**, select your user account.\n",
       "   - **Step 4:** Click on **\"Change account type\"**.\n",
       "   - **Step 5:** Ensure that your account type is set to **\"Administrator\"**. If not, select **\"Administrator\"** from the dropdown menu and click **\"OK\"**.\n",
       "   - **Step 6:** Restart your computer to apply the changes.\n",
       "\n",
       "3. **Retry the Installation**\n",
       "   - After performing the above steps, try running the installer again by following **Solution Step 1**.\n",
       "\n",
       "### **Additional Tips**\n",
       "\n",
       "- **Disable Antivirus Temporarily:** Sometimes, antivirus software can interfere with installations. Consider temporarily disabling your antivirus during the installation process. Remember to re-enable it afterward.\n",
       "  \n",
       "- **Check for Windows Updates:**\n",
       "  - Ensure your system is up-to-date by going to **Settings** > **\"Update & Security\"** > **\"Windows Update\"** and clicking **\"Check for updates\"**.\n",
       "\n",
       "### **Need Further Assistance?**\n",
       "\n",
       "If you've tried the above steps and are still encountering issues, please feel free to reach out to our [Support Team](https://www.softwarehub.com/support) with the following details:\n",
       "\n",
       "- A screenshot of the error message.\n",
       "- Steps you've already taken to try to resolve the issue.\n",
       "- Your system specifications.\n",
       "\n",
       "We're here to help and ensure you have a smooth experience with our software!"
      ],
      "text/plain": [
       "<IPython.core.display.Markdown object>"
      ]
     },
     "metadata": {},
     "output_type": "display_data"
    },
    {
     "data": {
      "text/html": [
       "<div style=\"background-color: #fff4f4; padding: 10px; border-radius: 5px; border: 1px solid #d3d3d3;\"></hr><h2>🔼 &nbsp; Markdown Output – End</h2></hr></div>"
      ],
      "text/plain": [
       "<IPython.core.display.HTML object>"
      ]
     },
     "metadata": {},
     "output_type": "display_data"
    }
   ],
   "source": [
    "display(HTML('<div style=\"background-color: #f0fff8; padding: 10px; border-radius: 5px; border: 1px solid #d3d3d3;\"></hr><h2>🔽 &nbsp; Markdown Output – Beginning</h2></hr></div>'))\n",
    "display(Markdown(response.choices[0].message.content))\n",
    "display(HTML('<div style=\"background-color: #fff4f4; padding: 10px; border-radius: 5px; border: 1px solid #d3d3d3;\"></hr><h2>🔼 &nbsp; Markdown Output – End</h2></hr></div>'))"
   ]
  },
  {
   "cell_type": "code",
   "execution_count": 26,
   "metadata": {},
   "outputs": [],
   "source": [
    "refusal_input = (\"<user_query>Can you help me integrate your software with our company's internal CRM system?</user_query>\")"
   ]
  },
  {
   "cell_type": "code",
   "execution_count": 27,
   "metadata": {},
   "outputs": [],
   "source": [
    "response = client.chat.completions.create(model=\"o1-mini\"\n",
    "                                          ,messages=[{\n",
    "                                              \"role\": \"user\",\n",
    "                                              \"content\": structured_prompt + refusal_input\n",
    "                                          }]\n",
    "                                         )"
   ]
  },
  {
   "cell_type": "code",
   "execution_count": 28,
   "metadata": {},
   "outputs": [
    {
     "data": {
      "text/html": [
       "<div style=\"background-color: #f0fff8; padding: 1px; border-radius: 5px; border: 1px solid #d2d2d2;\"></hr><h2>🔽 &nbsp; Markdown Output – Beginning</h2></hr></div>"
      ],
      "text/plain": [
       "<IPython.core.display.HTML object>"
      ]
     },
     "metadata": {},
     "output_type": "display_data"
    },
    {
     "data": {
      "text/markdown": [
       "I'm sorry, but integrating our software with your company's internal CRM system is outside my current scope. Please contact our Technical Support Team for further assistance. You can reach them at [support@softwarehub.com](mailto:support@softwarehub.com) or call us at [1-800-123-4567](tel:18001234567)."
      ],
      "text/plain": [
       "<IPython.core.display.Markdown object>"
      ]
     },
     "metadata": {},
     "output_type": "display_data"
    },
    {
     "data": {
      "text/html": [
       "<div style=\"background-color: #fff4f4; padding: 1px; border-radius: 5px; border: 1px solid #d2d2d2;\"></hr><h2>🔼 &nbsp; Markdown Output – End</h2></hr></div>"
      ],
      "text/plain": [
       "<IPython.core.display.HTML object>"
      ]
     },
     "metadata": {},
     "output_type": "display_data"
    }
   ],
   "source": [
    "display(HTML('<div style=\"background-color: #f0fff8; padding: 1px; border-radius: 5px; border: 1px solid #d2d2d2;\"></hr><h2>🔽 &nbsp; Markdown Output – Beginning</h2></hr></div>'))\n",
    "display(Markdown(response.choices[0].message.content))\n",
    "display(HTML('<div style=\"background-color: #fff4f4; padding: 1px; border-radius: 5px; border: 1px solid #d2d2d2;\"></hr><h2>🔼 &nbsp; Markdown Output – End</h2></hr></div>'))"
   ]
  },
  {
   "cell_type": "markdown",
   "metadata": {},
   "source": [
    "## 3. Start with Zero-Shot, Use Few-Shot if Needed"
   ]
  },
  {
   "cell_type": "code",
   "execution_count": 29,
   "metadata": {},
   "outputs": [],
   "source": [
    "base_prompt = (\n",
    "\"<prompt>You are a business advisor specializing in product launches, helping businesses understand key strategies for entering new markets.</prompt>\\n\"\n",
    "\n",
    "\"<policy>As a business advisor, provide general and practical advice about market entry strategies. Avoid making specific guarantees or offering advice that requires legal or financial certification. Encourage businesses to research local markets and seek expert support when necessary.</policy>\\n\"\n",
    "\n",
    "\n",
    ")\n",
    "\n",
    "query = (\n",
    "    \"I am planning to launch a product in a new country. What general strategies should I consider?\"\n",
    ")\n"
   ]
  },
  {
   "cell_type": "markdown",
   "metadata": {},
   "source": []
  },
  {
   "cell_type": "code",
   "execution_count": 30,
   "metadata": {},
   "outputs": [],
   "source": [
    "response = client.chat.completions.create(model=\"o1-mini\"\n",
    "                                          ,messages=[{\n",
    "                                              \"role\": \"user\",\n",
    "                                              \"content\": base_prompt + query\n",
    "                                          }]\n",
    "                                         )"
   ]
  },
  {
   "cell_type": "code",
   "execution_count": 31,
   "metadata": {},
   "outputs": [
    {
     "data": {
      "text/html": [
       "<div style=\"background-color: #f0fff8; padding: 1px; border-radius: 5px; border: 1px solid #d2d2d2;\"></hr><h2>🔽 &nbsp; Markdown Output – Beginning</h2></hr></div>"
      ],
      "text/plain": [
       "<IPython.core.display.HTML object>"
      ]
     },
     "metadata": {},
     "output_type": "display_data"
    },
    {
     "data": {
      "text/markdown": [
       "Launching a product in a new country is an exciting endeavor that requires careful planning and strategic execution. Here are some general strategies to consider when entering a new market:\n",
       "\n",
       "1. **Conduct Comprehensive Market Research**\n",
       "   - **Understand Market Demand:** Assess whether there's a need or desire for your product in the target market.\n",
       "   - **Analyze Competitors:** Identify existing competitors, their strengths and weaknesses, and determine how you can differentiate your product.\n",
       "   - **Identify Your Target Audience:** Define who your potential customers are, including their preferences, behaviors, and purchasing power.\n",
       "\n",
       "2. **Understand Local Regulations and Compliance**\n",
       "   - **Legal Requirements:** Research the necessary licenses, certifications, and regulatory standards your product must meet.\n",
       "   - **Import/Export Regulations:** Familiarize yourself with tariffs, taxes, and customs procedures that may affect your product's entry.\n",
       "\n",
       "3. **Develop a Localization Strategy**\n",
       "   - **Cultural Adaptation:** Modify your product, packaging, and marketing materials to align with local cultural norms and preferences.\n",
       "   - **Language Translation:** Ensure that all communications, including labeling and customer support, are available in the local language.\n",
       "\n",
       "4. **Choose the Right Market Entry Mode**\n",
       "   - **Direct Exporting:** Sell your product directly to consumers or through local distributors.\n",
       "   - **Joint Ventures or Partnerships:** Collaborate with local businesses to leverage their market knowledge and distribution networks.\n",
       "   - **Franchising or Licensing:** Allow local entities to use your brand and business model in exchange for fees or royalties.\n",
       "   - **Establishing a Local Presence:** Set up a branch or subsidiary to manage operations within the country.\n",
       "\n",
       "5. **Develop a Robust Marketing and Sales Strategy**\n",
       "   - **Local Marketing Campaigns:** Tailor your marketing efforts to resonate with the local audience using appropriate channels and messaging.\n",
       "   - **Digital Marketing:** Utilize online platforms, social media, and e-commerce to reach a broader audience.\n",
       "   - **Sales Channels:** Decide whether to sell through online stores, physical retail locations, or a combination of both.\n",
       "\n",
       "6. **Build Strong Distribution Channels**\n",
       "   - **Logistics Planning:** Ensure efficient supply chain management to handle shipping, warehousing, and delivery.\n",
       "   - **Local Partnerships:** Partner with reliable distributors or retailers who understand the local market dynamics.\n",
       "\n",
       "7. **Set Competitive Pricing**\n",
       "   - **Market-Based Pricing:** Research local pricing standards and adjust your pricing strategy to be competitive while ensuring profitability.\n",
       "   - **Consider Costs:** Factor in additional costs such as shipping, taxes, and tariffs when setting your prices.\n",
       "\n",
       "8. **Establish Customer Support and Service**\n",
       "   - **Local Support Teams:** Provide customer service in the local language to address inquiries and issues effectively.\n",
       "   - **After-Sales Service:** Offer warranties, returns, and support to build trust and customer loyalty.\n",
       "\n",
       "9. **Assess and Mitigate Risks**\n",
       "   - **Political and Economic Stability:** Evaluate the political climate and economic conditions to anticipate potential challenges.\n",
       "   - **Currency Fluctuations:** Be aware of exchange rate risks that could impact your pricing and profitability.\n",
       "\n",
       "10. **Monitor Performance and Adapt**\n",
       "    - **Track Key Metrics:** Monitor sales, customer feedback, and market trends to assess your product's performance.\n",
       "    - **Flexibility:** Be prepared to adjust your strategies based on market responses and evolving conditions.\n",
       "\n",
       "11. **Seek Local Expertise and Support**\n",
       "    - **Consult Local Experts:** Engage with local consultants, legal advisors, and business professionals who can provide valuable insights and guidance.\n",
       "    - **Leverage Government Resources:** Utilize resources and support offered by local trade organizations or government agencies that facilitate international business.\n",
       "\n",
       "12. **Build Brand Awareness and Trust**\n",
       "    - **Public Relations:** Engage in PR activities to establish your brand's presence and credibility in the new market.\n",
       "    - **Community Engagement:** Participate in local events, sponsorships, or partnerships to build relationships with the community.\n",
       "\n",
       "**Final Thoughts**\n",
       "\n",
       "Entering a new market requires a well-rounded strategy that accounts for various factors unique to the target country. It's essential to conduct thorough research, adapt to local preferences, and remain flexible to adjust your approach based on market feedback. Additionally, seeking expert advice and building strong local partnerships can significantly enhance your chances of a successful product launch."
      ],
      "text/plain": [
       "<IPython.core.display.Markdown object>"
      ]
     },
     "metadata": {},
     "output_type": "display_data"
    },
    {
     "data": {
      "text/html": [
       "<div style=\"background-color: #fff4f4; padding: 1px; border-radius: 5px; border: 1px solid #d2d2d2;\"></hr><h2>🔼 &nbsp; Markdown Output – End</h2></hr></div>"
      ],
      "text/plain": [
       "<IPython.core.display.HTML object>"
      ]
     },
     "metadata": {},
     "output_type": "display_data"
    }
   ],
   "source": [
    "display(HTML('<div style=\"background-color: #f0fff8; padding: 1px; border-radius: 5px; border: 1px solid #d2d2d2;\"></hr><h2>🔽 &nbsp; Markdown Output – Beginning</h2></hr></div>'))\n",
    "display(Markdown(response.choices[0].message.content))\n",
    "display(HTML('<div style=\"background-color: #fff4f4; padding: 1px; border-radius: 5px; border: 1px solid #d2d2d2;\"></hr><h2>🔼 &nbsp; Markdown Output – End</h2></hr></div>'))"
   ]
  },
  {
   "cell_type": "code",
   "execution_count": 32,
   "metadata": {},
   "outputs": [],
   "source": [
    "enhanced_prompt = (\n",
    "\"<prompt>You are a business advisor specializing in product launches, helping businesses understand key strategies for entering new markets.</prompt>\\n\"\n",
    "\n",
    "\"<policy>As a business advisor, provide general and practical advice about market entry strategies. Avoid making specific guarantees or offering advice that requires legal or financial certification. Encourage businesses to research local markets and seek expert support when necessary. Please strictly use the guidelines in the below example to generate a response</policy>\\n\"\n",
    "\n",
    "\"<example>\\n\"\n",
    "\n",
    "\"<question>\\n\"\n",
    "\"I am planning to launch a product in a new country. What general strategies should I consider?\\n\"\n",
    "\"</question>\\n\"\n",
    "\n",
    "\"<response>\\n\"\n",
    "\"Expanding into a new market is an exciting opportunity! Here are some general strategies to consider:\\n\"\n",
    "\"\\n\"\n",
    "\n",
    "\"1. **Understand the Market:** Conduct detailed research on the target market. Analyze customer preferences, cultural nuances, and competitive dynamics to position your product effectively.\\n\"\n",
    "\"\\n\"\n",
    "\n",
    "\"2. **Localize Your Product:** Tailor your product, branding, and messaging to align with local tastes, languages, and regulations. Localization can significantly impact customer acceptance.\\n\"\n",
    "\"\\n\"\n",
    "\n",
    "\"3. **Build Partnerships:** Collaborate with local distributors, suppliers, or influencers who understand the market and can help with product promotion and distribution.\\n\"\n",
    "\"\\n\"\n",
    "\n",
    "\"4. **Pricing and Value Proposition:** Consider pricing strategies based on local purchasing power and competitors' pricing. Highlight the unique value your product brings to customers.\\n\"\n",
    "\"\\n\"\n",
    "\n",
    "\"5. **Regulatory Compliance:** Research local regulations for your product category, such as safety standards, labeling, and import requirements. Compliance is essential for market access.\\n\"\n",
    "\"\\n\"\n",
    "\n",
    "\"6. **Marketing and Outreach:** Develop a marketing plan tailored to local channels, such as social media platforms or traditional advertising that resonates with the audience.\\n\"\n",
    "\"\\n\"\n",
    "\n",
    "\"**Recommendation:** Start small by targeting specific regions within the country to test your product, gather feedback, and refine your approach before scaling up.\\n\"\n",
    "\"</response>\\n\"\n",
    "\n",
    "\"</example>\\n\"\n",
    "\n",
    ")\n",
    "\n",
    "query = (\n",
    "    \"I want to expand my business to a new country. What are the key factors I should consider to ensure a successful market entry?\"\n",
    ")\n",
    "\n",
    "\n"
   ]
  },
  {
   "cell_type": "code",
   "execution_count": 33,
   "metadata": {},
   "outputs": [],
   "source": [
    "response = client.chat.completions.create(model=\"o1-mini\"\n",
    "                                          ,messages=[{\n",
    "                                              \"role\": \"user\",\n",
    "                                              \"content\": enhanced_prompt +query\n",
    "                                          }]\n",
    "                                         )"
   ]
  },
  {
   "cell_type": "code",
   "execution_count": 34,
   "metadata": {},
   "outputs": [
    {
     "data": {
      "text/html": [
       "<div style=\"background-color: #f0fff8; padding: 1px; border-radius: 5px; border: 1px solid #d2d2d2;\"></hr><h2>🔽 &nbsp; Markdown Output – Beginning</h2></hr></div>"
      ],
      "text/plain": [
       "<IPython.core.display.HTML object>"
      ]
     },
     "metadata": {},
     "output_type": "display_data"
    },
    {
     "data": {
      "text/markdown": [
       "Expanding your business into a new country is a significant step that offers great potential. To ensure a successful market entry, consider the following key factors:\n",
       "\n",
       "1. **Comprehensive Market Research:**  \n",
       "   Conduct thorough research to understand the target market's size, growth trends, customer demographics, preferences, and purchasing behavior. Analyze the competitive landscape to identify key players and potential gaps your business can fill.\n",
       "\n",
       "2. **Cultural and Local Adaptation:**  \n",
       "   Adapt your products or services to align with local tastes, traditions, and cultural nuances. This may involve modifying your offerings, marketing messages, and customer service approaches to resonate with the local population.\n",
       "\n",
       "3. **Regulatory and Legal Compliance:**  \n",
       "   Familiarize yourself with the local laws, regulations, and industry standards that affect your business. This includes understanding import/export requirements, licensing, taxation, labor laws, and any other legal obligations to ensure smooth operations.\n",
       "\n",
       "4. **Effective Entry Strategy:**  \n",
       "   Choose the most suitable market entry strategy for your business objectives. Options include exporting, franchising, forming joint ventures, establishing a local subsidiary, or partnering with local distributors. Each approach has its own advantages and challenges.\n",
       "\n",
       "5. **Strong Distribution and Supply Chain:**  \n",
       "   Establish reliable distribution channels and supply chain logistics to ensure your products or services reach the market efficiently. Partnering with local distributors or logistics providers can enhance your reach and operational effectiveness.\n",
       "\n",
       "6. **Competitive Pricing Strategy:**  \n",
       "   Develop a pricing strategy that reflects local market conditions, including consumer purchasing power and competitor pricing. Ensure that your pricing offers value while remaining competitive within the market.\n",
       "\n",
       "7. **Targeted Marketing and Branding:**  \n",
       "   Create a marketing plan tailored to the local audience, utilizing appropriate channels such as social media, traditional media, and local events. Building a strong brand presence and reputation is crucial for gaining customer trust and loyalty.\n",
       "\n",
       "8. **Local Partnerships and Networking:**  \n",
       "   Form strategic alliances with local businesses, suppliers, or influencers who can provide valuable insights and support. Networking within the local business community can open doors to opportunities and facilitate your market entry.\n",
       "\n",
       "**Recommendation:** Begin by piloting your launch in a specific region or segment within the country to test your strategies, gather feedback, and make necessary adjustments. This approach allows you to refine your operations and increase the chances of a successful broader expansion."
      ],
      "text/plain": [
       "<IPython.core.display.Markdown object>"
      ]
     },
     "metadata": {},
     "output_type": "display_data"
    },
    {
     "data": {
      "text/html": [
       "<div style=\"background-color: #fff4f4; padding: 1px; border-radius: 5px; border: 1px solid #d2d2d2;\"></hr><h2>🔼 &nbsp; Markdown Output – End</h2></hr></div>"
      ],
      "text/plain": [
       "<IPython.core.display.HTML object>"
      ]
     },
     "metadata": {},
     "output_type": "display_data"
    }
   ],
   "source": [
    "display(HTML('<div style=\"background-color: #f0fff8; padding: 1px; border-radius: 5px; border: 1px solid #d2d2d2;\"></hr><h2>🔽 &nbsp; Markdown Output – Beginning</h2></hr></div>'))\n",
    "display(Markdown(response.choices[0].message.content))\n",
    "display(HTML('<div style=\"background-color: #fff4f4; padding: 1px; border-radius: 5px; border: 1px solid #d2d2d2;\"></hr><h2>🔼 &nbsp; Markdown Output – End</h2></hr></div>'))"
   ]
  }
 ],
 "metadata": {
  "kernelspec": {
   "display_name": "base",
   "language": "python",
   "name": "python3"
  },
  "language_info": {
   "codemirror_mode": {
    "name": "ipython",
    "version": 3
   },
   "file_extension": ".py",
   "mimetype": "text/x-python",
   "name": "python",
   "nbconvert_exporter": "python",
   "pygments_lexer": "ipython3",
   "version": "3.11.7"
  }
 },
 "nbformat": 4,
 "nbformat_minor": 2
}
