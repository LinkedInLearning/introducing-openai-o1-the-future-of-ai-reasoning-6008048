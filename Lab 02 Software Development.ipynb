{
 "cells": [
  {
   "cell_type": "markdown",
   "metadata": {},
   "source": [
    "# Lab 02: Software Development with o-series models\n",
    "\n",
    "This notebook explores the code development capabilities of o1 models and compares its reliability with GPT models."
   ]
  },
  {
   "cell_type": "code",
   "execution_count": 7,
   "metadata": {},
   "outputs": [
    {
     "name": "stdout",
     "output_type": "stream",
     "text": [
      "The capital of France is **Paris**.\n"
     ]
    }
   ],
   "source": [
    "\"\"\"Run this model in Python\n",
    "\n",
    "> pip install openai\n",
    "\"\"\"\n",
    "import os\n",
    "from openai import OpenAI\n",
    "from dotenv import load_dotenv\n",
    "from IPython.display import display, Markdown, HTML\n",
    "\n",
    "# Load environment variables from .env file\n",
    "load_dotenv()\n",
    "\n",
    "# To authenticate with the model you will need to generate a personal access token (PAT) in your GitHub settings. \n",
    "# Create your PAT token by following instructions here: https://docs.github.com/en/authentication/keeping-your-account-and-data-secure/managing-your-personal-access-tokens\n",
    "client = OpenAI(\n",
    "    base_url=\"https://models.inference.ai.azure.com\",\n",
    "    api_key=os.environ[\"githubtoken\"],\n",
    ")\n",
    "\n",
    "#Testing the model\n",
    "response = client.chat.completions.create(\n",
    "    messages=[\n",
    "        {\n",
    "            \"role\": \"user\",\n",
    "            \"content\": \"What is the capital of France?\",\n",
    "        }\n",
    "    ],\n",
    "    model=\"o1-mini\"\n",
    ")\n",
    "\n",
    "print(response.choices[0].message.content)"
   ]
  },
  {
   "cell_type": "markdown",
   "metadata": {},
   "source": [
    "## Step 1: Crafting a prompt to generate a complete HTML page for a Space Invaders game"
   ]
  },
  {
   "cell_type": "code",
   "execution_count": 8,
   "metadata": {},
   "outputs": [],
   "source": [
    "game_dev_prompt = (\"Make a full HTML page containing a playable Space Invaders game written in Javascript using solely SVG graphics defined inline on the page. \"\n",
    "               \"Make the aliens colorful and look like pixelated bugs. \"\n",
    "               \"Make the ship that shoots the bullets colorful and look like a little spaceship. \"\n",
    "               \"When the game ends, just restart the game automatically.\")"
   ]
  },
  {
   "cell_type": "markdown",
   "metadata": {},
   "source": [
    "## Step 2: Retrieving a Response from GPT-4o"
   ]
  },
  {
   "cell_type": "code",
   "execution_count": 9,
   "metadata": {},
   "outputs": [],
   "source": [
    "response_4o = client.chat.completions.create(model=\"gpt-4o\"\n",
    "                                          ,messages=[{\n",
    "                                              \"role\": \"user\",\n",
    "                                              \"content\": game_dev_prompt\n",
    "                                          }]\n",
    "                                         )"
   ]
  },
  {
   "cell_type": "markdown",
   "metadata": {},
   "source": [
    "### Step 3: Saving the GPT-4o Response as an HTML File"
   ]
  },
  {
   "cell_type": "code",
   "execution_count": 10,
   "metadata": {},
   "outputs": [
    {
     "name": "stdout",
     "output_type": "stream",
     "text": [
      "HTML content has been written to output_gpt4o.html\n"
     ]
    }
   ],
   "source": [
    "# Assuming response.choices[0].message.content contains the HTML content\n",
    "html_content_gpt4o = response_4o.choices[0].message.content\n",
    "\n",
    "# Define the file path where you want to save the HTML content\n",
    "file_path = 'output_gpt4o.html'\n",
    "\n",
    "# Write the HTML content to the file\n",
    "with open(file_path, 'w', encoding='utf-8') as file:\n",
    "    file.write(html_content_gpt4o)\n",
    "\n",
    "print(f\"HTML content has been written to {file_path}\")"
   ]
  },
  {
   "cell_type": "markdown",
   "metadata": {},
   "source": [
    "## Step 4: Retrieving a Response from o3-mini"
   ]
  },
  {
   "cell_type": "code",
   "execution_count": 11,
   "metadata": {},
   "outputs": [],
   "source": [
    "game_dev_prompt = (\"Make a full HTML page containing a playable Space Invaders game written in Javascript using solely SVG graphics defined inline on the page. \"\n",
    "               \"Make the aliens colorful and look like pixelated bugs. \"\n",
    "               \"Make the ship that shoots the bullets colorful and look like a little spaceship. \"\n",
    "               \"When the game ends, just restart the game automatically.\")"
   ]
  },
  {
   "cell_type": "code",
   "execution_count": 12,
   "metadata": {},
   "outputs": [],
   "source": [
    "response_o3 = client.chat.completions.create(model=\"o3-mini\"\n",
    "                                          ,messages=[{\n",
    "                                              \"role\": \"user\",\n",
    "                                              \"content\": game_dev_prompt\n",
    "                                          }]\n",
    "                                         )"
   ]
  },
  {
   "cell_type": "code",
   "execution_count": 22,
   "metadata": {},
   "outputs": [
    {
     "name": "stdout",
     "output_type": "stream",
     "text": [
      "HTML content has been written to output_o3.html\n"
     ]
    }
   ],
   "source": [
    "# Assuming response.choices[0].message.content contains the HTML content\n",
    "html_content_o3 = response_o3.choices[0].message.content\n",
    "\n",
    "# Define the file path where you want to save the HTML content\n",
    "file_path = 'output_o3.html'\n",
    "\n",
    "# Write the HTML content to the file\n",
    "with open(file_path, 'w', encoding='utf-8') as file:\n",
    "    file.write(html_content_o3)\n",
    "\n",
    "print(f\"HTML content has been written to {file_path}\")"
   ]
  },
  {
   "cell_type": "markdown",
   "metadata": {},
   "source": [
    "## Step 6: Evaluating code from GPT-4o and o3-mini using o1 (Since the context length is long)"
   ]
  },
  {
   "cell_type": "code",
   "execution_count": 20,
   "metadata": {},
   "outputs": [],
   "source": [
    "response = client.chat.completions.create(\n",
    "    model=\"gpt-4o\",\n",
    "    messages=[{\n",
    "        \"role\": \"user\",\n",
    "        \"content\": f\"I am trying to evaluate the game development code response from GPT-4o and o3-mini. Which is a better code in terms of reliability for the game dev prompt: {game_dev_prompt}\\n\\n o3-mini output: {html_content_o3} gpt-4o output \\n\\n{html_content_gpt4o}\"\n",
    "    }]\n",
    ")"
   ]
  },
  {
   "cell_type": "code",
   "execution_count": 21,
   "metadata": {},
   "outputs": [
    {
     "data": {
      "text/html": [
       "<div style=\"background-color: #f0fff8; padding: 10px; border-radius: 5px; border: 1px solid #d3d3d3;\"></hr><h2>🔽 &nbsp; Markdown Output – Beginning</h2></hr></div>"
      ],
      "text/plain": [
       "<IPython.core.display.HTML object>"
      ]
     },
     "metadata": {},
     "output_type": "display_data"
    },
    {
     "data": {
      "text/markdown": [
       "In terms of **reliability for game development** and adhering to the constraints of the prompt (Space Invaders, inline SVG rendering, colorful visuals, and automatic game restart), here is an evaluation of the two responses:\n",
       "\n",
       "---\n",
       "\n",
       "### **Evaluation Framework**\n",
       "- **Code Completeness**: Does the code fully implement a playable Space Invaders game (aliens, bullets, movement, collision, victory reset)?\n",
       "- **Adherence to Prompt**: Are the requirements met — inline SVG graphics, colorful aliens resembling pixelated bugs, and automatic game restart?\n",
       "- **Efficiency & Simplicity**: Is the code structured efficiently and easy to modify, maintain, and debug?\n",
       "- **Gameplay Quality**: Does the game offer a smooth playable experience with proper mechanics?\n",
       "- **Reliability**: Is the implementation resilient to issues such as edge cases, bugs, or performance degradation?\n",
       "\n",
       "---\n",
       "\n",
       "### **Breakdown of Each Output**\n",
       "\n",
       "---\n",
       "\n",
       "#### **1. `o3-mini` Output**\n",
       "**Key Strengths:**\n",
       "- The `o3-mini` output shows remarkable attention to detail:\n",
       "  1. **Pixelated and Randomly Colored Bugs:** The aliens are implemented using a 5×5 grid pattern, giving them a pixelated bug-like appearance, which satisfies this part of the prompt better than `gpt-4o`.\n",
       "  2. **Ship Design:** The player ship is drawn as a compact polygonally defined spaceship, fulfilling the requirement of a colorful spaceship.\n",
       "  3. **Inline SVG Rendering:** All game elements (aliens, spaceship, bullets) are rendered inline using the `<svg>` element with dynamically generated sub-elements. This meets the SVG-only rendering requirement perfectly.\n",
       "  4. **Automatic Reset:** It handles game reset by checking for a \"game-over\" state (either all aliens are destroyed or one alien reaches the ship zone) and restarts the game automatically after a delay, which aligns with the prompt's requirements.\n",
       "\n",
       "**Weaknesses:**\n",
       "- **Performance at Scale:** The use of individual `<rect>` elements for each cell in the aliens' grid (5×5 per alien) might make the game sluggish, especially with a grid of 10×5 aliens (50 aliens × 25 rectangles = 1,250 objects to render and update).\n",
       "- **Complexity of Code**: Although comprehensive, the code is verbose and can be challenging for beginners to navigate or tweak.\n",
       "- **Limited Bullet-Ship Interaction:** The code allows only a single active bullet at any given time, limiting gameplay fluidity.\n",
       "- **Minor Bug with Alien Movement:** The alien bottom collision detection is somewhat tied to their position update logic and may cause small inaccuracies (delayed detection).\n",
       "\n",
       "**Gameplay Quality:**\n",
       "- The game feels relatively well-defined and consistent. The aliens move side-to-side and drop down as expected, bullets interact with aliens, and game-ending conditions are appropriately handled.\n",
       "\n",
       "---\n",
       "\n",
       "#### **2. `gpt-4o` Output**\n",
       "**Key Strengths:**\n",
       "- **Conciseness:** The code is more concise compared to `o3-mini`, making it easier to read, maintain, and modify. It nicely encapsulates the essential mechanics.\n",
       "- **Moving Aliens and Automatic Restart:** Aliens move horizontally and shift down when reaching edges, and the game restarts when all aliens are destroyed or bullets collide with all.\n",
       "- **Simplified Rendering:** Instead of rendering each alien as a pixelated bug, the use of a `<rect>` element decorated with vibrant hues (`hsl` color) keeps rendering lightweight without sacrificing colorful visuals.\n",
       "\n",
       "**Weaknesses:**\n",
       "- **Aliens Are Not Pixelated Bugs:** Aliens are implemented as simple colored rectangles, which does not fulfill the prompt's emphasis on \"pixelated bug-like\" visuals.\n",
       "- **Bullet-Ship Interaction:** Similar to `o3-mini`, this implementation supports firing only one bullet at a time, limiting gameplay dynamics.\n",
       "- **Less SVG Customization:** While rendering is done purely in SVG, the game could use more creative spaceship or alien designs (e.g., detailed geometry like in `o3-mini`).\n",
       "\n",
       "**Gameplay Quality:**\n",
       "- Faster and slightly simpler gameplay compared to `o3-mini`. However, it doesn't feel as detailed or polished visually. Most actions (collision, alien movement) work as expected without major bugs.\n",
       "\n",
       "---\n",
       "\n",
       "### **Comparison Table**\n",
       "\n",
       "| **Criteria**              | **o3-mini**                                                    | **gpt-4o**                                                   |\n",
       "|---------------------------|----------------------------------------------------------------|-------------------------------------------------------------|\n",
       "| **Code Completeness**     | Fully implements Space Invaders with pixelated bugs, ship, and bullets. | Fully implements core game logic but lacks pixelated bugs. |\n",
       "| **Adherence to Prompt**   | Fully adheres to the inline SVG requirement, colorful visuals (bugs/ship), and auto-restart behavior. | Mostly adheres but fails to create pixelated aliens (uses rectangles). |\n",
       "| **Efficiency**            | Alien rendering (5x5 grid) is resource-heavy for larger grids. | Simplified SVG design ensures better efficiency.            |\n",
       "| **Simplicity**            | Verbose and harder for beginners to tweak or maintain.         | Concise, readable, and beginner-friendly.                  |\n",
       "| **Gameplay Quality**      | Smooth gameplay but limited to one bullet at a time; aliens move properly. | Smooth gameplay, efficient logic, but lacks detailed visuals. |\n",
       "| **Reliability**           | Rare minor bugs with alien movement; handles reset logic robustly. | Very reliable; minimal edge case handling needed.           |\n",
       "\n",
       "---\n",
       "\n",
       "### **Conclusion**\n",
       "\n",
       "- **Best for Reliability & Adherence to Prompt:** \n",
       "  - The **`o3-mini` output** stands out for its **attention to detail** in creating pixelated, multi-colored bug-like aliens and a well-drawn spaceship, both customizable and artistically closer to Space Invaders. It surpasses in visual fidelity while maintaining auto-restart mechanics.\n",
       "  - It does, however, suffer from minor performance concerns and verbosity.\n",
       "\n",
       "- **Best for Simplicity & Performance:** \n",
       "  - The **`gpt-4o` output** is better for **performance** and simplicity, with a faster-moving alien grid and concise implementation. However, it fails to meet a key visual requirement — creating pixelated aliens, which makes it less compliant with the prompt.\n",
       "\n",
       "---\n",
       "\n",
       "### **Final Recommendation**:\n",
       "If **fidelity to the prompt and visual authenticity** are more important, **choose `o3-mini`**.  \n",
       "If **performance, simplicity, and readability** are more critical, **choose `gpt-4o`**."
      ],
      "text/plain": [
       "<IPython.core.display.Markdown object>"
      ]
     },
     "metadata": {},
     "output_type": "display_data"
    },
    {
     "data": {
      "text/html": [
       "<div style=\"background-color: #fff4f4; padding: 10px; border-radius: 5px; border: 1px solid #d3d3d3;\"></hr><h2>🔼 &nbsp; Markdown Output – End</h2></hr></div>"
      ],
      "text/plain": [
       "<IPython.core.display.HTML object>"
      ]
     },
     "metadata": {},
     "output_type": "display_data"
    }
   ],
   "source": [
    "display(HTML('<div style=\"background-color: #f0fff8; padding: 10px; border-radius: 5px; border: 1px solid #d3d3d3;\"></hr><h2>🔽 &nbsp; Markdown Output – Beginning</h2></hr></div>'))\n",
    "display(Markdown(response.choices[0].message.content))\n",
    "display(HTML('<div style=\"background-color: #fff4f4; padding: 10px; border-radius: 5px; border: 1px solid #d3d3d3;\"></hr><h2>🔼 &nbsp; Markdown Output – End</h2></hr></div>'))"
   ]
  },
  {
   "cell_type": "code",
   "execution_count": null,
   "metadata": {},
   "outputs": [],
   "source": []
  }
 ],
 "metadata": {
  "kernelspec": {
   "display_name": "base",
   "language": "python",
   "name": "python3"
  },
  "language_info": {
   "codemirror_mode": {
    "name": "ipython",
    "version": 3
   },
   "file_extension": ".py",
   "mimetype": "text/x-python",
   "name": "python",
   "nbconvert_exporter": "python",
   "pygments_lexer": "ipython3",
   "version": "3.11.7"
  }
 },
 "nbformat": 4,
 "nbformat_minor": 2
}
