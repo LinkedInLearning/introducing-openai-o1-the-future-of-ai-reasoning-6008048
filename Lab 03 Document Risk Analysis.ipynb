{
 "cells": [
  {
   "cell_type": "markdown",
   "metadata": {},
   "source": [
    "# Lab 03: Document Risk Analysis\n",
    "\n",
    "This notebook explores the document risk analysis capabilities of O-Series reasoning models by combining multiple datasets with enhanced reasoning.\n",
    "\n",
    "It serves as a practical demonstration of fraud detection, leveraging unstructured (transaction logs) and structured (emails, transcripts, sms) data to improve decision-making.\n",
    "\n",
    "These flagged transactions are fictitious, lab-generated credit/debit card purchases designed to illustrate common patterns of fraud (e.g., large purchases on new devices, location mismatches). In real systems, similar transaction data might flow in from bank payment networks, e‑commerce platforms, or internal databases that log user activities and device usage.\n",
    "\n",
    "Case managers, responsible for investigating flagged transactions, often face an overwhelming number of alerts with limited context. Traditional systems generate excessive noise, making it difficult to identify truly fraudulent cases.\n",
    "\n",
    "This notebook enhances case managers’ efficiency by:\n",
    "\n",
    "✅ Linking transaction data with customer complaints\n",
    "\n",
    "✅ Prioritizing high-risk cases using AI-powered reasoning\n",
    "\n",
    "✅ Providing meaningful insights to reduce manual workload\n",
    "\n",
    "By integrating o-series models for document risk analysis, this system ensures that case managers focus on the most critical cases, detect fraud faster, and take informed action."
   ]
  },
  {
   "cell_type": "code",
   "execution_count": null,
   "metadata": {},
   "outputs": [
    {
     "name": "stdout",
     "output_type": "stream",
     "text": [
      "The capital of France is Paris.\n"
     ]
    }
   ],
   "source": [
    "## This is a Test Code\n",
    "\"\"\"Run this model in Python\n",
    "\n",
    "> pip install openai\n",
    "\"\"\"\n",
    "import os\n",
    "from openai import OpenAI\n",
    "from dotenv import load_dotenv\n",
    "from IPython.display import display, Markdown, HTML, Image\n",
    "\n",
    "# Load environment variables from .env file\n",
    "load_dotenv()\n",
    "\n",
    "# To authenticate with the model you will need to generate a personal access token (PAT) in your GitHub settings. \n",
    "# Create your PAT token by following instructions here: https://docs.github.com/en/authentication/keeping-your-account-and-data-secure/managing-your-personal-access-tokens\n",
    "client = OpenAI(\n",
    "    base_url=\"https://models.inference.ai.azure.com\",\n",
    "    api_key=os.environ[\"tokenx\"],\n",
    ")\n",
    "\n",
    "#Testing the model\n",
    "response = client.chat.completions.create(\n",
    "    messages=[\n",
    "        {\n",
    "            \"role\": \"user\",\n",
    "            \"content\": \"What is the capital of France?\",\n",
    "        }\n",
    "    ],\n",
    "    model=\"o3-mini\",\n",
    "    reasoning_effort=\"high\" \n",
    ")\n",
    "\n",
    "print(response.choices[0].message.content)"
   ]
  },
  {
   "cell_type": "markdown",
   "metadata": {},
   "source": [
    "### Step 1. Read the Data from two files consisting of structured and unstructured data"
   ]
  },
  {
   "cell_type": "code",
   "execution_count": 3,
   "metadata": {},
   "outputs": [
    {
     "name": "stdout",
     "output_type": "stream",
     "text": [
      "  CaseID MessageType                                            Message\n",
      "0   C001       Email  Subject: Duplicate Charge Alert. Body: I see t...\n",
      "1   C002        Call  Transcript: Caller refused to provide SSN on t...\n",
      "2   C003       Email  Subject: Basic Inquiry. Body: I’m just checkin...\n",
      "3   C004        Call  Transcript: Customer disputed a $350 airfare c...\n",
      "4   C005       Email  Subject: One Question. Body: Which day does my...\n",
      "                       1. Customer C001 (Adams)\n",
      "0                                    Rationale:\n",
      "1                   - Flagged Transactions: Yes\n",
      "2                 - Fraud Risk Score: 90 (High)\n",
      "3     - Account Age: 0.8 years (Newish Account)\n",
      "4                 - Suspicious Device Activity:\n"
     ]
    }
   ],
   "source": [
    "import pandas as pd\n",
    "# Read the transcripts CSV file\n",
    "\n",
    "transcripts_df = pd.read_csv('Data/transcripts_emails_data.csv')\n",
    "\n",
    "# Read the flagged transactions file\n",
    "with open('Data/flagged_transactions.txt', 'r') as file:\n",
    "    flagged_transactions_df = pd.read_csv(file, delimiter='\\t')\n",
    "\n",
    "print(transcripts_df.head())\n",
    "print(flagged_transactions_df.head())"
   ]
  },
  {
   "cell_type": "code",
   "execution_count": 21,
   "metadata": {},
   "outputs": [
    {
     "name": "stdout",
     "output_type": "stream",
     "text": [
      "<instructions>You are an expert in fraud detection and analysis of both structured and unstructured data. Based on the provided fraud dataset—which includes a structured file of transaction summaries and an unstructured file of call/email transcripts—perform the following tasks in an HTML format:\n",
      "1. Identify medium and high-risk cases by referencing structured attributes (such as Fraud Risk Score, Device Activity, and AML/KYC Flags).\n",
      "2. For each medium and high-risk case, analyze the unstructured transcripts (emails, calls, chats) for additional evidence of fraud or legitimate explanations.\n",
      "3. Detect any false positives by cross-referencing 'Final Note' fields or contradictory information in the transcripts. \n",
      "4. Callout false positives in a neatly formmatted table and explain the reason why was it flagged and the reason for it being false positive\n",
      "5. Summarize all findings in a clear, concise plain-text report using simple language. .\n",
      "6. Only use the information provided in the input data to generate your conclusions.\n",
      "</instructions>\n"
     ]
    }
   ],
   "source": [
    "structured_prompt = (\n",
    "    \"<instructions>\"\n",
    "    \"You are an expert in fraud detection and analysis of both structured and unstructured data. \"\n",
    "    \"Based on the provided fraud dataset—which includes a structured file of transaction summaries and an unstructured file of call/email transcripts—perform the following tasks in an HTML format:\\n\"\n",
    "    \"1. Identify medium and high-risk cases by referencing structured attributes (such as Fraud Risk Score, Device Activity, and AML/KYC Flags).\\n\"\n",
    "    \"2. For each medium and high-risk case, analyze the unstructured transcripts (emails, calls, chats) for additional evidence of fraud or legitimate explanations.\\n\"\n",
    "    \"3. Detect any false positives by cross-referencing 'Final Note' fields or contradictory information in the transcripts. \\n\"\n",
    "    \"4. Callout false positives in a neatly formmatted table and explain the reason why was it flagged and the reason for it being false positive\\n\"\n",
    "    \"5. Summarize all findings in a clear, concise plain-text report using simple language. .\\n\"\n",
    "    \"6. Only use the information provided in the input data to generate your conclusions.\\n\"\n",
    "    \"</instructions>\"\n",
    ")\n",
    "\n",
    "print(structured_prompt)\n"
   ]
  },
  {
   "cell_type": "code",
   "execution_count": 22,
   "metadata": {},
   "outputs": [],
   "source": [
    "messages = [{\n",
    "    \"role\": \"user\",\n",
    "    \"content\": \"Extract medium and high risk transaction\" + \"\\n\" + flagged_transactions_df.to_string()\n",
    "}]\n",
    "\n",
    "response1 = client.chat.completions.create(model=\"gpt-4o\",\n",
    "                                          messages=messages)\n"
   ]
  },
  {
   "cell_type": "code",
   "execution_count": 23,
   "metadata": {},
   "outputs": [
    {
     "data": {
      "text/html": [
       "<div style=\"background-color: #f0fff8; padding: 10px; border-radius: 5px; border: 1px solid #d3d3d3;\"></hr><h2>🔽 &nbsp; Markdown Output – Beginning</h2></hr></div>"
      ],
      "text/plain": [
       "<IPython.core.display.HTML object>"
      ]
     },
     "metadata": {},
     "output_type": "display_data"
    },
    {
     "data": {
      "text/markdown": [
       "### Extracted Medium and High Risk Transactions\n",
       "\n",
       "**High Risk Transactions (Fraud Risk Score ≥ 75):**\n",
       "1. **Customer C001 (Adams)**  \n",
       "   - Fraud Risk Score: 90 (High)  \n",
       "   - Recent Purchases: Multiple SIM Cards, High-End Electronics  \n",
       "\n",
       "2. **Customer C002 (Baker)**  \n",
       "   - Fraud Risk Score: 95 (Very High)  \n",
       "   - Recent Purchases: Old Phone, SIM Card – Brand A  \n",
       "\n",
       "3. **Customer C006 (Franklin)**  \n",
       "   - Fraud Risk Score: 88 (High)  \n",
       "   - Recent Purchases: Multiple Gift Cards  \n",
       "\n",
       "4. **Customer C011 (Keller)**  \n",
       "   - Fraud Risk Score: 90 (High)  \n",
       "   - Recent Purchases: High-End Watches  \n",
       "\n",
       "5. **Customer C015 (Owens)**  \n",
       "   - Fraud Risk Score: 75 (High)  \n",
       "   - Recent Purchases: Foreign Currency  \n",
       "\n",
       "6. **Customer C017 (Quinn)**  \n",
       "   - Fraud Risk Score: 82 (High)  \n",
       "   - Recent Purchases: Cryptocurrency  \n",
       "\n",
       "7. **Customer C020 (Taylor)**  \n",
       "   - Fraud Risk Score: 92 (High)  \n",
       "   - Recent Purchases: Plane Tickets, Luxury Hotel  \n",
       "\n",
       "8. **Customer C024 (Xie)**  \n",
       "   - Fraud Risk Score: 77 (High)  \n",
       "   - Recent Purchases: Luxury Shoes  \n",
       "\n",
       "9. **Customer C026 (Zhang)**  \n",
       "   - Fraud Risk Score: 85 (High)  \n",
       "   - Recent Purchases: Electronics, Crypto  \n",
       "\n",
       "10. **Customer C029 (Chan)**  \n",
       "    - Fraud Risk Score: 93 (Very High)  \n",
       "    - Recent Purchases: High-Value Electronics  \n",
       "\n",
       "---\n",
       "\n",
       "**Medium Risk Transactions (Fraud Risk Score 50–74):**\n",
       "1. **Customer C004 (Davis)**  \n",
       "   - Fraud Risk Score: 65 (Medium)  \n",
       "   - Recent Purchases: Airline Tickets  \n",
       "\n",
       "2. **Customer C007 (Garcia)**  \n",
       "   - Fraud Risk Score: 58 (Medium)  \n",
       "   - Recent Purchases: Jewelry  \n",
       "\n",
       "3. **Customer C009 (Ingram)**  \n",
       "   - Fraud Risk Score: 72 (Medium)  \n",
       "   - Recent Purchases: Electronics Return  \n",
       "\n",
       "4. **Customer C013 (Miller)**  \n",
       "   - Fraud Risk Score: 53 (Medium)  \n",
       "   - Recent Purchases: Car Parts  \n",
       "\n",
       "5. **Customer C019 (Sanchez)**  \n",
       "   - Fraud Risk Score: 60 (Medium)  \n",
       "   - Recent Purchases: Mobile Accessories  \n",
       "\n",
       "6. **Customer C022 (Vargas)**  \n",
       "   - Fraud Risk Score: 70 (Medium)  \n",
       "   - Recent Purchases: Bulk Gift Cards  \n",
       "\n",
       "7. **Customer C028 (Braun)**  \n",
       "   - Fraud Risk Score: 68 (Medium)  \n",
       "   - Recent Purchases: Designer Bag  "
      ],
      "text/plain": [
       "<IPython.core.display.Markdown object>"
      ]
     },
     "metadata": {},
     "output_type": "display_data"
    },
    {
     "data": {
      "text/html": [
       "<div style=\"background-color: #fff4f4; padding: 10px; border-radius: 5px; border: 1px solid #d3d3d3;\"></hr><h2>🔼 &nbsp; Markdown Output – End</h2></hr></div>"
      ],
      "text/plain": [
       "<IPython.core.display.HTML object>"
      ]
     },
     "metadata": {},
     "output_type": "display_data"
    }
   ],
   "source": [
    "display(HTML('<div style=\"background-color: #f0fff8; padding: 10px; border-radius: 5px; border: 1px solid #d3d3d3;\"></hr><h2>🔽 &nbsp; Markdown Output – Beginning</h2></hr></div>'))\n",
    "display(Markdown(response1.choices[0].message.content))\n",
    "display(HTML('<div style=\"background-color: #fff4f4; padding: 10px; border-radius: 5px; border: 1px solid #d3d3d3;\"></hr><h2>🔼 &nbsp; Markdown Output – End</h2></hr></div>'))\n",
    "\n",
    "medium_high_risk = response1.choices[0].message.content\n"
   ]
  },
  {
   "cell_type": "code",
   "execution_count": 35,
   "metadata": {},
   "outputs": [],
   "source": [
    "messages = [{\n",
    "    \"role\": \"user\",\n",
    "    \"content\": structured_prompt + \"\\n\" + medium_high_risk + \"\\n\" + transcripts_df.to_string()\n",
    "}]\n",
    "\n",
    "response = client.chat.completions.create(model=\"o1\", \n",
    "                                          messages=messages)\n"
   ]
  },
  {
   "cell_type": "code",
   "execution_count": null,
   "metadata": {},
   "outputs": [
    {
     "data": {
      "text/html": [
       "<div style=\"background-color: #f0fff8; padding: 10px; border-radius: 5px; border: 1px solid #d3d3d3;\"></hr><h2>🔽 &nbsp; Markdown Output – Beginning</h2></hr></div>"
      ],
      "text/plain": [
       "<IPython.core.display.HTML object>"
      ]
     },
     "metadata": {},
     "output_type": "display_data"
    },
    {
     "data": {
      "text/markdown": [
       "<!DOCTYPE html>\n",
       "<html>\n",
       "<head>\n",
       "    <meta charset=\"UTF-8\">\n",
       "    <title>Fraud Analysis Report</title>\n",
       "    <style>\n",
       "        body {\n",
       "            font-family: Arial, sans-serif;\n",
       "            margin: 20px;\n",
       "            padding: 0;\n",
       "        }\n",
       "        h1, h2, h3 {\n",
       "            color: #333;\n",
       "        }\n",
       "        .risk-section {\n",
       "            margin-bottom: 30px;\n",
       "        }\n",
       "        .false-positive-table, .false-positive-table th, .false-positive-table td {\n",
       "            border: 1px solid #ccc;\n",
       "            border-collapse: collapse;\n",
       "        }\n",
       "        .false-positive-table th, .false-positive-table td {\n",
       "            padding: 8px;\n",
       "            text-align: left;\n",
       "        }\n",
       "        .report {\n",
       "            background-color: #f9f9f9;\n",
       "            border: 1px solid #ccc;\n",
       "            padding: 15px;\n",
       "            max-width: 600px;\n",
       "            margin-top: 30px;\n",
       "        }\n",
       "    </style>\n",
       "</head>\n",
       "<body>\n",
       "\n",
       "<h1>Fraud Analysis Report</h1>\n",
       "\n",
       "<!-- 1. Identify Medium and High-Risk Cases -->\n",
       "<div class=\"risk-section\">\n",
       "    <h2>1. Medium and High-Risk Cases</h2>\n",
       "    <h3>High-Risk (Fraud Risk Score ≥ 75)</h3>\n",
       "    <ul>\n",
       "        <li><strong>C001 (Adams)</strong> – Score: 90, Recent Purchases: Multiple SIM Cards, High-End Electronics</li>\n",
       "        <li><strong>C002 (Baker)</strong> – Score: 95, Recent Purchases: Old Phone, SIM Card – Brand A</li>\n",
       "        <li><strong>C006 (Franklin)</strong> – Score: 88, Recent Purchases: Multiple Gift Cards</li>\n",
       "        <li><strong>C011 (Keller)</strong> – Score: 90, Recent Purchases: High-End Watches</li>\n",
       "        <li><strong>C015 (Owens)</strong> – Score: 75, Recent Purchases: Foreign Currency</li>\n",
       "        <li><strong>C017 (Quinn)</strong> – Score: 82, Recent Purchases: Cryptocurrency</li>\n",
       "        <li><strong>C020 (Taylor)</strong> – Score: 92, Recent Purchases: Plane Tickets, Luxury Hotel</li>\n",
       "        <li><strong>C024 (Xie)</strong> – Score: 77, Recent Purchases: Luxury Shoes</li>\n",
       "        <li><strong>C026 (Zhang)</strong> – Score: 85, Recent Purchases: Electronics, Crypto</li>\n",
       "        <li><strong>C029 (Chan)</strong> – Score: 93, Recent Purchases: High-Value Electronics</li>\n",
       "    </ul>\n",
       "\n",
       "    <h3>Medium-Risk (Fraud Risk Score 50–74)</h3>\n",
       "    <ul>\n",
       "        <li><strong>C004 (Davis)</strong> – Score: 65, Recent Purchases: Airline Tickets</li>\n",
       "        <li><strong>C007 (Garcia)</strong> – Score: 58, Recent Purchases: Jewelry</li>\n",
       "        <li><strong>C009 (Ingram)</strong> – Score: 72, Recent Purchases: Electronics Return</li>\n",
       "        <li><strong>C013 (Miller)</strong> – Score: 53, Recent Purchases: Car Parts</li>\n",
       "        <li><strong>C019 (Sanchez)</strong> – Score: 60, Recent Purchases: Mobile Accessories</li>\n",
       "        <li><strong>C022 (Vargas)</strong> – Score: 70, Recent Purchases: Bulk Gift Cards</li>\n",
       "        <li><strong>C028 (Braun)</strong> – Score: 68, Recent Purchases: Designer Bag</li>\n",
       "    </ul>\n",
       "</div>\n",
       "\n",
       "<!-- 2. Analysis of Unstructured Transcripts for Each Medium and High-Risk Case -->\n",
       "<div class=\"risk-section\">\n",
       "    <h2>2. Analysis of Unstructured Transcripts</h2>\n",
       "\n",
       "    <h3>High-Risk Cases</h3>\n",
       "    <ul>\n",
       "        <li>\n",
       "            <strong>C001 (Adams):</strong> Email about a duplicate $499.99 charge. Customer claims they only made one purchase. No direct contradictions; requests investigation.\n",
       "        </li>\n",
       "        <li>\n",
       "            <strong>C002 (Baker):</strong> Call where the caller refused to provide SSN, demanded reversal of unauthorized charges. Heightened suspicion due to refusal of ID checks.\n",
       "        </li>\n",
       "        <li>\n",
       "            <strong>C006 (Franklin):</strong> Call transcript shows caller tried skipping identity checks, requested urgent refund of $200 without proof. Indicates possible fraud.\n",
       "        </li>\n",
       "        <li>\n",
       "            <strong>C011 (Keller):</strong> Call with aggressive refusal to answer security questions, threatened legal action if $1,000+ charges not reversed. Remains suspicious.\n",
       "        </li>\n",
       "        <li>\n",
       "            <strong>C015 (Owens):</strong> SMS about a $500 foreign currency transaction. Asking to confirm legitimacy. No contradictory statements, but still a high-risk trigger.\n",
       "        </li>\n",
       "        <li>\n",
       "            <strong>C017 (Quinn):</strong> Call with uncertain details about a $900 cryptocurrency purchase; caller gave contradictory info on location/date. Suggests heightened risk.\n",
       "        </li>\n",
       "        <li>\n",
       "            <strong>C020 (Taylor):</strong> Email from overseas location acknowledging $600 hotel and flight charges. Claims they are legitimate, but flagged as high risk due to travel.\n",
       "        </li>\n",
       "        <li>\n",
       "            <strong>C024 (Xie):</strong> Email stating $450 luxury shoe purchase is valid (for work travel). Remains high risk given purchase profile; no proof or contradiction provided.\n",
       "        </li>\n",
       "        <li>\n",
       "            <strong>C026 (Zhang):</strong> SMS about a $750 laptop purchase flagged due to new shipping address. Customer insists it is legitimate but remains under high-risk scrutiny.\n",
       "        </li>\n",
       "        <li>\n",
       "            <strong>C029 (Chan):</strong> Chat ended abruptly after customer refused to verify $1,500 electronics purchase. Location mismatch. Strongly suspicious behavior.\n",
       "        </li>\n",
       "    </ul>\n",
       "\n",
       "    <h3>Medium-Risk Cases</h3>\n",
       "    <ul>\n",
       "        <li>\n",
       "            <strong>C004 (Davis):</strong> Call about a $350 airfare dispute. Customer later admitted it was legitimate for an upcoming trip, suggesting initial dispute was confusion.\n",
       "        </li>\n",
       "        <li>\n",
       "            <strong>C007 (Garcia):</strong> Email alleging ID theft for a $2,000 jewelry purchase in another state. Denies authorizing the transaction; no contradictory info found.\n",
       "        </li>\n",
       "        <li>\n",
       "            <strong>C009 (Ingram):</strong> Chat denying travel out of state for a transaction in Florida. Customer denies any such trip. Could be fraudulent or mistaken identity.\n",
       "        </li>\n",
       "        <li>\n",
       "            <strong>C013 (Miller):</strong> Call uncertain about a $120 car part brand. The customer recalls ordering “something” but details are fuzzy. Moderate suspicion remains.\n",
       "        </li>\n",
       "        <li>\n",
       "            <strong>C019 (Sanchez):</strong> Call where customer is confused about $50 accessory charges. Possibly a family member used the card. Unclear but still flagged medium risk.\n",
       "        </li>\n",
       "        <li>\n",
       "            <strong>C022 (Vargas):</strong> Email inquiring about purchasing ten $100 gift cards in one transaction. Unusual bulk purchase. Remains under medium-risk investigation.\n",
       "        </li>\n",
       "        <li>\n",
       "            <strong>C028 (Braun):</strong> Call initially claimed identity theft on a $400 purchase, then changed the story saying a friend borrowed the card. Contradictory explanation.\n",
       "        </li>\n",
       "    </ul>\n",
       "</div>\n",
       "\n",
       "<!-- 3. & 4. Detecting False Positives and Table -->\n",
       "<div class=\"risk-section\">\n",
       "    <h2>3. False Positives Analysis</h2>\n",
       "    <p>\n",
       "        After examining transcripts for contradictions or legitimate explanations, only one case appears to be a clear false positive:\n",
       "    </p>\n",
       "\n",
       "    <table class=\"false-positive-table\">\n",
       "        <thead>\n",
       "            <tr>\n",
       "                <th>Customer ID</th>\n",
       "                <th>Reason Flagged as Suspicious</th>\n",
       "                <th>Reason for False Positive</th>\n",
       "            </tr>\n",
       "        </thead>\n",
       "        <tbody>\n",
       "            <tr>\n",
       "                <td>C004 (Davis)</td>\n",
       "                <td>$350 airfare charge dispute; transaction triggered a medium-risk alert.</td>\n",
       "                <td>Customer later admitted to booking the flight for next month. The confusion over posting date caused the initial dispute, which turned out to be a legitimate purchase.</td>\n",
       "            </tr>\n",
       "        </tbody>\n",
       "    </table>\n",
       "</div>\n",
       "\n",
       "<!-- 5. Plain-Text Summary -->\n",
       "<div class=\"report\">\n",
       "    <h3>Plain-Text Summary of Findings</h3>\n",
       "    <p>\n",
       "        After reviewing the transactions and associated transcripts, the following observations were made:\n",
       "    </p>\n",
       "    <p>\n",
       "        • High-risk customers generally showed patterns such as refusing standard security checks, insisting on immediate refunds without proof, or showing contradictory travel or purchase details.  \n",
       "        • Medium-risk customers raised concerns due to unusual purchases, partial recall of transactions, or purchases typical of fraud patterns (e.g., bulk gift cards).  \n",
       "        • One notable false positive was Customer C004, who initially disputed airfare charges but later acknowledged the purchase. This confusion was misinterpreted as fraud.  \n",
       "        • No other medium or high-risk cases showed clear contradictions or final notes indicating a legitimate explanation for the flagged risk.  \n",
       "        • Thus, only one clear false positive (C004) was identified. All other cases remain under suspicion or require further investigation.\n",
       "    </p>\n",
       "</div>\n",
       "\n",
       "</body>\n",
       "</html>"
      ],
      "text/plain": [
       "<IPython.core.display.Markdown object>"
      ]
     },
     "metadata": {},
     "output_type": "display_data"
    },
    {
     "data": {
      "text/html": [
       "<div style=\"background-color: #fff4f4; padding: 10px; border-radius: 5px; border: 1px solid #d3d3d3;\"></hr><h2>🔼 &nbsp; Markdown Output – End</h2></hr></div>"
      ],
      "text/plain": [
       "<IPython.core.display.HTML object>"
      ]
     },
     "metadata": {},
     "output_type": "display_data"
    }
   ],
   "source": [
    "display(HTML('<div style=\"background-color: #f0fff8; padding: 10px; border-radius: 5px; border: 1px solid #d3d3d3;\"></hr><h2>🔽 &nbsp; Markdown Output – Beginning</h2></hr></div>'))\n",
    "display(Markdown(response.choices[0].message.content))\n",
    "display(HTML('<div style=\"background-color: #fff4f4; padding: 10px; border-radius: 5px; border: 1px solid #d3d3d3;\"></hr><h2>🔼 &nbsp; Markdown Output – End</h2></hr></div>'))"
   ]
  },
  {
   "cell_type": "code",
   "execution_count": null,
   "metadata": {},
   "outputs": [
    {
     "name": "stdout",
     "output_type": "stream",
     "text": [
      "HTML content has been written to fraud_analysis.html\n"
     ]
    }
   ],
   "source": [
    "html_content_o1 = response.choices[0].message.content\n",
    "\n",
    "# Define the file path where you want to save the HTML content\n",
    "file_path = 'Output/fraud_analysis_o1.html'\n",
    "\n",
    "# Write the HTML content to the file\n",
    "with open(file_path, 'w', encoding='utf-8') as file:\n",
    "    file.write(html_content_o1)\n",
    "\n",
    "print(f\"HTML content has been written to {file_path}\")"
   ]
  },
  {
   "cell_type": "markdown",
   "metadata": {},
   "source": [
    "## Using GPT-4o for Fraud Analysis\n"
   ]
  },
  {
   "cell_type": "code",
   "execution_count": null,
   "metadata": {},
   "outputs": [
    {
     "name": "stdout",
     "output_type": "stream",
     "text": [
      "HTML content has been written to fraud_analysis_gpt4o.html\n"
     ]
    }
   ],
   "source": [
    "response_gpt4o = client.chat.completions.create(model=\"gpt-4o\", \n",
    "                                          messages=messages)\n",
    "\n",
    "html_content_gpt4o = response_gpt4o.choices[0].message.content\n",
    "\n",
    "# Define the file path where you want to save the HTML content\n",
    "file_path = 'Output/fraud_analysis_gpt4o.html'\n",
    "\n",
    "# Write the HTML content to the file\n",
    "with open(file_path, 'w', encoding='utf-8') as file:\n",
    "    file.write(html_content_gpt4o)\n",
    "\n",
    "print(f\"HTML content has been written to {file_path}\")\n"
   ]
  },
  {
   "cell_type": "markdown",
   "metadata": {},
   "source": [
    "## Conclusion\n",
    "\n",
    "In scenarios involving thousands of alerts, o3-mini models can be leveraged for initial bulk data analysis to narrow down the alerts to a manageable subset. Subsequently, more advanced models like o1 can be utilized to scrutinize these alerts, enabling a more cost-efficient and accurate workflow. This layered approach optimizes resource allocation and enhances the precision of fraud detection."
   ]
  }
 ],
 "metadata": {
  "kernelspec": {
   "display_name": "base",
   "language": "python",
   "name": "python3"
  },
  "language_info": {
   "codemirror_mode": {
    "name": "ipython",
    "version": 3
   },
   "file_extension": ".py",
   "mimetype": "text/x-python",
   "name": "python",
   "nbconvert_exporter": "python",
   "pygments_lexer": "ipython3",
   "version": "3.11.7"
  }
 },
 "nbformat": 4,
 "nbformat_minor": 2
}
